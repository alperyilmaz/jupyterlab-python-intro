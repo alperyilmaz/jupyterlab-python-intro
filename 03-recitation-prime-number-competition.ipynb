{
 "cells": [
  {
   "cell_type": "markdown",
   "id": "f5757fa8-f216-466e-910a-6efb69a0e83e",
   "metadata": {},
   "source": [
    "## Exercises about loop and functions\n",
    "\n",
    "Let's search for *\"python exercise loop and if\"* online and check some of the sites. The following questions are from the [first result](https://pynative.com/python-if-else-and-for-loop-exercise-with-solutions/)\n",
    "\n",
    "**Q1.** Write a function which calculates sum all numbers from 1 to given number."
   ]
  },
  {
   "cell_type": "code",
   "execution_count": null,
   "id": "c5563a3c-cd3c-4c00-883a-2622fb4466e6",
   "metadata": {},
   "outputs": [],
   "source": [
    "# fill in the blanks\n",
    "def sum_n(number):\n",
    "    my_sum = 0\n",
    "    for n in range(1,...):\n",
    "        ...\n",
    "    return my_sum"
   ]
  },
  {
   "cell_type": "code",
   "execution_count": null,
   "id": "88d1d48e-de8d-4e65-bda5-6780065554c2",
   "metadata": {},
   "outputs": [],
   "source": [
    "# then use sum_n(10) or sum_n(100) to check your function\n",
    "sum_n(10)"
   ]
  },
  {
   "cell_type": "markdown",
   "id": "352cc881-001f-48bc-afc4-440c9aeafe4d",
   "metadata": {},
   "source": [
    "**Q2**. Write a program to print the following number pattern using a loop.\n",
    "```\n",
    "1 \n",
    "1 2 \n",
    "1 2 3 \n",
    "1 2 3 4 \n",
    "1 2 3 4 5\n",
    "```"
   ]
  },
  {
   "cell_type": "code",
   "execution_count": null,
   "id": "18890899-b0ee-402e-a7fd-b79d9d273354",
   "metadata": {},
   "outputs": [],
   "source": [
    "# fill in the blanks\n",
    "for i in range(1,...):\n",
    "    for j in range(1,...):\n",
    "        print(..., end=\" \")\n",
    "    print(\"\")"
   ]
  },
  {
   "cell_type": "markdown",
   "id": "4beb424c-39a8-4e93-9941-3b48c0d48018",
   "metadata": {},
   "source": [
    "**Q2-b**. Write a program to print the following number pattern using a loop.\n",
    "```\n",
    "5 4 3 2 1 \n",
    "4 3 2 1 \n",
    "3 2 1 \n",
    "2 1 \n",
    "1\n",
    "```"
   ]
  },
  {
   "cell_type": "code",
   "execution_count": null,
   "id": "2396be0e-0350-4360-872c-ca991a508a89",
   "metadata": {},
   "outputs": [],
   "source": [
    "# write your code here\n"
   ]
  },
  {
   "cell_type": "markdown",
   "id": "d243c035-3170-4fc9-b396-40d36c802558",
   "metadata": {},
   "source": [
    "**Q3**. Find the factorial of a given number using *for* loop. For example `n=10`"
   ]
  },
  {
   "cell_type": "code",
   "execution_count": null,
   "id": "7574626d-a9d9-4dc4-b340-f132093a4efa",
   "metadata": {},
   "outputs": [],
   "source": [
    "n=10\n",
    "\n",
    "# write your code below, the result should be 3628800, not 362880 !\n"
   ]
  },
  {
   "cell_type": "markdown",
   "id": "0c441cc6-d9ef-4893-99ed-1382ebdf2c96",
   "metadata": {},
   "source": [
    "## Fastest prime number competition\n",
    "\n",
    "Let's find the fastest algoritm online\n",
    "\n",
    "| Student No | Website | Time |\n",
    "|------------|----------|-----|\n",
    "| function from lecture |     | 248 µs ± 1.42 µs |\n"
   ]
  },
  {
   "cell_type": "markdown",
   "id": "e823a767-173d-4c50-b794-7bf1024ca990",
   "metadata": {},
   "source": [
    "Let's use \"7919\" as prime number."
   ]
  },
  {
   "cell_type": "code",
   "execution_count": null,
   "id": "aa5b123a-14cb-455c-914e-c9302f3c2588",
   "metadata": {},
   "outputs": [],
   "source": [
    "# here's the template\n",
    "\n",
    "# def yourfunction(...)\n",
    "#     your copy pasted function goes here\n",
    "\n",
    "# then benchmark it\n",
    "\n",
    "# %timeit yourfunction(7919)"
   ]
  },
  {
   "cell_type": "code",
   "execution_count": null,
   "id": "08dd33c2-0c5a-4d2c-a5b2-880b615da805",
   "metadata": {},
   "outputs": [],
   "source": [
    "# send your result in chat.. privately.. and then we'll update the table above"
   ]
  },
  {
   "cell_type": "code",
   "execution_count": null,
   "id": "497f5b5e-a0ce-41c6-8f4d-d3ea3514b438",
   "metadata": {},
   "outputs": [],
   "source": [
    "def example_function_from_lecture(n):\n",
    "    if n < 2:\n",
    "        return False\n",
    "    if n == 2:\n",
    "        return True\n",
    "    right_numbers = range(3, n // 2, 2)\n",
    "    for right in right_numbers:\n",
    "        result = n % right\n",
    "        if result == 0:         \n",
    "            return False\n",
    "    return True"
   ]
  },
  {
   "cell_type": "code",
   "execution_count": null,
   "id": "51516a8f-0949-4223-a9e1-af46d9612b7c",
   "metadata": {},
   "outputs": [],
   "source": [
    "%timeit example_function_from_lecture(7919)"
   ]
  }
 ],
 "metadata": {
  "kernelspec": {
   "display_name": "Python 3 (ipykernel)",
   "language": "python",
   "name": "python3"
  },
  "language_info": {
   "codemirror_mode": {
    "name": "ipython",
    "version": 3
   },
   "file_extension": ".py",
   "mimetype": "text/x-python",
   "name": "python",
   "nbconvert_exporter": "python",
   "pygments_lexer": "ipython3",
   "version": "3.10.11"
  }
 },
 "nbformat": 4,
 "nbformat_minor": 5
}
