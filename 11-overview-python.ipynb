{
 "cells": [
  {
   "cell_type": "markdown",
   "metadata": {},
   "source": [
    "# Overview of Python"
   ]
  },
  {
   "cell_type": "markdown",
   "metadata": {},
   "source": [
    "We learned **a little** Python in our course, we just scratched the surface. As a programming language Python has lots of capabilities and consequently wide-spread use. \n",
    "\n",
    "In this overview, we'll demonstrate uses of Python in different fields.\n",
    "\n",
    "* Scientific computing (in addition to NumPy)\n",
    "  * SciPy\n",
    "  * SymPy\n",
    "  * NetworkX\n",
    "  * Image processing\n",
    "* Data science\n",
    "  * Pandas\n",
    "  * Bokeh\n",
    "* Machine learning / deep learning\n",
    "* Web content and web apps\n",
    "  * Django\n",
    "  * Flask\n",
    "* Dask: Scalable analytics in Python\n",
    "* Bioinformatics\n",
    "  * BioPython"
   ]
  },
  {
   "cell_type": "markdown",
   "metadata": {},
   "source": [
    "# Scientific computing\n",
    "\n",
    "Here is the ecosystem of Python scientific computing.\n",
    "\n",
    "![](images/scipy-eco.png)\n",
    "\n",
    "[image source](https://www.datacamp.com/community/blog/python-scientific-computing-case)\n",
    "\n",
    "As you can notice, there many packages for scientific computing. We are somewhat familiar with NumPy, which is an essential package not only in scientific computing but also in data science, machine learning, etc.\n",
    "\n",
    "Now let's go over some packages briefly."
   ]
  },
  {
   "cell_type": "markdown",
   "metadata": {},
   "source": [
    "## SciPy"
   ]
  },
  {
   "cell_type": "markdown",
   "metadata": {},
   "source": [
    "[SciPy](https://www.scipy.org/) is a Python-based ecosystem of open-source software for mathematics, science, and engineering. \n",
    "\n",
    "Please go over the reference manual and [tutorial page](https://docs.scipy.org/doc/scipy/reference/tutorial/index.html)."
   ]
  },
  {
   "cell_type": "markdown",
   "metadata": {},
   "source": [
    "## SymPy\n",
    "\n",
    "[SymPy](https://www.sympy.org/en/index.html) is a Python library for symbolic mathematics. The [features page](https://www.sympy.org/en/features.html) summarizes the capabilities of this library.\n",
    "\n",
    "Below is a small example."
   ]
  },
  {
   "cell_type": "code",
   "execution_count": null,
   "metadata": {},
   "outputs": [],
   "source": [
    "from sympy import *\n",
    "x, y, z, t = symbols('x y z t')\n",
    "expand((x + 2)*(x - 3))"
   ]
  },
  {
   "cell_type": "code",
   "execution_count": null,
   "metadata": {},
   "outputs": [],
   "source": [
    "factor(x**3 - x**2 + x - 1)"
   ]
  },
  {
   "cell_type": "code",
   "execution_count": null,
   "metadata": {},
   "outputs": [],
   "source": [
    "cancel((x**2 + 2*x + 1)/(x**2 + x))"
   ]
  },
  {
   "cell_type": "markdown",
   "metadata": {},
   "source": [
    "Solving equations is also possible"
   ]
  },
  {
   "cell_type": "code",
   "execution_count": null,
   "metadata": {},
   "outputs": [],
   "source": [
    "from sympy.solvers import solve\n",
    "from sympy import Symbol\n",
    "x = Symbol('x')\n",
    "solve(x**2 - 1, x)"
   ]
  },
  {
   "cell_type": "markdown",
   "metadata": {},
   "source": [
    "## NetworkX\n",
    "\n",
    "[NetworkX](https://networkx.github.io/) is a Python package for the creation, manipulation, and study of the structure, dynamics, and functions of complex networks."
   ]
  },
  {
   "cell_type": "code",
   "execution_count": null,
   "metadata": {},
   "outputs": [],
   "source": [
    "%matplotlib inline\n",
    "import matplotlib.pyplot as plt\n",
    "import networkx as nx\n",
    "\n",
    "\n",
    "G = nx.random_geometric_graph(200, 0.125)\n",
    "# position is stored as node attribute data for random_geometric_graph\n",
    "pos = nx.get_node_attributes(G, 'pos')\n",
    "\n",
    "# find node near center (0.5,0.5)\n",
    "dmin = 1\n",
    "ncenter = 0\n",
    "for n in pos:\n",
    "    x, y = pos[n]\n",
    "    d = (x - 0.5)**2 + (y - 0.5)**2\n",
    "    if d < dmin:\n",
    "        ncenter = n\n",
    "        dmin = d\n",
    "\n",
    "# color by path length from node near center\n",
    "p = dict(nx.single_source_shortest_path_length(G, ncenter))\n",
    "\n",
    "plt.figure(figsize=(8, 8))\n",
    "nx.draw_networkx_edges(G, pos, nodelist=[ncenter], alpha=0.4)\n",
    "nx.draw_networkx_nodes(G, pos, nodelist=list(p.keys()),\n",
    "                       node_size=80,\n",
    "                       node_color=list(p.values()),\n",
    "                       cmap=plt.cm.Reds_r)\n",
    "\n",
    "plt.xlim(-0.05, 1.05)\n",
    "plt.ylim(-0.05, 1.05)\n",
    "plt.axis('off')\n",
    "plt.show()"
   ]
  },
  {
   "cell_type": "markdown",
   "metadata": {},
   "source": [
    "## Image processing"
   ]
  },
  {
   "cell_type": "markdown",
   "metadata": {},
   "source": [
    "**Face recognition** : By the help of `opencv` package it's easy to do image processing on images. Face recognition is a neat example."
   ]
  },
  {
   "cell_type": "code",
   "execution_count": null,
   "metadata": {},
   "outputs": [],
   "source": [
    "import cv2\n",
    "from matplotlib import pyplot as plt\n",
    "\n",
    "# Create the haar cascade\n",
    "cascPath = \"data/haarcascade_frontalface_default.xml\"\n",
    "faceCascade = cv2.CascadeClassifier(cascPath)"
   ]
  },
  {
   "cell_type": "code",
   "execution_count": null,
   "metadata": {},
   "outputs": [],
   "source": [
    "# Read the image\n",
    "image = cv2.imread(\"images/SolvayConference1927.jpg\")\n",
    "gray = cv2.cvtColor(image, cv2.COLOR_BGR2GRAY)"
   ]
  },
  {
   "cell_type": "code",
   "execution_count": null,
   "metadata": {},
   "outputs": [],
   "source": [
    "# Detect faces in the image\n",
    "faces = faceCascade.detectMultiScale(\n",
    "    gray,\n",
    "    scaleFactor=1.2,\n",
    "    minNeighbors=5,\n",
    "    minSize=(30, 30),\n",
    "    flags=cv2.CASCADE_SCALE_IMAGE\n",
    ")"
   ]
  },
  {
   "cell_type": "code",
   "execution_count": null,
   "metadata": {},
   "outputs": [],
   "source": [
    "print(\"Found {0} faces!\".format(len(faces)))\n",
    "\n",
    "# Draw a rectangle around the faces\n",
    "for (x, y, w, h) in faces:\n",
    "    cv2.rectangle(image, (x, y), (x+w, y+h), (0, 255, 0), 2)"
   ]
  },
  {
   "cell_type": "code",
   "execution_count": null,
   "metadata": {},
   "outputs": [],
   "source": [
    "plt.figure(figsize = (20,10))\n",
    "plt.imshow(image)\n",
    "plt.title('Solvay Conference')\n",
    "plt.show()"
   ]
  },
  {
   "cell_type": "markdown",
   "metadata": {},
   "source": [
    "Please visit [this page](https://rarehistoricalphotos.com/solvay-conference-probably-intelligent-picture-ever-taken-1927/) for the attendees of the conference.\n",
    "\n",
    "> Can you fix the false detection (third from left, sitting) by adjusting `scaleFactor` or other parameters?"
   ]
  },
  {
   "cell_type": "markdown",
   "metadata": {},
   "source": [
    "**Image processing with scikit-image**: This package contains many functions for image processing. Below is an example for *edge detection*"
   ]
  },
  {
   "cell_type": "code",
   "execution_count": null,
   "metadata": {},
   "outputs": [],
   "source": [
    "from skimage import data, io, filters\n",
    "\n",
    "image = data.coins()\n",
    "io.imshow(image)\n",
    "io.show()\n"
   ]
  },
  {
   "cell_type": "code",
   "execution_count": null,
   "metadata": {},
   "outputs": [],
   "source": [
    "edges = filters.sobel(image)\n",
    "io.imshow(edges)\n",
    "io.show()"
   ]
  },
  {
   "cell_type": "markdown",
   "metadata": {},
   "source": [
    "# Data science\n",
    "\n",
    "Python is also very prominent in field of data science. Here's the list of packages grouped by different steps of data analysis.\n",
    "\n",
    "![](images/py-data-science.png)"
   ]
  },
  {
   "cell_type": "markdown",
   "metadata": {},
   "source": [
    "## Pandas\n",
    "\n",
    "[Pandas](https://pandas.pydata.org/) pandas is an open source library providing high-performance, easy-to-use data structures and data analysis tools for the Python programming language. Pandas is an essential library for data science.\n",
    "\n",
    "Here's a glimpse of what Pandas can do."
   ]
  },
  {
   "cell_type": "code",
   "execution_count": null,
   "metadata": {},
   "outputs": [],
   "source": [
    "import pandas as pd\n",
    "import numpy as np"
   ]
  },
  {
   "cell_type": "code",
   "execution_count": null,
   "metadata": {},
   "outputs": [],
   "source": [
    "df = pd.read_csv(\"data/OfficeSupplies.csv\")"
   ]
  },
  {
   "cell_type": "code",
   "execution_count": null,
   "metadata": {},
   "outputs": [],
   "source": [
    "df.head()"
   ]
  },
  {
   "cell_type": "markdown",
   "metadata": {},
   "source": [
    "Let's try to find out\n",
    "\n",
    "* What rep sold the most?\n",
    "* What region sold the most?"
   ]
  },
  {
   "cell_type": "code",
   "execution_count": null,
   "metadata": {},
   "outputs": [],
   "source": [
    "# who sold the most\n",
    "df.groupby([\"Rep\"]).sum(\"Units\").sort_values(\"Units\", ascending=False)"
   ]
  },
  {
   "cell_type": "code",
   "execution_count": null,
   "metadata": {},
   "outputs": [],
   "source": [
    "df[\"Total Price\"] = df[\"Units\"] * df[\"Unit Price\"]\n",
    "df.head()"
   ]
  },
  {
   "cell_type": "code",
   "execution_count": null,
   "metadata": {},
   "outputs": [],
   "source": [
    "# who sold the most in total dollar amount\n",
    "df.groupby(\"Rep\").sum(\"Total Price\").sort_values(\"Total Price\", ascending=False).head()"
   ]
  },
  {
   "cell_type": "code",
   "execution_count": null,
   "metadata": {},
   "outputs": [],
   "source": [
    "# what region sold the most\n",
    "group = df.groupby([\"Region\",\"Rep\"]).sum(\"Total Price\")\n",
    "total_price = group[\"Total Price\"].groupby(level=0, group_keys=False)\n",
    "total_price.nlargest(5)"
   ]
  },
  {
   "cell_type": "markdown",
   "metadata": {},
   "source": [
    "## Bokeh\n",
    "\n",
    "Visualization is a must for data science to explore the data and to communicate the findings. `matplotlib` is used for visualization but it generates static images. If you need interactive plots then Bokeh is the library to go. Bokeh is an interactive visualization library that targets modern web browsers for presentation. \n",
    "\n",
    "Please visit [its gallery](https://bokeh.pydata.org/en/latest/docs/gallery.html) for stunning examples."
   ]
  },
  {
   "cell_type": "code",
   "execution_count": null,
   "metadata": {},
   "outputs": [],
   "source": [
    "import numpy as np\n",
    "\n",
    "from bokeh.io import output_notebook, show\n",
    "from bokeh.models import HoverTool\n",
    "from bokeh.plotting import figure\n",
    "output_notebook()"
   ]
  },
  {
   "cell_type": "code",
   "execution_count": null,
   "metadata": {},
   "outputs": [],
   "source": [
    "n = 500\n",
    "x = 2 + 2*np.random.standard_normal(n)\n",
    "y = 2 + 2*np.random.standard_normal(n)\n",
    "\n",
    "p = figure(title=\"Hexbin for 500 points\", match_aspect=True,\n",
    "           tools=\"wheel_zoom,reset\", background_fill_color='#440154')\n",
    "p.grid.visible = False\n",
    "\n",
    "r, bins = p.hexbin(x, y, size=0.5, hover_color=\"pink\", hover_alpha=0.8)\n",
    "\n",
    "p.circle(x, y, color=\"white\", size=1)\n",
    "\n",
    "p.add_tools(HoverTool(\n",
    "    tooltips=[(\"count\", \"@c\"), (\"(q,r)\", \"(@q, @r)\")],\n",
    "    mode=\"mouse\", point_policy=\"follow_mouse\", renderers=[r]\n",
    "))\n",
    "\n",
    "show(p)"
   ]
  },
  {
   "cell_type": "code",
   "execution_count": null,
   "metadata": {},
   "outputs": [],
   "source": [
    "from bokeh.models import ColumnDataSource\n",
    "from bokeh.layouts import gridplot\n",
    "from bokeh.sampledata.autompg import autompg\n",
    "\n",
    "source = ColumnDataSource(autompg)\n",
    "\n",
    "options = dict(width=300, height=300,\n",
    "               tools=\"pan,wheel_zoom,box_zoom,box_select,lasso_select\")\n",
    "\n",
    "p1 = figure(title=\"MPG by Year\", **options)\n",
    "p1.circle(\"yr\", \"mpg\", color=\"blue\", source=source)\n",
    "\n",
    "p2 = figure(title=\"HP vs. Displacement\", **options)\n",
    "p2.circle(\"hp\", \"displ\", color=\"green\", source=source)\n",
    "\n",
    "p3 = figure(title=\"MPG vs. Displacement\", **options)\n",
    "p3.circle(\"mpg\", \"displ\", size=\"cyl\", line_color=\"red\", fill_color=None, source=source)\n",
    "\n",
    "p = gridplot([[ p1, p2, p3]], toolbar_location=\"right\")\n",
    "\n",
    "show(p)"
   ]
  },
  {
   "cell_type": "markdown",
   "metadata": {},
   "source": [
    "# Machine learning / Deep learning"
   ]
  },
  {
   "cell_type": "markdown",
   "metadata": {},
   "source": [
    "[Tensorflow](https://www.tensorflow.org/) and [PyTorch](https://pytorch.org/) frameworks are used for Deep Learning/Machine Learning.\n",
    "\n",
    "Below are two notebooks demonstrating deep learning approaches (they will run in Google Colab).\n",
    "\n",
    "* [mnist example](https://colab.research.google.com/drive/1rWbhvaRQUDK1Nu79RH570UMqMKpMkhMP)\n",
    "* [fashion-mnist example](https://colab.research.google.com/drive/1fmWvLdV1QOx1rvDlVwizeIXIY3A-MNEk)\n"
   ]
  },
  {
   "cell_type": "markdown",
   "metadata": {},
   "source": [
    "# Web Content and Web Apps via API\n",
    "\n",
    "## Generate web content\n",
    "\n",
    "Making web pages by writing html code manually is not scalable. Thus there are many languages which generates the html code programatically. PHP is one of them. Python has the similar ability, thanks to [Django](https://www.djangoproject.com/) module. \n",
    "\n",
    "Suppose you connected to a database and did a query. If you want to show the results in webpage, a small template (or view) shown below can be used to generate the content:\n",
    "\n",
    "```html\n",
    "<table>\n",
    "    <tr>\n",
    "        <th>Field 1</th>\n",
    "        ...\n",
    "        <th>Field N</th>\n",
    "    </tr>\n",
    "    {% for item in query_results %}\n",
    "    <tr> \n",
    "        <td>{{ item.field1 }}</td>\n",
    "        ...\n",
    "        <td>{{ item.fieldN }}</td>\n",
    "    </tr>\n",
    "    {% endfor %}\n",
    "</table>\n",
    "```\n",
    "\n",
    "As you can see, Python code can be used to programatically generate a table (or any other html structure) using loops."
   ]
  },
  {
   "cell_type": "markdown",
   "metadata": {},
   "source": [
    "## API\n",
    "\n",
    "If you are just sharing data then you don't need to design or generate html view. Users can send their input or query and then receive output or result in plain text. Most of data intensive websites have APIs for that reason. API stands for [Application Programming Interfaces](https://en.wikipedia.org/wiki/Application_programming_interface).\n",
    "\n",
    "Before using an API, let's see output or regular HTML page. Here's the content returned by http://google.com"
   ]
  },
  {
   "cell_type": "code",
   "execution_count": null,
   "metadata": {},
   "outputs": [],
   "source": [
    "import requests\n",
    "import json\n",
    "google = requests.get(\"https://www.google.com/\")"
   ]
  },
  {
   "cell_type": "code",
   "execution_count": null,
   "metadata": {
    "tags": []
   },
   "outputs": [],
   "source": [
    "google.text[0:500]"
   ]
  },
  {
   "cell_type": "markdown",
   "metadata": {},
   "source": [
    "Regular HTML page has html code and javascript code which is required for rendering the page by the browser. Here's an example for a simple API output:"
   ]
  },
  {
   "cell_type": "code",
   "execution_count": null,
   "metadata": {},
   "outputs": [],
   "source": [
    "currency = requests.get(\"http://api.exchangeratesapi.io/v1/latest?access_key=571435552d0acaed7bc68b46c3604d9f&symbols=USD,TRY&format=1\")\n",
    "currency.json()"
   ]
  },
  {
   "cell_type": "markdown",
   "metadata": {},
   "source": [
    "As you can see, API output is just data, no html code is involved.\n",
    "\n",
    "Let's give another example. OMDb is open source movie database and it provides public API. We can search for movies or get detailed information about a movie if movie_id is provided. The [API page](http://www.omdbapi.com/#usage) describes parameters and provides examples. Let's search for \"The Matrix\"."
   ]
  },
  {
   "cell_type": "code",
   "execution_count": null,
   "metadata": {},
   "outputs": [],
   "source": [
    "omdb = requests.get(\"http://www.omdbapi.com/?t=The+Matrix&y=1999&apikey=291b688d\")"
   ]
  },
  {
   "cell_type": "code",
   "execution_count": null,
   "metadata": {},
   "outputs": [],
   "source": [
    "print(json.dumps(omdb.json(),indent=2))"
   ]
  },
  {
   "cell_type": "markdown",
   "metadata": {},
   "source": [
    "Most APIs return JSON objects which is plain text and can be parsed with most languages. Especially in web apps, handling JSON data with Javascript libraries is quite simple. So, API democratizes the data. It can be consumed by any programmer or used as-is by the browser. If you visit the [URL](http://www.omdbapi.com/?t=The+Matrix&y=1999&apikey=291b688d) to your browser you can see the results in your browser.\n",
    "\n",
    "As you might have noticed, JSON object is similar to Python dictionaries. Let's get the imdb rating for the movie:"
   ]
  },
  {
   "cell_type": "code",
   "execution_count": null,
   "metadata": {},
   "outputs": [],
   "source": [
    "omdb.json()['imdbRating']"
   ]
  },
  {
   "cell_type": "markdown",
   "metadata": {},
   "source": [
    "JSON object can be nested and rich in context. Let's get Rotten Tomatoes rating this time. The keys is 'Ratings' which refers to a list and that list is list of dictionaries and Rotten Tomatoes is the second source."
   ]
  },
  {
   "cell_type": "code",
   "execution_count": null,
   "metadata": {},
   "outputs": [],
   "source": [
    "omdb.json()['Ratings'][1]['Value']"
   ]
  },
  {
   "cell_type": "markdown",
   "metadata": {},
   "source": [
    "## Turn an existing function into an API\n",
    "\n",
    "The [Flask](https://palletsprojects.com/p/flask/) package helps turning an existing Python function into an API. In other words, your function can be accessed by anybody (provided that a server is configured)\n",
    "\n",
    "Remember the `isPrime()` function, let's make it public:\n",
    "\n",
    "```python\n",
    "from flask import Flask\n",
    "from flask_restplus import Resource, Api, fields\n",
    "\n",
    "@api.route('/isPrime/<number>')\n",
    "class isPrime(Resource):\n",
    "    def get(self, number):\n",
    "        number=int(number)\n",
    "        return number > 1 and all(number % i for i in range(2, int(number**0.5) + 1))\n",
    "```\n",
    "\n",
    "As you can see, by just adding a decorator (`@`) before the function, we can turn the function into an API.\n",
    "\n",
    "Let's see it in action:"
   ]
  },
  {
   "cell_type": "code",
   "execution_count": null,
   "metadata": {},
   "outputs": [],
   "source": [
    "import requests\n",
    "#data = requests.get(\"https://barebone-serverless-flask-api-zeit-now.alperyilmaz.now.sh/isPrime/982451653\")\n",
    "data = requests.get(\"https://ojncui8s6l.execute-api.us-west-2.amazonaws.com/api/isPrime/3\")\n",
    "data.json()"
   ]
  },
  {
   "cell_type": "markdown",
   "metadata": {
    "tags": []
   },
   "source": [
    "# DASK\n",
    "\n",
    "![dask-intro](images/dask-intro.png)\n",
    "\n",
    "Can utilize thousands of clusters or threads in local computer\n",
    "\n",
    "![grid](images/grid_search_schedule.gif)"
   ]
  },
  {
   "cell_type": "markdown",
   "metadata": {},
   "source": [
    "[link](https://mybinder.org/v2/gh/dask/dask-examples/master?urlpath=lab/tree/array.ipynb) for binder notebook"
   ]
  },
  {
   "cell_type": "markdown",
   "metadata": {},
   "source": [
    "## VAEX\n",
    "\n",
    "processing billion rows in your laptop computer. Plese visit its [home page](https://vaex.io/docs/index.html#)"
   ]
  },
  {
   "cell_type": "markdown",
   "metadata": {},
   "source": [
    "## Numba\n",
    "\n",
    "Please visit [main page](https://numba.pydata.org/) for more information.\n",
    "\n",
    "> Numba is an open source JIT compiler that translates a subset of Python and NumPy code into fast machine code. \n"
   ]
  },
  {
   "cell_type": "code",
   "execution_count": null,
   "metadata": {},
   "outputs": [],
   "source": [
    "from numba import jit\n",
    "import numpy as np\n",
    "import random"
   ]
  },
  {
   "cell_type": "code",
   "execution_count": null,
   "metadata": {},
   "outputs": [],
   "source": [
    "def monte_carlo_pi(nsamples):\n",
    "    acc = 0\n",
    "    for i in range(nsamples):\n",
    "        x = random.random()\n",
    "        y = random.random()\n",
    "        if (x ** 2 + y ** 2) < 1.0:\n",
    "            acc += 1\n",
    "    return 4.0 * acc / nsamples"
   ]
  },
  {
   "cell_type": "code",
   "execution_count": null,
   "metadata": {},
   "outputs": [],
   "source": [
    "%%timeit\n",
    "monte_carlo_pi(10_000_000)"
   ]
  },
  {
   "cell_type": "code",
   "execution_count": null,
   "metadata": {},
   "outputs": [],
   "source": [
    "@jit(nopython=True)\n",
    "def monte_carlo_pi_numba(nsamples):\n",
    "    acc = 0\n",
    "    for i in range(nsamples):\n",
    "        x = random.random()\n",
    "        y = random.random()\n",
    "        if (x ** 2 + y ** 2) < 1.0:\n",
    "            acc += 1\n",
    "    return 4.0 * acc / nsamples"
   ]
  },
  {
   "cell_type": "code",
   "execution_count": null,
   "metadata": {},
   "outputs": [],
   "source": [
    "monte_carlo_pi_numba(1000)"
   ]
  },
  {
   "cell_type": "code",
   "execution_count": null,
   "metadata": {},
   "outputs": [],
   "source": [
    "%%timeit\n",
    "monte_carlo_pi_numba(10_000_000)"
   ]
  },
  {
   "cell_type": "markdown",
   "metadata": {
    "tags": []
   },
   "source": [
    "# Bioinformatics"
   ]
  },
  {
   "cell_type": "markdown",
   "metadata": {},
   "source": [
    "from Bio.Seq import Seq[BioPython](https://biopython.org/) is used for biological computation and bioinformatics. Please visit [another Jupyter notebook](http://bitly.com/biopython-jupyter) for examples."
   ]
  },
  {
   "cell_type": "code",
   "execution_count": null,
   "metadata": {},
   "outputs": [],
   "source": [
    "from Bio.Seq import Seq\n",
    "from Bio.SeqUtils import GC\n",
    "\n",
    "coding_dna = Seq(\"ATGGCCATTGTAATGGGCCGCTGAAAGGGTGCCCGATAG\")\n",
    "GC(coding_dna)\n"
   ]
  },
  {
   "cell_type": "code",
   "execution_count": null,
   "metadata": {},
   "outputs": [],
   "source": [
    "template_dna = coding_dna.reverse_complement()\n",
    "template_dna"
   ]
  },
  {
   "cell_type": "code",
   "execution_count": null,
   "metadata": {},
   "outputs": [],
   "source": [
    "messenger_rna = coding_dna.transcribe()\n",
    "messenger_rna.translate()"
   ]
  },
  {
   "cell_type": "markdown",
   "metadata": {},
   "source": [
    "Sequences act like strings!"
   ]
  },
  {
   "cell_type": "code",
   "execution_count": null,
   "metadata": {},
   "outputs": [],
   "source": [
    "print(coding_dna[0])"
   ]
  },
  {
   "cell_type": "code",
   "execution_count": null,
   "metadata": {},
   "outputs": [],
   "source": [
    "coding_dna.count(\"AA\")"
   ]
  },
  {
   "cell_type": "markdown",
   "metadata": {},
   "source": [
    "### Parsing multi fasta files"
   ]
  },
  {
   "cell_type": "code",
   "execution_count": null,
   "metadata": {},
   "outputs": [],
   "source": [
    "from Bio import SeqIO\n",
    "\n",
    "sequences = SeqIO.parse(\"data/ls_orchid.fasta\", \"fasta\")"
   ]
  },
  {
   "cell_type": "code",
   "execution_count": null,
   "metadata": {},
   "outputs": [],
   "source": [
    "[seq.id for seq in sequences]"
   ]
  },
  {
   "cell_type": "code",
   "execution_count": null,
   "metadata": {},
   "outputs": [],
   "source": [
    "sequences = SeqIO.parse(\"data/ls_orchid.fasta\", \"fasta\")\n",
    "[record.seq.translate() for record in sequences if len(record)>780]"
   ]
  },
  {
   "cell_type": "markdown",
   "metadata": {},
   "source": [
    "# Raspberry Pi\n",
    "\n",
    "Here are the product line of Raspberry Pi\n",
    "\n",
    "### Raspberry Pi 4\n",
    "\n",
    "Raspberry Pi is a tiny, fanless, energy-efficient desktop computer. It USB and Ethernet ports along with WiFi connection capability. Please check the link for [success stories](https://www.raspberrypi.com/success-stories/).\n",
    "\n",
    "![](images/wide-hero-shot-6b39618796ad96d159acebd1e4d1bcf2.png)\n",
    "\n",
    "### Raspberry Pi Zero 2 W\n",
    "\n",
    "Raspberry Pi Zero 2 W is a tiny computer (65mm × 30mm) and has a quad-core 64-bit ARM Cortex-A53 processor clocked at 1GHz and 512MB of SDRAM. Wireless LAN is built-in giving more flexibility. \n",
    "\n",
    "![](https://assets.raspberrypi.com/static/51035ec4c2f8f630b3d26c32e90c93f1/2b8d7/zero2-hero.webp)\n",
    "\n",
    "Here's a list of [Raspberry Pi Zero projects](https://www.raspberrypi.com/news/tag/raspberry-pi-zero/)\n",
    "\n",
    "Both, Raspberry Pi 4 and Raspberry Pi Zero run full Linux OS system and supports Python coding to interact with peripharals (sensors etc.)\n",
    "\n",
    "### Raspberry Pico\n",
    "\n",
    "Is a tiny microcontroller that can be programmed with [Micro Python] (https://www.raspberrypi.com/products/micropython-pico/) which is kind of equivalent of Arduino.\n",
    "\n",
    "![](images/rasp-pico.png)"
   ]
  },
  {
   "cell_type": "markdown",
   "metadata": {},
   "source": [
    "## Sensors for Raspberry Pi\n",
    "\n",
    "There are numerous sensors that can be integrated with Raspberry Pi. Please go over [list of sensors](https://thepihut.com/collections/adafruit-sensors) and also possible [Pi cases](https://thepihut.com/collections/raspberry-pi-cases)"
   ]
  },
  {
   "cell_type": "markdown",
   "metadata": {},
   "source": [
    "### Python for Raspberry Pi\n",
    "\n",
    "Here's the setup:\n",
    "* Raspberry Pi Zero\n",
    "* NFC card reader\n",
    "* buzzer\n",
    "\n",
    "![](images/pi_nfc.jpg)\n",
    "\n",
    "Below is the sample code which reads card id and prints to screen\n"
   ]
  },
  {
   "cell_type": "markdown",
   "metadata": {},
   "source": [
    "```python\n",
    "import RPi.GPIO as GPIO\n",
    "from mfrc522 import SimpleMFRC522\n",
    "\n",
    "reader=SimpleMFRC522()\n",
    "\n",
    "id,text = reader.read()\n",
    "print(id)\n",
    "```"
   ]
  },
  {
   "cell_type": "markdown",
   "metadata": {},
   "source": [
    "The sample code is executed by `python scriptname.py` in terminal in Raspberry Pi terminal. This simple code reads the card id, prints it and then exits. So, it won't allow reading multiple cards in a row.\n",
    "\n",
    "If you want to continously read for cards then we need to add a while loop with `while True:`"
   ]
  },
  {
   "cell_type": "markdown",
   "metadata": {},
   "source": [
    "```python\n",
    "import RPi.GPIO as GPIO\n",
    "from mfrc522 import SimpleMFRC522\n",
    "\n",
    "reader=SimpleMFRC522()\n",
    "\n",
    "while True:\n",
    "    id,text = reader.read()\n",
    "    print(id)\n",
    "```"
   ]
  },
  {
   "cell_type": "markdown",
   "metadata": {},
   "source": [
    "Here's the sample code which reads cards and writes the card ID to a local Sqlite3 database and then makes a buzz sound."
   ]
  },
  {
   "cell_type": "markdown",
   "metadata": {},
   "source": [
    "```python\n",
    "import RPi.GPIO as GPIO\n",
    "from mfrc522 import SimpleMFRC522\n",
    "#from gpiozero import Buzzer\n",
    "import sqlite3 as lite\n",
    "import sys\n",
    "from time import sleep\n",
    "\n",
    "reader=SimpleMFRC522()\n",
    "BUZZER = 11\n",
    "\n",
    "def buzz(BUZZER, noteFreq, duration):\n",
    "    GPIO.setmode(GPIO.BOARD)\n",
    "    GPIO.setup(BUZZER, GPIO.OUT)\n",
    "    halveWaveTime = 1 / (noteFreq * 2 )\n",
    "    waves = int(duration * noteFreq)\n",
    "    for i in range(waves):\n",
    "       GPIO.output(BUZZER, True)\n",
    "       sleep(halveWaveTime)\n",
    "       GPIO.output(BUZZER, False)\n",
    "       sleep(halveWaveTime)\n",
    "\n",
    "def insert_new_line_in_rfid_table(PathToDatabase, TableName, card_id):\n",
    "    try:\n",
    "        con = lite.connect(PathToDatabase)\n",
    "        cur = con.cursor()\n",
    "        cur.execute(\"\"\"\n",
    "            INSERT INTO %s (card_id)\n",
    "            VALUES( %i )\n",
    "            \"\"\" % (TableName, card_id))\n",
    "        con.commit()\n",
    "\n",
    "    except lite.Error as e:\n",
    "        if con:\n",
    "            con.rollback()\n",
    "            print(\"Error %s:\" % e.args[0])\n",
    "            sys.exit(1)\n",
    "\n",
    "    finally:\n",
    "        if con:\n",
    "            con.close()\n",
    "while True:\n",
    "    try:\n",
    "        id = reader.read_id()\n",
    "        print(id)\n",
    "        insert_new_line_in_rfid_table(\"card_reading.db\",\"cardreadings\", id)\n",
    "        buzz(BUZZER, 44, 0.1)\n",
    "        buzz(BUZZER, 440, 0.1) \n",
    "        sleep(0.5)\n",
    "    finally:\n",
    "        GPIO.cleanup()\n",
    "```"
   ]
  },
  {
   "cell_type": "markdown",
   "metadata": {},
   "source": [
    "# Installing packages "
   ]
  },
  {
   "cell_type": "markdown",
   "metadata": {},
   "source": [
    "During the lecture we used several libraries and they were already installed in the notebook. What if you want to use special commands for your project, assignment or hobby? It's highly likely that someone else wrote a package for your topic of interest. In that case, it's very easy to install and use a package.\n",
    "\n",
    "The installation of a package is done by `pip install packagename` command. However, this is not a Python command, it's a terminal command, thus needs to be send to terminal. So, we need to use exclamation mark, `!`, in front of the command.\n",
    "\n",
    "You can search for packages at [PyPI](https://pypi.org/) website. \n",
    "\n",
    "Let's try a package called `dnacurve`. When we search for that package name, we land at [dnacurve package information page](https://pypi.org/project/dnacurve/). The site tells us how to install the package, which is `pip install dnacurve`. Let's run the command with exclamation mark."
   ]
  },
  {
   "cell_type": "code",
   "execution_count": null,
   "metadata": {
    "tags": []
   },
   "outputs": [],
   "source": [
    "!pip install dnacurve"
   ]
  },
  {
   "cell_type": "markdown",
   "metadata": {},
   "source": [
    "The message says the package is successfully installed. From the [package information page](https://pypi.org/project/dnacurve/) we can get sample code."
   ]
  },
  {
   "cell_type": "code",
   "execution_count": null,
   "metadata": {},
   "outputs": [],
   "source": [
    "from dnacurve import CurvedDNA\n",
    "result = CurvedDNA('ATGCAAATTG'*5, 'trifonov', name='Example')\n",
    "result.curvature[:, 18:22]"
   ]
  },
  {
   "cell_type": "code",
   "execution_count": null,
   "metadata": {},
   "outputs": [],
   "source": [
    "result.save_csv('_test.csv')\n",
    "result.save_pdb('_test.pdb')\n",
    "result.plot('_test.png', dpi=160)"
   ]
  },
  {
   "cell_type": "markdown",
   "metadata": {},
   "source": [
    "You can check the png or csv file in current working directory."
   ]
  }
 ],
 "metadata": {
  "kernelspec": {
   "display_name": "Python 3 (ipykernel)",
   "language": "python",
   "name": "python3"
  },
  "language_info": {
   "codemirror_mode": {
    "name": "ipython",
    "version": 3
   },
   "file_extension": ".py",
   "mimetype": "text/x-python",
   "name": "python",
   "nbconvert_exporter": "python",
   "pygments_lexer": "ipython3",
   "version": "3.10.8"
  }
 },
 "nbformat": 4,
 "nbformat_minor": 4
}
