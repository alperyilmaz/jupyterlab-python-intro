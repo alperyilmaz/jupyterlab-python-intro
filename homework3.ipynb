{
 "cells": [
  {
   "cell_type": "markdown",
   "metadata": {},
   "source": [
    "# Homework 3\n",
    "\n",
    "## Let's plot Barnsley fern, randomly\n",
    "\n",
    "As you remember, we drew Serpenski triangle by randomly choosing a vertex and moving toward half the way. Now, let's follow more complex rule and draw much more beautiful output.\n",
    "\n",
    "Please refer to explanations about [Barnsley fern](https://en.wikipedia.org/wiki/Barnsley_fern). Below is the summary of the rules. "
   ]
  },
  {
   "cell_type": "markdown",
   "metadata": {},
   "source": [
    "![barnsley-rule](images/barnsley_rule.png)"
   ]
  },
  {
   "cell_type": "markdown",
   "metadata": {},
   "source": [
    "[Barnsley fern](https://en.wikipedia.org/wiki/Barnsley_fern) wikipedia page already shares Python code to draw the fern. You can use that code as starter. Please make following changes in the code:\n",
    "\n",
    "* Use `matplotlib.pyplot` for plotting\n",
    "* Collect x and y coordinate data in lists (so that you can use them with matplotlib)\n",
    "* The wikipedia page has transformed the calculations as explicit form of matrix multiplications. So, please use `np.dot()` to multiply matrices"
   ]
  },
  {
   "cell_type": "markdown",
   "metadata": {},
   "source": [
    "# When finished\n",
    "\n",
    "* save the file with your student number\n",
    "* export notebook as html\n",
    "* send \"0560000.html\" file to alyilmaz@yildiz.edu.tr with subject as \"Homework3\"\n"
   ]
  },
  {
   "cell_type": "code",
   "execution_count": null,
   "metadata": {},
   "outputs": [],
   "source": []
  }
 ],
 "metadata": {
  "kernelspec": {
   "display_name": "Python 3",
   "language": "python",
   "name": "python3"
  },
  "language_info": {
   "codemirror_mode": {
    "name": "ipython",
    "version": 3
   },
   "file_extension": ".py",
   "mimetype": "text/x-python",
   "name": "python",
   "nbconvert_exporter": "python",
   "pygments_lexer": "ipython3",
   "version": "3.7.3"
  }
 },
 "nbformat": 4,
 "nbformat_minor": 4
}
