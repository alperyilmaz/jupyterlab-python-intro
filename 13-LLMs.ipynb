{
 "cells": [
  {
   "cell_type": "markdown",
   "id": "f79d3758-8ae6-455c-a4e0-496625a7ee86",
   "metadata": {},
   "source": [
    "# Large Language Models\n",
    "\n",
    "ChatGPT and beyond"
   ]
  },
  {
   "cell_type": "markdown",
   "id": "cfbaa73f-8208-4b9a-a5ba-fca22db0ce91",
   "metadata": {},
   "source": [
    "# Access to OpenAI models\n",
    "\n",
    "There are large language models which are proprietary. You have free access to ChatGPT. There's paid access to GPT4 over OpenAI website.\n",
    "\n",
    "You can also access GPT4 and DALL-E 3 through [Microsoft CoPilot Android App](https://play.google.com/store/apps/details?id=com.microsoft.copilot). The app allows text and image input and output.\n",
    "\n",
    "![app1](images/copilot-app1.jpeg)\n",
    "\n",
    "![app2](images/copilot-app2.jpeg)\n",
    "\n",
    "![app3](images/copilot-app3.jpeg)\n",
    "\n",
    "\n",
    "# Open source models\n",
    "\n",
    "You can not run ChatGPT or GPT4 locally on your computer (you can have API access though).\n",
    "\n",
    "* OpenAI does not share the model weights\n",
    "* Even if you have weights, you need an expensive computer to run it.\n",
    "\n",
    "Tech giants kept LLMs behind walls. However, nn February of 2023, Meta (formerly Facebook) released LLAMA model. This sparked release of open source models. Initial language models were large but then smaller language models were released. These language models can be run in a laptop, locally!\n",
    "\n",
    "Please check the [open source LLM leaderboard](https://huggingface.co/spaces/HuggingFaceH4/open_llm_leaderboard). As of writing this text, models from [Mistral.ai](https://mistral.ai/) were very promising and [Mixtral model was evaluated as good as ChatGPT](https://mistral.ai/news/mixtral-of-experts/) although it's much smaller.\n",
    "\n",
    "You can test LLAMA, Mistral models at [Perplexity AI](https://labs.perplexity.ai/) site.\n",
    "\n",
    "![](images/perplexity-main-page.png)\n",
    "\n",
    "TODO together.ai\n",
    "\n",
    "## Running models locally\n",
    "\n",
    "Since developers share the model weights, it's possible to download and run the models locally. There are various sizes of models. 7B (7 billion) models require around 4Gb memory, so you can run them in your laptop.\n",
    "\n",
    "You can run the models by installing PyTorch and some other libraries for Python and then writing some Python code. Or you can install [Ollama](https://ollama.ai/) and then run any compatible model with it.\n",
    "\n",
    "![](images/ollama-main-page.png)\n",
    "\n",
    "# Coding with LLMs\n",
    "\n",
    "## Github CoPilot\n",
    "\n",
    "## Open source local alternatives"
   ]
  },
  {
   "cell_type": "markdown",
   "id": "4a0dc3a4-5833-40e5-854e-be36549b3386",
   "metadata": {},
   "source": [
    "# Prompt engineering\n",
    "\n",
    "## example for student research\n"
   ]
  },
  {
   "cell_type": "markdown",
   "id": "84ba5600-bf84-4c46-8226-3419a43cca28",
   "metadata": {},
   "source": [
    "# Retrieval Augmented Generation RAG\n",
    "\n",
    "Chat with your documents\n",
    "\n",
    "## memGPT\n",
    "\n"
   ]
  },
  {
   "cell_type": "markdown",
   "id": "a5cb5c86-9c2a-4de5-bb5d-55b8f058dd0e",
   "metadata": {},
   "source": [
    "# Fine-tuning"
   ]
  },
  {
   "cell_type": "markdown",
   "id": "5f5268ec-e528-4ea9-aeac-bff05ecd36d6",
   "metadata": {},
   "source": [
    "# Modes other than text\n",
    "\n",
    "Gemini from Google and GPT4 from OpenAI are multimodal. They support vision and text. And expected to support sound, video etc. soon"
   ]
  },
  {
   "cell_type": "markdown",
   "id": "4b278c11-8755-4884-91be-f86123a86cd5",
   "metadata": {},
   "source": [
    "## Image generation\n",
    "\n",
    "### DALL-E 3 by OpenAI\n",
    "\n",
    "Prompt: \"a dna strand with istanbul city as silhoutte in background\"\n",
    "\n",
    "Revised prompt: \"Imagine a detailed science meets architecture illustration. In the foreground, there's a strand of DNA, magnified and glowing against a dark backdrop. This helix structure is precisely depicted, its familiar double-helix shape twisting majestically. Intertwining with this scientific image, in the background, there's a silhouette representation of Istanbul city. The skyline shows off its marvelous historical architecture, including its domed mosques and towering minarets. The cityscape sits against a dusky eveningsky, the setting sun casting an orange glow on the horizon behind the buildings. The combination results in a fascinating juxtapositionof science and urban beauty.\"\n",
    "\n",
    "Result:\n",
    "\n",
    "![](images/dna-istanbul-dalle.png)\n",
    "\n",
    "### Stability Diffusion v6\n",
    "\n",
    "### Disinformation\n",
    "\n",
    "Be aware of deepfake or AI-generated fake photos\n",
    "\n",
    "Fake Trump Photo\n",
    "\n",
    "![](https://media.rnztools.nz/rnz/image/upload/s--SXTQegLG--/ar_16:10,c_fill,f_auto,g_auto,q_auto,w_1050/v1679710393/4LBL8A5_Fake_Trump_3_jfif)\n",
    "\n",
    "Fake Pope Photo\n",
    "\n",
    "![](https://duet-cdn.vox-cdn.com/thumbor/0x0:1281x800/640x427/filters:focal(641x400:642x401):format(webp)/cdn.vox-cdn.com/uploads/chorus_asset/file/24539414/ai_pope_drip_god.jpg)"
   ]
  },
  {
   "cell_type": "code",
   "execution_count": null,
   "id": "13612838-d35a-4002-a3b9-842b55870611",
   "metadata": {},
   "outputs": [],
   "source": []
  },
  {
   "cell_type": "markdown",
   "id": "51c9190f-36ca-4677-a572-fc91779a51bb",
   "metadata": {},
   "source": [
    "## Video generation\n",
    "\n",
    "### Prompt to video\n",
    "\n",
    "### Image to video"
   ]
  },
  {
   "cell_type": "markdown",
   "id": "3a7f19de-2076-4eb3-a3b6-e6b82b12548e",
   "metadata": {},
   "source": [
    "## Music or sound generation\n",
    "\n"
   ]
  }
 ],
 "metadata": {
  "kernelspec": {
   "display_name": "Python 3 (ipykernel)",
   "language": "python",
   "name": "python3"
  },
  "language_info": {
   "codemirror_mode": {
    "name": "ipython",
    "version": 3
   },
   "file_extension": ".py",
   "mimetype": "text/x-python",
   "name": "python",
   "nbconvert_exporter": "python",
   "pygments_lexer": "ipython3",
   "version": "3.10.8"
  }
 },
 "nbformat": 4,
 "nbformat_minor": 5
}
