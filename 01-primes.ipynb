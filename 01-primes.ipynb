{
 "cells": [
  {
   "cell_type": "markdown",
   "metadata": {
    "slideshow": {
     "slide_type": "-"
    }
   },
   "source": [
    "# Lecture 1 - Finding prime numbers\n",
    "\n",
    "\n",
    "> In this lecture we'll be introduced with concepts of `loops` , `conditionals` and `functions` while trying to search for prime numbers"
   ]
  },
  {
   "cell_type": "markdown",
   "metadata": {
    "slideshow": {
     "slide_type": "-"
    }
   },
   "source": [
    "Primers are important because they are building blocks of whole numbers, and important to the world because their odd mathematical properties. One of the areas using prime numbers heavily is encryption of information. Please refer to [RSA Encryption](https://brilliant.org/wiki/rsa-encryption/) explanation at Brilliant.org website."
   ]
  },
  {
   "cell_type": "markdown",
   "metadata": {},
   "source": [
    "## Is that number prime? \n",
    "\n",
    "Let's do a primitive approach first. How can we show if a number is prime? We just divide that number with all the numbers from 2 up to itself (excluded). If any of them divides without a remainder, then that number is **not** a prime number. Let's check is 7 is a prime number."
   ]
  },
  {
   "cell_type": "code",
   "execution_count": null,
   "metadata": {},
   "outputs": [],
   "source": [
    "7 / 2"
   ]
  },
  {
   "cell_type": "code",
   "execution_count": null,
   "metadata": {},
   "outputs": [],
   "source": [
    "7 / 3"
   ]
  },
  {
   "cell_type": "code",
   "execution_count": null,
   "metadata": {},
   "outputs": [],
   "source": [
    "7 / 4"
   ]
  },
  {
   "cell_type": "code",
   "execution_count": null,
   "metadata": {},
   "outputs": [],
   "source": [
    "7 / 5"
   ]
  },
  {
   "cell_type": "code",
   "execution_count": null,
   "metadata": {},
   "outputs": [],
   "source": [
    "7 / 6"
   ]
  },
  {
   "cell_type": "markdown",
   "metadata": {},
   "source": [
    "None of the numbers between 2 and 6 divided 7, so 7 is a prime number. Let's make the output more easy to read. The modulo/modulus operator, `%`, prints the result of mod divison between two numbers, aka remainder. For instance `18 % 5 = 3`.\n",
    "\n",
    "Let's use `%` operator to have better output"
   ]
  },
  {
   "cell_type": "code",
   "execution_count": null,
   "metadata": {},
   "outputs": [],
   "source": [
    "7 % 2"
   ]
  },
  {
   "cell_type": "code",
   "execution_count": null,
   "metadata": {},
   "outputs": [],
   "source": [
    "7 % 3"
   ]
  },
  {
   "cell_type": "code",
   "execution_count": null,
   "metadata": {},
   "outputs": [],
   "source": [
    "7 % 4"
   ]
  },
  {
   "cell_type": "code",
   "execution_count": null,
   "metadata": {},
   "outputs": [],
   "source": [
    "7 % 5"
   ]
  },
  {
   "cell_type": "code",
   "execution_count": null,
   "metadata": {},
   "outputs": [],
   "source": [
    "7 % 6"
   ]
  },
  {
   "cell_type": "markdown",
   "metadata": {},
   "source": [
    "Let's have even better output, as in `True` or `False` indicating that is number is divisible or not. For that we need to quickly review the `Boolean Logic Operators` in Python. "
   ]
  },
  {
   "cell_type": "code",
   "execution_count": null,
   "metadata": {},
   "outputs": [],
   "source": [
    "# try comparison operators\n",
    "x = 5; y = 8; name1 = \"John\"; name2 = \"john\"\n",
    "\n",
    "print(\"x == y:\", x == y)\n",
    "print(\"x is y\", x is y)\n",
    "print(\"x != y:\", x != y)\n",
    "print(\"x < y:\", x < y)\n",
    "print(\"x > y:\", x > y)\n",
    "print(\"x <= y:\", x <= y)\n",
    "print(\"x >= y:\", x >= y)\n",
    "print(\"Are names same?\", name1 == name2)\n",
    "print(\"So, is name1 same as name2?\", name1 is name2)"
   ]
  },
  {
   "cell_type": "markdown",
   "metadata": {},
   "source": [
    "> As you have noticed, `=` is used for assignment and `==` is used for comparison, in the sense of `is equal to`. \n",
    "\n",
    "> **Warning**: `is` is identity testing, `==` is equality testing. Test results of `1 is True` and `1 == True`"
   ]
  },
  {
   "cell_type": "code",
   "execution_count": null,
   "metadata": {},
   "outputs": [],
   "source": [
    "# logical operators and, or, not\n",
    "\n",
    "print((9 > 7) and (2 < 4))  # Both expressions are True\n",
    "print((8 == 8) or (6 != 6)) # One expression is True\n",
    "print(not(3 <= 1))          # The original expression is False"
   ]
  },
  {
   "cell_type": "markdown",
   "metadata": {},
   "source": [
    "Now, let's make our modulus operation output simpler."
   ]
  },
  {
   "cell_type": "code",
   "execution_count": null,
   "metadata": {},
   "outputs": [],
   "source": [
    "7 % 2 == 0"
   ]
  },
  {
   "cell_type": "code",
   "execution_count": null,
   "metadata": {},
   "outputs": [],
   "source": [
    "7 % 3 == 0"
   ]
  },
  {
   "cell_type": "code",
   "execution_count": null,
   "metadata": {},
   "outputs": [],
   "source": [
    "7 % 4 == 0"
   ]
  },
  {
   "cell_type": "code",
   "execution_count": null,
   "metadata": {},
   "outputs": [],
   "source": [
    "7 % 5 == 0"
   ]
  },
  {
   "cell_type": "code",
   "execution_count": null,
   "metadata": {},
   "outputs": [],
   "source": [
    "7 % 6 == 0"
   ]
  },
  {
   "cell_type": "markdown",
   "metadata": {},
   "source": [
    "Since we can combine comparisons with logical operators, let's see overall result. (instead of `==` we can use `is` in this case)"
   ]
  },
  {
   "cell_type": "code",
   "execution_count": null,
   "metadata": {},
   "outputs": [],
   "source": [
    "7 % 6 is 0 or 7 % 5 is 0 or 7 % 4 is 0 or 7 % 3 is 0 or 7 % 2 is 0     # for a prime number"
   ]
  },
  {
   "cell_type": "code",
   "execution_count": null,
   "metadata": {},
   "outputs": [],
   "source": [
    "6 % 5 is 0 or 6 % 4 is 0 or 6 % 3 is 0 or 6 % 2 is 0                   # for a non-prime number, 6"
   ]
  },
  {
   "cell_type": "markdown",
   "metadata": {},
   "source": [
    "So, how can we check if 1,000,001 is prime number or not? Even if we manually divide that number with numbers up to 1,000,000 that will not be re-usable. If we have list of numbers to check, than it won't be feasible.\n",
    "\n",
    "In such a situation, functions come to the rescue. As you remember from math `f(x)=y`, a function in programming will take a input (a variable, an array, a file, etc.) and then produce (or \"return\") an output. *(More on \"return\" in following lectures\")*"
   ]
  },
  {
   "cell_type": "markdown",
   "metadata": {},
   "source": [
    "## Functions\n",
    "\n",
    "Below is a very simple function:"
   ]
  },
  {
   "cell_type": "code",
   "execution_count": null,
   "metadata": {},
   "outputs": [],
   "source": [
    "def my_first_function():\n",
    "    \n",
    "    print(\"hello world\")"
   ]
  },
  {
   "cell_type": "markdown",
   "metadata": {},
   "source": [
    "This will function does not take an input, it will print \"hello world\" when called. \n",
    "\n",
    "Did you notice `:` and the indentation? In many languages, the blocks of code (function, if-else, loop, etc.) are enclosed within curly braces, i.e `{` and `}`. But in Python, the blocks are defined by indentation of 4 spaces. This concept will be more clear in conditionals and loops.\n",
    "\n",
    "If you run the cell, nothing will happen, because when you run the cell, the function is defined. It will act if you call it within your code by `my_first_function()`"
   ]
  },
  {
   "cell_type": "code",
   "execution_count": null,
   "metadata": {},
   "outputs": [],
   "source": [
    "my_first_function()"
   ]
  },
  {
   "cell_type": "markdown",
   "metadata": {},
   "source": [
    "Let's define a function which accepts input"
   ]
  },
  {
   "cell_type": "code",
   "execution_count": null,
   "metadata": {},
   "outputs": [],
   "source": [
    "def my_improved_function(data):\n",
    "    \n",
    "    print(data)"
   ]
  },
  {
   "cell_type": "markdown",
   "metadata": {},
   "source": [
    "> In the Notebook, you can use <kbd>Tab</kbd> key to complete variable, function names. Thus, if you have long variable names, please don't type it fully, after typing couple characters press <kbd>Tab</kbd>"
   ]
  },
  {
   "cell_type": "code",
   "execution_count": null,
   "metadata": {},
   "outputs": [],
   "source": [
    "def my_second_long_function_that_goes_very_far(data):\n",
    "    print(data)\n",
    "\n",
    "my_second_long_function_that_goes_very_far(\"hello\")"
   ]
  },
  {
   "cell_type": "markdown",
   "metadata": {},
   "source": [
    "Now, we can send any input to the function and it will print it for us. We can call it by sending string itself or a variable containing string."
   ]
  },
  {
   "cell_type": "code",
   "execution_count": null,
   "metadata": {},
   "outputs": [],
   "source": [
    "my_improved_function(\"hello\")\n",
    "#OR\n",
    "x=\"hello X\"\n",
    "my_improved_function(x)"
   ]
  },
  {
   "cell_type": "markdown",
   "metadata": {},
   "source": [
    "And here's what happens if we call this function without input (pay attention to the last line of message)"
   ]
  },
  {
   "cell_type": "code",
   "execution_count": null,
   "metadata": {},
   "outputs": [],
   "source": [
    "my_improved_function()"
   ]
  },
  {
   "cell_type": "markdown",
   "metadata": {},
   "source": [
    "## Functions for anything\n",
    "\n",
    "Let's come up with function names without worrying about the content of the function. Only definition lines are shown\n",
    "\n",
    "* `def should_i_bring_my_umbrella(zipcode):`\n",
    "* `def compare_armies(country1, country2):`\n",
    "* `def nearest_camping_spots(current_location):`\n",
    "\n",
    "The name and input arguments in definition line gives clue about how to use those functions. If I want to compare armies of Russia and Ukraine, I can write `compare_armies(\"Russia\", \"Ukraine\")`\n",
    "\n",
    "Why don't you come up interesting, out of the box function names?"
   ]
  },
  {
   "cell_type": "markdown",
   "metadata": {},
   "source": [
    "### First function"
   ]
  },
  {
   "cell_type": "code",
   "execution_count": null,
   "metadata": {},
   "outputs": [],
   "source": [
    "def first_algo(left, right):\n",
    "    print(left % right)\n",
    "\n",
    "first_algo(1000001,101)"
   ]
  },
  {
   "cell_type": "markdown",
   "metadata": {},
   "source": [
    "It works. But, there's better way to achieve the same thing. Not always we want to print something, later you'll learn why, so it's better to use `return` at the end of the function. In that case you can assign result of a function to a variable, e.g.\n",
    "\n",
    "`result = first_algo(8,4)`\n",
    "\n",
    "Now, we can reuse the code"
   ]
  },
  {
   "cell_type": "code",
   "execution_count": null,
   "metadata": {},
   "outputs": [],
   "source": [
    "first_algo(1523434234234, 234323)"
   ]
  },
  {
   "cell_type": "markdown",
   "metadata": {},
   "source": [
    "As we did with the manual division, let's return `True` or `False` as result"
   ]
  },
  {
   "cell_type": "code",
   "execution_count": null,
   "metadata": {},
   "outputs": [],
   "source": [
    "def second_algo(left, right):\n",
    "    return left % right == 0"
   ]
  },
  {
   "cell_type": "code",
   "execution_count": null,
   "metadata": {},
   "outputs": [],
   "source": [
    "# second_algo(8, 4)\n",
    "second_algo(7, 5)"
   ]
  },
  {
   "cell_type": "markdown",
   "metadata": {},
   "source": [
    "Let's imagine a function is returning zipcode of point of interest. And another function is advising about bringing umbrella with you for a given zipcode. In that case it's trivial to combine these two functions.\n",
    "\n",
    "Let's assume, definition and return lines of two different functions\n",
    "\n",
    "```\n",
    "def nearest_camping_spot(current_location): \n",
    "    ...\n",
    "    ...\n",
    "    return nearest_camping_site_zipcode\n",
    "\n",
    "def should_i_bring_my_umbrella(zipcode):\n",
    "    ...\n",
    "    ...\n",
    "    return decision\n",
    "```"
   ]
  },
  {
   "cell_type": "markdown",
   "metadata": {},
   "source": [
    "In that case hypothetical code below will help us about bringing umbrella to nearest camp site to YTU campus.\n",
    "\n",
    "```python\n",
    "my_location = \"YTU\"\n",
    "nearest = nearest_camping_spot(my_location)\n",
    "my_decision = should_i_bring_my_umbrella(nearest)\n",
    "```"
   ]
  },
  {
   "cell_type": "markdown",
   "metadata": {},
   "source": [
    "## Conditionals"
   ]
  },
  {
   "cell_type": "markdown",
   "metadata": {},
   "source": [
    "Boolean Logic is not only useful for output, but also used for conditionals and flow control. In a flow diagram, when you see a YES and NO, there is a boolean logic in use."
   ]
  },
  {
   "cell_type": "code",
   "execution_count": null,
   "metadata": {},
   "outputs": [],
   "source": [
    "# Boolean operators for flow control\n",
    "grade = 60\n",
    "if grade >= 65:                 # Condition\n",
    "    print(\"Passing grade\")      # Clause\n",
    "else:\n",
    "    print(\"Failing grade\")"
   ]
  },
  {
   "cell_type": "code",
   "execution_count": null,
   "metadata": {},
   "outputs": [],
   "source": [
    "x = 5\n",
    "y = 8\n",
    "\n",
    "if x < y:\n",
    "    print(\"x is smaller\")\n",
    "\n",
    "if x == y:\n",
    "    print(\"equal\")\n",
    "else:\n",
    "    print(\"not equal\")"
   ]
  },
  {
   "cell_type": "markdown",
   "metadata": {},
   "source": [
    "Follow along [02-primes-partB](02-primes-partB.ipynb) notebook for the rest of the topic (partB is modified version of [part3](https://nbviewer.jupyter.org/github/mikkokotila/jupyter4kids/blob/master/notebooks/numerical-computing-is-fun-3.ipynb)  of \"NUMERICAL COMPUTING IS FUN\")"
   ]
  }
 ],
 "metadata": {
  "kernelspec": {
   "display_name": "Python 3 (ipykernel)",
   "language": "python",
   "name": "python3"
  },
  "language_info": {
   "codemirror_mode": {
    "name": "ipython",
    "version": 3
   },
   "file_extension": ".py",
   "mimetype": "text/x-python",
   "name": "python",
   "nbconvert_exporter": "python",
   "pygments_lexer": "ipython3",
   "version": "3.10.6"
  },
  "toc": {
   "base_numbering": 1,
   "nav_menu": {},
   "number_sections": true,
   "sideBar": true,
   "skip_h1_title": false,
   "title_cell": "Table of Contents",
   "title_sidebar": "Contents",
   "toc_cell": false,
   "toc_position": {},
   "toc_section_display": true,
   "toc_window_display": false
  }
 },
 "nbformat": 4,
 "nbformat_minor": 4
}
