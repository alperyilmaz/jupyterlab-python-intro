{
 "cells": [
  {
   "cell_type": "markdown",
   "metadata": {},
   "source": [
    "# Lecture 4 - Python Collections (Arrays)\n",
    "\n",
    "> Following content is taken from [Python Lists page](https://www.tutorialspoint.com/python/python_lists.htm) at TutorialsPoint.\n",
    "\n",
    "There are four collection data types in the Python programming language:\n",
    "\n",
    "* **List** is a collection which is ordered and changeable. Allows duplicate members.\n",
    "* **Tuple** is a collection which is ordered and unchangeable. Allows duplicate members.\n",
    "* **Set** is a collection which is unordered and unindexed. No duplicate members.\n",
    "* **Dictionary** is a collection which is unordered, changeable and indexed. No duplicate members.\n",
    "\n",
    "When choosing a collection type, it is useful to understand the properties of that type. Choosing the right type for a particular data set could mean retention of meaning, and, it could mean an increase in efficiency or security.\n"
   ]
  },
  {
   "cell_type": "markdown",
   "metadata": {},
   "source": [
    "## Generate and access lists\n",
    "\n",
    "The list is a most versatile datatype available in Python which can be written as a list of comma-separated values (items) between square brackets. Important thing about a list is that items in a list need not be of the same type.\n",
    "\n",
    "Generating a new list is as simple as putting different comma-separated values between square brackets. \n",
    "\n",
    "To access values in lists, use the square brackets for slicing along with the index or indices to obtain value available at that index."
   ]
  },
  {
   "cell_type": "code",
   "execution_count": null,
   "metadata": {},
   "outputs": [],
   "source": [
    "list1 = ['physics', 'chemistry', 1997, 2000];\n",
    "list2 = [1, 2, 3, 4, 5, 6, 7 ];\n",
    "print(list1[1])\n",
    "print( \"list2[1:5]: \",(list2[1:5]))"
   ]
  },
  {
   "cell_type": "markdown",
   "metadata": {},
   "source": [
    "## Updating lists and deleting list elements\n",
    "\n",
    "You can update single or multiple elements of lists by giving the slice on the left-hand side of the assignment operator, and you can add to elements in a list with the `append()` method.\n",
    "\n",
    "To remove a list element, you can use either the `del` statement if you know exactly which element(s) you are deleting or the `remove()` method if you do not know."
   ]
  },
  {
   "cell_type": "code",
   "execution_count": null,
   "metadata": {},
   "outputs": [],
   "source": [
    "list1 = ['physics', 'chemistry', 1997, 2000];\n",
    "\n",
    "print(list1)\n",
    "list1[3]=2018\n",
    "print(\"\\nAfter editing value at index 3 : \")\n",
    "print(list1)\n",
    "list1.append(2019)\n",
    "print(\"\\nAfter adding new value at the end : \")\n",
    "print(list1)\n",
    "\n",
    "del list1[2];\n",
    "print(\"\\nAfter deleting value at index 2 : \")\n",
    "print(list1)\n",
    "list1.remove(2018)\n",
    "print(\"\\nAfter removing 2018 from list :\")\n",
    "print(list1)"
   ]
  },
  {
   "cell_type": "markdown",
   "metadata": {},
   "source": [
    "## Basic list operations\n",
    "\n",
    "| Python Expression            | Results                      | Description   |\n",
    "| ---------------------------- | ---------------------------- | ------------- |\n",
    "| len([1, 2, 3])               | 3                            | Length        |\n",
    "| [1, 2, 3] + [4, 5, 6]        | [1, 2, 3, 4, 5, 6]           | Concatenation |\n",
    "| ['Hi!'] * 4                  | ['Hi!', 'Hi!', 'Hi!', 'Hi!'] | Repetition    |\n",
    "| 3 in [1, 2, 3]               | True                         | Membership    |\n",
    "| for x in [1, 2, 3]: print x, | 1 2 3                        | Iteration     |"
   ]
  },
  {
   "cell_type": "markdown",
   "metadata": {},
   "source": [
    "## Indexes and slicing\n",
    "\n",
    "Assuming following input:\n",
    "\n",
    "```python\n",
    "L = ['spam', 'Spam', 'SPAM!']\n",
    "```\n",
    "\n",
    "| Python Expression | Results           | Description                    |\n",
    "| ----------------- | ----------------- | ------------------------------ |\n",
    "| L[2]              | SPAM!             | Offsets start at zero          |\n",
    "| L[-2]             | Spam              | Negative: count from the right |\n",
    "| L[1:]             | ['Spam', 'SPAM!'] | Slicing fetches sections       |\n",
    "\n",
    "> Because strings are sequences of characters, indexing and slicing work the same way for strings as they do for lists."
   ]
  },
  {
   "cell_type": "markdown",
   "metadata": {},
   "source": [
    "## List Methods\n",
    "\n",
    "| Method                                                       | Description                                                  |\n",
    "| ------------------------------------------------------------ | ------------------------------------------------------------ |\n",
    "| list.[append()](https://www.w3schools.com/python/ref_list_append.asp) | Adds an element at    the end of the list                    |\n",
    "| list.[clear()](https://www.w3schools.com/python/ref_list_clear.asp) | Removes all the    elements from the list                    |\n",
    "| list.[copy()](https://www.w3schools.com/python/ref_list_copy.asp) | Returns a copy of the    list                                |\n",
    "| list.[count()](https://www.w3schools.com/python/ref_list_count.asp) | Returns the number of    elements with the specified value   |\n",
    "| list.[extend()](https://www.w3schools.com/python/ref_list_extend.asp) | Add the elements of a    list (or any iterable), to the end of the current list |\n",
    "| list.[index()](https://www.w3schools.com/python/ref_list_index.asp) | Returns the index of    the first element with the specified value |\n",
    "| list.[insert()](https://www.w3schools.com/python/ref_list_insert.asp) | Adds an element at    the specified position                 |\n",
    "| list.[pop()](https://www.w3schools.com/python/ref_list_pop.asp)   | Removes the element at the    specified position             |\n",
    "| list.[remove()](https://www.w3schools.com/python/ref_list_remove.asp) | Removes the     item with the specified value                |\n",
    "| list.[reverse()](https://www.w3schools.com/python/ref_list_reverse.asp) | Reverses the order    of the list                            |\n",
    "| list.[sort()](https://www.w3schools.com/python/ref_list_sort.asp) | Sorts the list                                               |"
   ]
  },
  {
   "cell_type": "markdown",
   "metadata": {},
   "source": [
    "## List functions\n",
    "\n",
    "| Function | Description                                                  |\n",
    "| -------- | ------------------------------------------------------------ |\n",
    "| [cmp(list1, list2)](https://www.tutorialspoint.com/python/list_cmp.htm)        | Compares elements of both lists. (Python 2 only) |\n",
    "| [len(list)](https://www.tutorialspoint.com/python/list_len.htm)        | Gives the total length of the list. |\n",
    "| [max(list)](https://www.tutorialspoint.com/python/list_max.htm)        |  Returns item from the list with max value. |\n",
    "| [min(list)](https://www.tutorialspoint.com/python/list_min.htm)        |  Returns item from the list with min value. |\n",
    "| [list(seq)](https://www.tutorialspoint.com/python/list_list.htm)        | Converts a tuple into list. |\n",
    "\n"
   ]
  },
  {
   "cell_type": "markdown",
   "metadata": {},
   "source": [
    "## Examples"
   ]
  },
  {
   "cell_type": "code",
   "execution_count": null,
   "metadata": {},
   "outputs": [],
   "source": [
    "temperatures = [22, 25, 22, 18, 22, 23, 27]\n",
    "days = ['M','T','W','Th','F','S','Su']"
   ]
  },
  {
   "cell_type": "code",
   "execution_count": null,
   "metadata": {},
   "outputs": [],
   "source": [
    "temperatures.count(22)"
   ]
  },
  {
   "cell_type": "code",
   "execution_count": null,
   "metadata": {},
   "outputs": [],
   "source": [
    "temperatures.index(22)"
   ]
  },
  {
   "cell_type": "code",
   "execution_count": null,
   "metadata": {},
   "outputs": [],
   "source": [
    "print(temperatures)\n",
    "# other languages\n",
    "# temperatures = temperatures.reverse()\n",
    "temperatures.reverse()\n",
    "print(temperatures)\n"
   ]
  },
  {
   "cell_type": "code",
   "execution_count": null,
   "metadata": {},
   "outputs": [],
   "source": [
    "temperatures = [22, 25, 22, 18, 22, 23, 27]\n",
    "temperatures.sort()\n",
    "print(temperatures)\n",
    "temperatures.reverse()\n",
    "print(temperatures)"
   ]
  },
  {
   "cell_type": "code",
   "execution_count": null,
   "metadata": {},
   "outputs": [],
   "source": [
    "temperatures = [22, 25, 22, 18, 22, 23, 27]\n",
    "temperatures.remove(22)\n",
    "print(temperatures)"
   ]
  },
  {
   "cell_type": "code",
   "execution_count": null,
   "metadata": {},
   "outputs": [],
   "source": [
    "len(temperatures)"
   ]
  },
  {
   "cell_type": "code",
   "execution_count": null,
   "metadata": {},
   "outputs": [],
   "source": [
    "max(temperatures)"
   ]
  },
  {
   "cell_type": "markdown",
   "metadata": {},
   "source": [
    "Why do we need to `copy` a list? Please run the following commands and check what is the 4th element of each `first` and `second` lists. Please observe its execution in [PythonTutor](https://pythontutor.com/visualize.html#code=temperatures%20%3D%20%5B22,%2025,%2022,%2018,%2022,%2023,%2027%5D%0Afirst%20%3D%20temperatures%0Asecond%20%3D%20temperatures.copy%28%29%0Atemperatures%5B3%5D%20%3D%2026&cumulative=false&curInstr=4&heapPrimitives=nevernest&mode=display&origin=opt-frontend.js&py=3&rawInputLstJSON=%5B%5D&textReferences=false)"
   ]
  },
  {
   "cell_type": "code",
   "execution_count": null,
   "metadata": {},
   "outputs": [],
   "source": [
    "temperatures = [22, 25, 22, 18, 22, 23, 27]\n",
    "first = temperatures\n",
    "second = temperatures.copy()\n",
    "temperatures[3] = 26"
   ]
  },
  {
   "cell_type": "code",
   "execution_count": null,
   "metadata": {},
   "outputs": [],
   "source": [
    "%%HTML\n",
    "\n",
    "<iframe width=\"800\" height=\"500\" frameborder=\"0\" src=\"https://pythontutor.com/iframe-embed.html#code=temperatures%20%3D%20%5B22,%2025,%2022,%2018,%2022,%2023,%2027%5D%0Afirst%20%3D%20temperatures%0Asecond%20%3D%20temperatures.copy%28%29%0Atemperatures%5B3%5D%20%3D%2026&codeDivHeight=400&codeDivWidth=350&cumulative=false&curInstr=0&heapPrimitives=nevernest&origin=opt-frontend.js&py=3&rawInputLstJSON=%5B%5D&textReferences=false\"> </iframe>"
   ]
  },
  {
   "cell_type": "markdown",
   "metadata": {},
   "source": [
    "<div class=\"alert alert-block alert-warning\">\n",
    "    <i class=\"fas fa-fw fa-question-circle mr-3 align-self-center\"></i>\n",
    "    <b>Question:</b> Looks like <i>list.index()</i> is only providing index of first occurrence. Why don't you write a function which returns <b>all</b> occurrences of a value in list? <br><br>\n",
    "    \n",
    "Please start your code with \n",
    "    \n",
    "    def all_indexes(a_list, a_value):\n",
    "\n",
    "</div>"
   ]
  },
  {
   "cell_type": "markdown",
   "metadata": {},
   "source": [
    "### About `zip` and list comprehension"
   ]
  },
  {
   "cell_type": "markdown",
   "metadata": {},
   "source": [
    "The purpose of `zip()` is to map the similar index of multiple containers so that they can be used just using as single entity. The function takes iterables (can be zero or more), makes iterator that aggregates elements based on the iterables passed, and **returns** an iterator of tuples."
   ]
  },
  {
   "cell_type": "code",
   "execution_count": null,
   "metadata": {},
   "outputs": [],
   "source": [
    "x = [1, 2, 3]\n",
    "y = [4, 5, 6]\n",
    "zipped = zip(x, y)\n",
    "list(zipped)"
   ]
  },
  {
   "cell_type": "markdown",
   "metadata": {},
   "source": [
    "**List comprehensions** provide a concise way to create lists. \n",
    "\n",
    "It consists of brackets containing an expression followed by a for clause, then\n",
    "zero or more for or if clauses. The expressions can be anything, meaning you can\n",
    "put in all kinds of objects in lists.\n",
    "\n",
    "The result will be a new list resulting from evaluating the expression in the\n",
    "context of the for and if clauses which follow it. "
   ]
  },
  {
   "cell_type": "markdown",
   "metadata": {},
   "source": [
    "For example:\n",
    "\n",
    "```python\n",
    "new_list = []\n",
    "for i in old_list:\n",
    "    new_list.append(some_function(i))\n",
    "```\n",
    "\n",
    "can be written as\n",
    "\n",
    "```python\n",
    "new_list = [some_function(i) for i in old_list]\n",
    "```\n",
    "\n",
    "Let's calculate squares of even numbers. With for loop"
   ]
  },
  {
   "cell_type": "code",
   "execution_count": null,
   "metadata": {},
   "outputs": [],
   "source": [
    "squares =[]\n",
    "for num in range(2,21,2):\n",
    "    squares.append(num**2)\n",
    "\n",
    "print(squares)"
   ]
  },
  {
   "cell_type": "markdown",
   "metadata": {},
   "source": [
    "The list comprehension equivalent is as follows:"
   ]
  },
  {
   "cell_type": "code",
   "execution_count": null,
   "metadata": {},
   "outputs": [],
   "source": [
    "[i**2 for i in range(2,21,2)]"
   ]
  },
  {
   "cell_type": "markdown",
   "metadata": {},
   "source": [
    "Here's another example:"
   ]
  },
  {
   "cell_type": "code",
   "execution_count": null,
   "metadata": {},
   "outputs": [],
   "source": [
    "Celsius = [39.2, 36.5, 37.3, 37.8]\n",
    "Fahrenheit = [ ((9/5)*x + 32) for x in Celsius ]\n",
    "print(Fahrenheit) "
   ]
  },
  {
   "cell_type": "markdown",
   "metadata": {},
   "source": [
    "The equivalent code written in for loop is:"
   ]
  },
  {
   "cell_type": "code",
   "execution_count": null,
   "metadata": {},
   "outputs": [],
   "source": [
    "C = [39.2, 36.5, 37.3, 37.8]\n",
    "F=[]\n",
    "\n",
    "for temp in C:\n",
    "    F.append((9/5)*temp + 32)\n",
    "    \n",
    "print(F)"
   ]
  },
  {
   "cell_type": "markdown",
   "metadata": {},
   "source": [
    "List comprehensions allows conditional expressions as well. So, the following statement uses explicit for loop:\n",
    "\n",
    "```python\n",
    "new_list = []\n",
    "for i in old_list:\n",
    "    if filter(i):\n",
    "        new_list.append(some_function(i))\n",
    "```\n",
    "\n",
    "which can be written in concise way as:\n",
    "\n",
    "```python\n",
    "new_list = [some_function(i) for i in old_list if filter(i)]\n",
    "```\n",
    "\n",
    "\n",
    "Let's calculate square of even numbers if they are also divided by 5"
   ]
  },
  {
   "cell_type": "code",
   "execution_count": null,
   "metadata": {},
   "outputs": [],
   "source": [
    "squares =[]\n",
    "for num in range(2,21,2):\n",
    "    if num % 5 is 0:\n",
    "        squares.append(num**2)\n",
    "\n",
    "print(squares)"
   ]
  },
  {
   "cell_type": "markdown",
   "metadata": {},
   "source": [
    "Now, the list comprehension version:"
   ]
  },
  {
   "cell_type": "code",
   "execution_count": null,
   "metadata": {},
   "outputs": [],
   "source": [
    "[i**2 for i in range(2,21,2) if i % 5 is 0]"
   ]
  },
  {
   "cell_type": "markdown",
   "metadata": {},
   "source": [
    "So,\n",
    "\n",
    "* List comprehension is an elegant way to define and create lists based on existing lists.\n",
    "* List comprehension is generally more compact and faster than normal functions and loops for creating list."
   ]
  },
  {
   "cell_type": "markdown",
   "metadata": {
    "tags": []
   },
   "source": [
    "## Exercises\n",
    "\n",
    "1. please re-write `all_indexes()` function with comprehension\n",
    "\n",
    "```python\n",
    "def all_indexes2(a_list, a_value):\n",
    "    \n",
    "    return [          ]  # write comprehension within brackects\n",
    "```\n",
    "\n",
    "2. Can you show if comprehension runs faster or slower than for loops using `%timeit`\n",
    "\n",
    "3. Please search and find list and list comprehension exercises online and **try to solve them yourself**. Here are some links which were discovered by search term \"python list comprehension exercises\". [Link1](https://towardsdatascience.com/beginner-to-advanced-list-comprehension-practice-problems-a89604851313) [Link2](https://www.w3resource.com/python-exercises/list/)\n",
    "\n",
    "4. Here's a comprehension which generates list of prime numbers up to 1001. Please dissect and play around with it and try to understand how it works. The trick is *empty list is considered False*\n",
    "\n",
    "```python\n",
    "[num for num in range(2,1001) if not [div for div in range(2,num) if num%div == 0]]\n",
    "```"
   ]
  }
 ],
 "metadata": {
  "kernelspec": {
   "display_name": "Python 3",
   "language": "python",
   "name": "python3"
  },
  "language_info": {
   "codemirror_mode": {
    "name": "ipython",
    "version": 3
   },
   "file_extension": ".py",
   "mimetype": "text/x-python",
   "name": "python",
   "nbconvert_exporter": "python",
   "pygments_lexer": "ipython3",
   "version": "3.7.10"
  }
 },
 "nbformat": 4,
 "nbformat_minor": 4
}
