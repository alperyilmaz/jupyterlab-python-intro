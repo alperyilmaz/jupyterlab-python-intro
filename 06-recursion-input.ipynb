{
 "cells": [
  {
   "cell_type": "markdown",
   "metadata": {},
   "source": [
    "# Recursion and input"
   ]
  },
  {
   "cell_type": "markdown",
   "metadata": {},
   "source": [
    "## Recursion\n",
    "\n",
    "![recursion](https://cdn-images-1.medium.com/max/1600/1*appBwh6_RtvocVxwqpplHA.jpeg)\n",
    "\n",
    "*[image source](https://medium.freecodecamp.org/learn-recursion-in-10-minutes-e3262ac08a1)*"
   ]
  },
  {
   "cell_type": "markdown",
   "metadata": {},
   "source": [
    "Recursion might a challenging topic. It's much different from loops. \n",
    "\n",
    "An iterative function is one that loops to repeat some part of the code, and a recursive function is one that calls itself again to repeat the code.\n",
    "\n",
    "Let's try to calculate Fibonacci sequence iteratively and with a recursive function."
   ]
  },
  {
   "cell_type": "markdown",
   "metadata": {},
   "source": [
    "Fibonacci sequence is:\n",
    "\n",
    "0, 1, 1, 2, 3, 5, 8, 13, 21, 34, 55, 89, 144, 233, 377, 610, 987, 1597, 2584, 4181, 6765, 10946, 17711, 28657, 46368, 75025, 121393, 196418, 317811, ..."
   ]
  },
  {
   "cell_type": "code",
   "execution_count": 54,
   "metadata": {},
   "outputs": [],
   "source": [
    "# First implementation, https://stackoverflow.com/a/52133289/4579196\n",
    "def fib(n):\n",
    "    i = 0\n",
    "    nextterm = 1\n",
    "    present = 1\n",
    "    previous = 0\n",
    "\n",
    "    while i < n:\n",
    "        nextterm = present + previous\n",
    "        present = previous\n",
    "        previous = nextterm\n",
    "        i = i + 1\n",
    "        #print nextterm\n",
    "\n",
    "    return nextterm"
   ]
  },
  {
   "cell_type": "code",
   "execution_count": 55,
   "metadata": {},
   "outputs": [
    {
     "data": {
      "text/plain": [
       "75025"
      ]
     },
     "execution_count": 55,
     "metadata": {},
     "output_type": "execute_result"
    }
   ],
   "source": [
    "fib(25)"
   ]
  },
  {
   "cell_type": "code",
   "execution_count": 56,
   "metadata": {},
   "outputs": [],
   "source": [
    "# Second implementation, using array, https://stackoverflow.com/a/15047402/4579196\n",
    "def fib_ar(n):                                                                                                 \n",
    "    fibs = [0, 1, 1]                                                                                           \n",
    "    for f in range(2, n):                                                                                      \n",
    "        fibs.append(fibs[-1] + fibs[-2])                                                                         \n",
    "    return fibs[n]"
   ]
  },
  {
   "cell_type": "code",
   "execution_count": 57,
   "metadata": {},
   "outputs": [
    {
     "data": {
      "text/plain": [
       "75025"
      ]
     },
     "execution_count": 57,
     "metadata": {},
     "output_type": "execute_result"
    }
   ],
   "source": [
    "fib_ar(25)"
   ]
  },
  {
   "cell_type": "markdown",
   "metadata": {},
   "source": [
    "Recursive approach will be slightly different. The function will call itself with different inputs.\n",
    "\n",
    "![Fibonacci - recursive](https://upload.wikimedia.org/wikipedia/commons/thumb/5/5f/FibbonacciRecurisive.png/800px-FibbonacciRecurisive.png)\n",
    "\n",
    "*[image source](https://gl.wikipedia.org/wiki/Ficheiro:FibbonacciRecurisive.png)*"
   ]
  },
  {
   "cell_type": "code",
   "execution_count": 58,
   "metadata": {},
   "outputs": [],
   "source": [
    "def fibonacci(number):\n",
    "    if number <2 :\n",
    "        return number\n",
    "    else:\n",
    "        return fibonacci(number - 1) + fibonacci(number - 2)"
   ]
  },
  {
   "cell_type": "code",
   "execution_count": 59,
   "metadata": {},
   "outputs": [
    {
     "data": {
      "text/plain": [
       "75025"
      ]
     },
     "execution_count": 59,
     "metadata": {},
     "output_type": "execute_result"
    }
   ],
   "source": [
    "fibonacci(25)"
   ]
  },
  {
   "cell_type": "markdown",
   "metadata": {},
   "source": [
    "Please use PythonTutor and follow the steps for `fibonacci(5)` which is comprised of 62 steps!"
   ]
  },
  {
   "cell_type": "markdown",
   "metadata": {},
   "source": [
    "## More about recursion\n",
    "\n",
    "* Please search for \"Memoized recursion\", which is more efficient method. As you might have noticed, in `fibonacci()` function we calculate, for instance, `fibonacci(3)` many times.\n",
    "* Functions such as factorial or fibonacci are not truly recursive. They can be calculated in iterative fashion. Please check out \"[Ackermann function](https://en.wikipedia.org/wiki/Ackermann_function)\" which is truly recursive."
   ]
  },
  {
   "cell_type": "markdown",
   "metadata": {},
   "source": [
    "# User input"
   ]
  },
  {
   "cell_type": "markdown",
   "metadata": {},
   "source": [
    "The code can have input from console (user) or from filesystem (file) and use it within the code.\n",
    "\n",
    "Let's first see how to get input from user/console.\n",
    "\n",
    "The function for getting input from user is `input()`"
   ]
  },
  {
   "cell_type": "code",
   "execution_count": 62,
   "metadata": {},
   "outputs": [
    {
     "name": "stdin",
     "output_type": "stream",
     "text": [
      "Write something:  Hello\n"
     ]
    }
   ],
   "source": [
    "my_input = input(\"Write something: \")"
   ]
  },
  {
   "cell_type": "code",
   "execution_count": 63,
   "metadata": {},
   "outputs": [
    {
     "name": "stdout",
     "output_type": "stream",
     "text": [
      "Hello\n"
     ]
    }
   ],
   "source": [
    "print(my_input)"
   ]
  },
  {
   "cell_type": "markdown",
   "metadata": {},
   "source": [
    "Let's ask user which Fibonacci number should be calculated."
   ]
  },
  {
   "cell_type": "code",
   "execution_count": 65,
   "metadata": {},
   "outputs": [
    {
     "name": "stdin",
     "output_type": "stream",
     "text": [
      "Please enter value to calculate nth Fibonacci number 30\n"
     ]
    },
    {
     "data": {
      "text/plain": [
       "str"
      ]
     },
     "execution_count": 65,
     "metadata": {},
     "output_type": "execute_result"
    }
   ],
   "source": [
    "f_input = input(\"Please enter value to calculate nth Fibonacci number\")\n",
    "print(fibonacci(f_input))\n",
    "#type(f_input)"
   ]
  },
  {
   "cell_type": "markdown",
   "metadata": {},
   "source": [
    "Uh oh! What just happened?\n",
    "\n",
    "`input()` function assigns the value as string and our function uses integer value. Let's try again:"
   ]
  },
  {
   "cell_type": "code",
   "execution_count": 67,
   "metadata": {},
   "outputs": [
    {
     "name": "stdin",
     "output_type": "stream",
     "text": [
      "Please enter value to calculate nth Fibonacci number 25\n"
     ]
    },
    {
     "name": "stdout",
     "output_type": "stream",
     "text": [
      "75025\n"
     ]
    }
   ],
   "source": [
    "f_input = input(\"Please enter value to calculate nth Fibonacci number\")\n",
    "print(fibonacci(int(f_input)))"
   ]
  },
  {
   "cell_type": "markdown",
   "metadata": {},
   "source": [
    "Being able to get input from user allows us dynamically computing results tailored for the user.\n",
    "\n",
    "We can process list of numbers or do word count for a text input by user\n",
    "\n",
    "### Example 1\n",
    "\n",
    "Take squares of odd numbers in a list provided by user (comma separated)"
   ]
  },
  {
   "cell_type": "code",
   "execution_count": 72,
   "metadata": {},
   "outputs": [
    {
     "name": "stdin",
     "output_type": "stream",
     "text": [
      "  1,9,2,7,5,10\n"
     ]
    },
    {
     "name": "stdout",
     "output_type": "stream",
     "text": [
      "[1, 81, 49, 25]\n"
     ]
    }
   ],
   "source": [
    "values = input()\n",
    "\n",
    "# numbers = values.split(\",\")\n",
    "# for number in numbers:\n",
    "#    if int(number) % 2 != 0:\n",
    "#        print(int(number) ** 2)\n",
    "\n",
    "# is equivalent to\n",
    "\n",
    "numbers = [int(x)**2 for x in values.split(\",\") if int(x)%2!=0]\n",
    "print(numbers)"
   ]
  },
  {
   "cell_type": "markdown",
   "metadata": {},
   "source": [
    "### Example 2\n",
    "\n",
    "Get a sentence from user and do word count."
   ]
  },
  {
   "cell_type": "code",
   "execution_count": 73,
   "metadata": {},
   "outputs": [
    {
     "name": "stdin",
     "output_type": "stream",
     "text": [
      "Please type a sentence:  hi this is short sentence and is being count\n"
     ]
    },
    {
     "name": "stdout",
     "output_type": "stream",
     "text": [
      "hi:1\n",
      "this:1\n",
      "is:2\n",
      "short:1\n",
      "sentence:1\n",
      "and:1\n",
      "being:1\n",
      "count:1\n"
     ]
    }
   ],
   "source": [
    "freq = {}   # frequency of words in text\n",
    "line = input(\"Please type a sentence: \")\n",
    "for word in line.split():\n",
    "    freq[word] = freq.get(word,0)+1\n",
    "words = list(freq.keys())\n",
    "for w in words:\n",
    "    print(\"%s:%d\" % (w,freq[w]))"
   ]
  },
  {
   "cell_type": "markdown",
   "metadata": {},
   "source": [
    "# File input"
   ]
  },
  {
   "cell_type": "code",
   "execution_count": 74,
   "metadata": {},
   "outputs": [
    {
     "data": {
      "text/plain": [
       "'The Project Gutenberg EBook of Emma, by Jane Austen\\n'"
      ]
     },
     "execution_count": 74,
     "metadata": {},
     "output_type": "execute_result"
    }
   ],
   "source": [
    "f=open(\"data/jane-austen-emma.txt\")\n",
    "# file.read() function will print whole book\n",
    "f.readline()\n"
   ]
  },
  {
   "cell_type": "code",
   "execution_count": 75,
   "metadata": {},
   "outputs": [],
   "source": [
    "f=open(\"data/jane-austen-emma.txt\")\n",
    "lines = f.readlines()\n",
    "f.close()"
   ]
  },
  {
   "cell_type": "code",
   "execution_count": 76,
   "metadata": {},
   "outputs": [
    {
     "data": {
      "text/plain": [
       "['The Project Gutenberg EBook of Emma, by Jane Austen\\n',\n",
       " '\\n',\n",
       " 'This eBook is for the use of anyone anywhere at no cost and with\\n',\n",
       " 'almost no restrictions whatsoever.  You may copy it, give it away or\\n',\n",
       " 're-use it under the terms of the Project Gutenberg License included\\n',\n",
       " 'with this eBook or online at www.gutenberg.org\\n',\n",
       " '\\n',\n",
       " '\\n',\n",
       " 'Title: Emma\\n']"
      ]
     },
     "execution_count": 76,
     "metadata": {},
     "output_type": "execute_result"
    }
   ],
   "source": [
    "lines[0:9]"
   ]
  },
  {
   "cell_type": "code",
   "execution_count": 78,
   "metadata": {},
   "outputs": [
    {
     "name": "stdout",
     "output_type": "stream",
     "text": [
      "hi:1\n",
      "this:815\n",
      "is:2322\n",
      "short:55\n",
      "sentence:7\n",
      "and:8615\n",
      "being:705\n",
      "count:3\n",
      "The:610\n"
     ]
    }
   ],
   "source": [
    "for line in lines: \n",
    "    for word in line.split():\n",
    "        freq[word] = freq.get(word,0)+1\n",
    "words = list(freq.keys())[0:9]\n",
    "for w in words:\n",
    "    print(\"%s:%d\" % (w,freq[w]))"
   ]
  }
 ],
 "metadata": {
  "kernelspec": {
   "display_name": "Python 3",
   "language": "python",
   "name": "python3"
  },
  "language_info": {
   "codemirror_mode": {
    "name": "ipython",
    "version": 3
   },
   "file_extension": ".py",
   "mimetype": "text/x-python",
   "name": "python",
   "nbconvert_exporter": "python",
   "pygments_lexer": "ipython3",
   "version": "3.6.5"
  }
 },
 "nbformat": 4,
 "nbformat_minor": 2
}
