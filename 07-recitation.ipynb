{
 "cells": [
  {
   "cell_type": "markdown",
   "metadata": {},
   "source": [
    "# Recitation 7"
   ]
  },
  {
   "cell_type": "markdown",
   "metadata": {},
   "source": [
    "## Question 1\n",
    "\n",
    "Please draw the plot for sin(x) for angles between 0 and 360. Please note that `sin(30)` is not 0.5 as you expect. You need to figure out what type of input is expected (radians, degrees, angles in $\\pi$, etc.) for `sin()` function."
   ]
  },
  {
   "cell_type": "code",
   "execution_count": null,
   "metadata": {},
   "outputs": [],
   "source": [
    "## Answer 1\n",
    "import matplotlib.pyplot as plt\n",
    "from math import sin,pi,radians\n",
    "\n",
    "x= list(range(0,361))\n"
   ]
  },
  {
   "cell_type": "markdown",
   "metadata": {},
   "source": [
    "## Question 2\n",
    "\n",
    "In an earlier lecture we counted words in *Emma* by Jane Austen. The novel is available under data folder. Please draw a bargraph showing top 10 words with highest frequency."
   ]
  },
  {
   "cell_type": "code",
   "execution_count": null,
   "metadata": {},
   "outputs": [],
   "source": [
    "# Answer 2\n"
   ]
  },
  {
   "cell_type": "markdown",
   "metadata": {},
   "source": [
    "## Question 3\n",
    "\n",
    "Again, use the novel *Emma* to draw the following image:\n",
    "\n",
    "![](images/emma-chars.png)\n",
    "\n",
    "Part of the code is given, please fill in the blanks to plot the desired figure.\n",
    "\n"
   ]
  },
  {
   "cell_type": "code",
   "execution_count": null,
   "metadata": {},
   "outputs": [],
   "source": [
    "from collections import Counter\n",
    "import matplotlib.pyplot as plt\n",
    "\n",
    "f=open(\"data/jane-austen-emma.txt\")\n",
    "char_count = Counter(f.read().lower())\n",
    "f.close()\n",
    "\n",
    "small_letters=[chr(i) for i in range(97,123)]\n",
    "\n",
    "# clean char_count using small_letters\n",
    "\n",
    "# sort char_count according to occurrence\n",
    "\n",
    "# plot bar graph\n",
    "\n"
   ]
  }
 ],
 "metadata": {
  "kernelspec": {
   "display_name": "Python 3",
   "language": "python",
   "name": "python3"
  },
  "language_info": {
   "codemirror_mode": {
    "name": "ipython",
    "version": 3
   },
   "file_extension": ".py",
   "mimetype": "text/x-python",
   "name": "python",
   "nbconvert_exporter": "python",
   "pygments_lexer": "ipython3",
   "version": "3.7.10"
  }
 },
 "nbformat": 4,
 "nbformat_minor": 4
}
