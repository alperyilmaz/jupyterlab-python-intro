{
 "cells": [
  {
   "cell_type": "markdown",
   "metadata": {},
   "source": [
    "# Recitation 7"
   ]
  },
  {
   "cell_type": "markdown",
   "metadata": {},
   "source": [
    "## Question 1\n",
    "\n",
    "Please draw the plot for sin(x) for angles between 0 and 360. Please note that `sin(30)` is not 0.5 as you expect. You need to figure out what type of input is expected (radians, degrees, angles in $\\pi$, etc.) for `sin()` function."
   ]
  },
  {
   "cell_type": "code",
   "execution_count": null,
   "metadata": {
    "tags": []
   },
   "outputs": [],
   "source": [
    "## Answer 1\n",
    "import matplotlib.pyplot as plt\n",
    "from math import sin,pi,radians\n",
    "\n",
    "x= list(range(0,361))\n",
    "y= ...\n",
    "\n",
    "plt.plot(x,y)"
   ]
  },
  {
   "cell_type": "markdown",
   "metadata": {},
   "source": [
    "## Question 1b\n",
    "\n",
    "Please draw sin(x) and cos(x) plots stacked on top of each other.\n"
   ]
  },
  {
   "cell_type": "code",
   "execution_count": null,
   "metadata": {
    "tags": []
   },
   "outputs": [],
   "source": [
    "## Answer 1b\n",
    "import matplotlib.pyplot as plt\n",
    "from math import sin,cos,pi,radians\n",
    "\n",
    "x = list(range(0,361))\n",
    "y1 = ...\n",
    "y2 = ...\n",
    "\n",
    "plt.subplot(...)\n",
    "plt.plot(...)\n",
    "plt.subplot(...)\n",
    "plt.plot(...)"
   ]
  },
  {
   "cell_type": "markdown",
   "metadata": {},
   "source": [
    "## Question 2\n",
    "\n",
    "In an earlier lecture we counted words in *Emma* by Jane Austen. The novel is available under data folder. Please draw a bargraph showing top 10 words with highest frequency."
   ]
  },
  {
   "cell_type": "code",
   "execution_count": null,
   "metadata": {},
   "outputs": [],
   "source": [
    "# Answer 2\n",
    "from collections import Counter\n",
    "f=open(\"data/jane-austen-emma.txt\")\n",
    "word_count = Counter(f.read().lower().split())\n",
    "f.close()\n",
    "\n",
    "\n"
   ]
  },
  {
   "cell_type": "markdown",
   "metadata": {},
   "source": [
    "## Question 3\n",
    "\n",
    "Again, use the novel *Emma* to draw the following image:\n",
    "\n",
    "![](images/emma-chars.png)\n",
    "\n",
    "Part of the code is given, please fill in the blanks to plot the desired figure.\n",
    "\n"
   ]
  },
  {
   "cell_type": "code",
   "execution_count": null,
   "metadata": {},
   "outputs": [],
   "source": [
    "from collections import Counter\n",
    "import matplotlib.pyplot as plt\n",
    "\n",
    "f=open(\"data/jane-austen-emma.txt\")\n",
    "char_count = Counter(f.read().lower())\n",
    "f.close()\n",
    "\n",
    "#small_letters=[chr(i) for i in range(97,123)]\n",
    "small_letters=\"abcdefghijklmnopqrstuvwxyz\"\n",
    "\n",
    "# clean char_count using small_letters\n",
    "clean_chars = ...\n",
    "\n",
    "# sort char_count according to occurrence\n",
    "sorted_chars = ...\n",
    "\n",
    "# plot bar graph\n",
    "chars = ...\n",
    "counts = ...\n",
    "plt.plot(chars, counts)"
   ]
  },
  {
   "cell_type": "markdown",
   "metadata": {},
   "source": [
    "# Question 4\n",
    "\n",
    "The code generates 500 numbers with normal and lognormal distributions. Let's visualize how these distributions look like. Please draw histogram **for each distribution** and draw boxplot **for both distributions**. For more information about boxplot please visit [this page](https://en.wikipedia.org/wiki/Box_plot). Here's an excerp from [an article from Nature](https://www.nature.com/articles/nmeth.2807.pdf):\n",
    "\n",
    "> Because the bars always start at zero, they can be misleading: for example, part of the range covered \n",
    "by the bar might have never been observed in the sample. If our goal is to represent and compare distributions, we need a representation that more accurately reflects the data that underlie the visualization. Box plots, also known as box-and-whiskers plots, encode five characteristics of a distribution by position and length providing an effective summary of a potentially large amount of \n",
    "data"
   ]
  },
  {
   "cell_type": "code",
   "execution_count": null,
   "metadata": {},
   "outputs": [],
   "source": [
    "import numpy as np\n",
    "\n",
    "N = 500\n",
    "norm = np.random.normal(1, 1, N)\n",
    "logn = np.random.lognormal(1, 1, N)\n",
    "\n",
    "# two histograms\n",
    "\n",
    "\n",
    "# boxplot\n",
    "\n"
   ]
  }
 ],
 "metadata": {
  "kernelspec": {
   "display_name": "Python 3",
   "language": "python",
   "name": "python3"
  },
  "language_info": {
   "codemirror_mode": {
    "name": "ipython",
    "version": 3
   },
   "file_extension": ".py",
   "mimetype": "text/x-python",
   "name": "python",
   "nbconvert_exporter": "python",
   "pygments_lexer": "ipython3",
   "version": "3.7.10"
  }
 },
 "nbformat": 4,
 "nbformat_minor": 4
}
