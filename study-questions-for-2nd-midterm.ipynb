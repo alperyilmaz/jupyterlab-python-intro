{
 "cells": [
  {
   "cell_type": "markdown",
   "metadata": {
    "tags": []
   },
   "source": [
    "# Resources for 2nd midterm study questions\n",
    "\n",
    "Our example will **focus on** Matplotlib and Numpy. During recitation hour last week we compiled resources that contain questions so that we can study by **coding from scratch**. \n",
    "\n",
    "\n",
    "## Resource 1. Wikiversity\n",
    "\n",
    "[NumPy quiz](https://en.wikiversity.org/wiki/Python_Concepts/Quizzes/NumPy_%26_Co.), questions 5,6 and 8\n",
    "\n",
    "## Resource 2\n",
    "\n",
    "[link to pdf](https://web.archive.org/web/20181123154926/https://www.ceda.ac.uk/static/media/uploads/ncas-reading-2015/numpy_exercises_solutions.pdf)\n",
    "\n",
    "* Exercise:  Introduction to NumPy  arrays\n",
    "* Exercise: Interrogating and manipulating arrays\n",
    "* Exercise: Array calculations and operations  \n",
    "\n",
    "## Resource 3. python-course.eu\n",
    "\n",
    "* [Create NumPy arrays](https://www.python-course.eu/numpy_create_arrays.php): exercises at the bottom of the page\n",
    "* [Numpy: Boolean Indexing](https://www.python-course.eu/numpy_masking.php) : exercises at the bottom of the page\n",
    "\n",
    "## Resource 4. sed.inrialpes.fr/~douze\n",
    "\n",
    "* [Section 1: numpy intro, 1D arrays](http://sed.inrialpes.fr/~douze/numpy_training/s2/#basic)\n",
    "* [Section 2: ndarray, matrix operations](http://sed.inrialpes.fr/~douze/numpy_training/s2/#matrix)\n",
    "\n",
    "## Resource 5. w3resource\n",
    "\n",
    "w3resource site has lots of [NumPy Exercises](https://www.w3resource.com/python-exercises/numpy/index.php) divided into categeries\n",
    "\n",
    "* [NumPy Basic](https://www.w3resource.com/python-exercises/numpy/basic/index.php)\n",
    "* [NumPy Array](https://www.w3resource.com/python-exercises/numpy/index-array.php)\n",
    "* [NumPy Random](https://www.w3resource.com/python-exercises/numpy/python-numpy-random.php)\n",
    "\n",
    "## Resource 6. MTH 337\n",
    "\n",
    "* [MTH 337 Sample Quiz 5](http://www.math.buffalo.edu/~badzioch/MTH337/_downloads/quiz5_sample.pdf)\n",
    "* [MTH 337 Sample Quiz 6](http://www.math.buffalo.edu/~badzioch/MTH337/_downloads/quiz6_sample.pdf)\n",
    "* [MTH 337 Sample Quiz 7](http://www.math.buffalo.edu/~badzioch/MTH337/_downloads/quiz7_sample.pdf)\n",
    "* [MTH 337 Sample Quiz 8](http://www.math.buffalo.edu/~badzioch/MTH337/_downloads/quiz8_sample.pdf)\n",
    "\n",
    "Previous year quizes\n",
    "\n",
    "* [MTH 337 Sample Quiz 6](http://www.acsu.buffalo.edu/~adamcunn/spring2017/_downloads/Quiz6Sample.pdf)\n",
    "* [MTH 337 Sample Quiz 7](http://www.acsu.buffalo.edu/~adamcunn/spring2017/_downloads/Quiz7Sample.pdf)\n",
    "* [MTH 337 Sample Quiz 9](http://www.acsu.buffalo.edu/~adamcunn/spring2017/_downloads/Quiz9Sample.pdf)\n",
    "* [MTH 337 Sample Quiz10](http://www.acsu.buffalo.edu/~adamcunn/spring2017/_downloads/Quiz10Sample.pdf)\n",
    "* [MTH 337 Sample Quiz11](http://www.acsu.buffalo.edu/~adamcunn/spring2017/_downloads/Quiz11Sample.pdf)\n",
    "\n"
   ]
  },
  {
   "cell_type": "code",
   "execution_count": 14,
   "metadata": {},
   "outputs": [
    {
     "data": {
      "text/plain": [
       "[<matplotlib.lines.Line2D at 0x7f9081163650>]"
      ]
     },
     "execution_count": 14,
     "metadata": {},
     "output_type": "execute_result"
    },
    {
     "data": {
      "image/png": "[encoded data removed]",
      "text/plain": [
       "<Figure size 432x288 with 1 Axes>"
      ]
     },
     "metadata": {
      "needs_background": "light"
     },
     "output_type": "display_data"
    }
   ],
   "source": [
    "import numpy as np\n",
    "import matplotlib.pyplot as plt\n",
    "\n",
    "x = np.arange(10)\n",
    "\n",
    "plt.subplot2grid((3,3),(2,0))\n",
    "plt.plot(x, x)\n"
   ]
  },
  {
   "cell_type": "code",
   "execution_count": null,
   "metadata": {},
   "outputs": [],
   "source": []
  }
 ],
 "metadata": {
  "kernelspec": {
   "display_name": "Python 3",
   "language": "python",
   "name": "python3"
  },
  "language_info": {
   "codemirror_mode": {
    "name": "ipython",
    "version": 3
   },
   "file_extension": ".py",
   "mimetype": "text/x-python",
   "name": "python",
   "nbconvert_exporter": "python",
   "pygments_lexer": "ipython3",
   "version": "3.7.10"
  }
 },
 "nbformat": 4,
 "nbformat_minor": 4
}
