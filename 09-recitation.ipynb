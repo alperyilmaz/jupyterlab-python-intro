{
 "cells": [
  {
   "cell_type": "markdown",
   "id": "5238186b-38d4-46dc-b74e-787e6353c6f5",
   "metadata": {},
   "source": [
    "# Recitation 9 - More Numpy, 2nd Midterm and Homework\n",
    "\n",
    "## Questions\n",
    "\n",
    "## Second Midterm\n",
    "\n",
    "The study questions are located in Binder/Jupyterlab environment. The file name is `study-questions-for-2nd-midterm_rev.ipynb`\n",
    "\n",
    "Please go over them in order to prepare for the exam.\n",
    "\n",
    "## Homework (To be determined)\n",
    "\n",
    "Due date is: January 4th, 2022 (To be determined)\n",
    "\n",
    "The demo is at https://www.youtube.com/watch?v=Zm9B-DvwOgw\n",
    "Before starting which game to develop, please indicate your intend. Here's some list of arcade style games:\n",
    "\n",
    "> Houston we have a problem. OpenAI Codex is not available right now!\n"
   ]
  }
 ],
 "metadata": {
  "kernelspec": {
   "display_name": "Python 3",
   "language": "python",
   "name": "python3"
  },
  "language_info": {
   "codemirror_mode": {
    "name": "ipython",
    "version": 3
   },
   "file_extension": ".py",
   "mimetype": "text/x-python",
   "name": "python",
   "nbconvert_exporter": "python",
   "pygments_lexer": "ipython3",
   "version": "3.7.10"
  }
 },
 "nbformat": 4,
 "nbformat_minor": 5
}
