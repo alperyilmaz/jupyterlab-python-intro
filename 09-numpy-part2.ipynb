{
 "cells": [
  {
   "cell_type": "markdown",
   "metadata": {},
   "source": [
    "# NumPy - Part 2\n",
    "\n",
    "NumPy has [long list of functions](https://docs.scipy.org/doc/numpy-1.15.1/genindex.html), difficult to go over all of them. Please refer to its [manual](https://docs.scipy.org/doc/numpy-1.15.1/reference/). You can use tab to see the available functions as well.\n",
    "\n",
    "In this notebook we'll cover more features of NumPy.\n",
    "\n",
    "> Most of the code in this notebook has been taken or adapted from [Bootcamp for Biology notebook](http://nbviewer.jupyter.org/url/atwallab.cshl.edu/teaching/QBbootcamp3.ipynb) prepared by Mickey Atwal, Cold Spring Harbor Laboratory. ([Lab website](http://atwallab.cshl.edu))\n",
    "A gentle introduction to some elements of scientific programming in Python.\n"
   ]
  },
  {
   "cell_type": "markdown",
   "metadata": {},
   "source": [
    "### 1. Loading data"
   ]
  },
  {
   "cell_type": "markdown",
   "metadata": {},
   "source": [
    "We will be working with the text file containing the nucleotide counts of the E. Coli DNA binding sites of the transcription factor CRP (cAMP receptor protein) also known as CAP (catabolite gene activator protein). You can find a copy at http://atwallab.cshl.edu/links/crp_counts_matrix.txt. "
   ]
  },
  {
   "cell_type": "code",
   "execution_count": 1,
   "metadata": {
    "collapsed": false,
    "jupyter": {
     "outputs_hidden": false
    }
   },
   "outputs": [],
   "source": [
    "# web URL address of the file \n",
    "# http://atwallab.cshl.edu/links/crp_counts_matrix.txt\n",
    "\n",
    "# name of the file to be saved into\n",
    "filename=\"data/crp_counts_matrix.txt\""
   ]
  },
  {
   "cell_type": "markdown",
   "metadata": {},
   "source": [
    "This is a small tab-delimited text file where the counts data at each of the 42 nucleotide positions is stored as a series of strings. Let's take a look using the Unix command \"head\""
   ]
  },
  {
   "cell_type": "code",
   "execution_count": 2,
   "metadata": {
    "collapsed": false,
    "jupyter": {
     "outputs_hidden": false
    }
   },
   "outputs": [
    {
     "name": "stdout",
     "output_type": "stream",
     "text": [
      "109\t61\t57\t115\n",
      "95\t74\t62\t111\n",
      "111\t70\t70\t91\n",
      "89\t68\t83\t102\n",
      "99\t79\t72\t92\n",
      "93\t66\t72\t111\n",
      "83\t79\t77\t103\n",
      "91\t85\t70\t96\n",
      "121\t63\t71\t87\n",
      "143\t38\t57\t104\n"
     ]
    }
   ],
   "source": [
    "!head data/crp_counts_matrix.txt"
   ]
  },
  {
   "cell_type": "markdown",
   "metadata": {},
   "source": [
    "We need to convert this to a numerical array of numbers where we can perform computations.  The [genfromtxt](http://docs.scipy.org/doc/numpy/reference/generated/numpy.genfromtxt.html) function in NumPy automatically generates a NumPy array from a text file"
   ]
  },
  {
   "cell_type": "code",
   "execution_count": 3,
   "metadata": {
    "collapsed": false,
    "jupyter": {
     "outputs_hidden": false
    }
   },
   "outputs": [],
   "source": [
    "# loads data from text file and store in an integer NumPy array called 'counts'\n",
    "import numpy as np\n",
    "counts=np.genfromtxt(filename,dtype=int)"
   ]
  },
  {
   "cell_type": "markdown",
   "metadata": {},
   "source": [
    "> There's an alternative function to read txt files: `np.loadtxt()`"
   ]
  },
  {
   "cell_type": "markdown",
   "metadata": {},
   "source": [
    "### 2. Working with numerical arrays"
   ]
  },
  {
   "cell_type": "code",
   "execution_count": 4,
   "metadata": {
    "collapsed": false,
    "jupyter": {
     "outputs_hidden": false
    }
   },
   "outputs": [
    {
     "data": {
      "text/plain": [
       "2"
      ]
     },
     "execution_count": 4,
     "metadata": {},
     "output_type": "execute_result"
    }
   ],
   "source": [
    "counts.ndim # what is the dimensionality of the array?"
   ]
  },
  {
   "cell_type": "code",
   "execution_count": 5,
   "metadata": {
    "collapsed": false,
    "jupyter": {
     "outputs_hidden": false
    }
   },
   "outputs": [
    {
     "data": {
      "text/plain": [
       "(42, 4)"
      ]
     },
     "execution_count": 5,
     "metadata": {},
     "output_type": "execute_result"
    }
   ],
   "source": [
    "counts.shape # what is the size of the array? (rows, columns)"
   ]
  },
  {
   "cell_type": "code",
   "execution_count": 6,
   "metadata": {
    "collapsed": false,
    "jupyter": {
     "outputs_hidden": false
    }
   },
   "outputs": [
    {
     "data": {
      "text/plain": [
       "dtype('int64')"
      ]
     },
     "execution_count": 6,
     "metadata": {},
     "output_type": "execute_result"
    }
   ],
   "source": [
    "counts.dtype # what is the data type of the array?"
   ]
  },
  {
   "cell_type": "markdown",
   "metadata": {},
   "source": [
    "#### Array indexing"
   ]
  },
  {
   "cell_type": "markdown",
   "metadata": {},
   "source": [
    "Let's practise some array indexing to remember how they work in Python"
   ]
  },
  {
   "cell_type": "code",
   "execution_count": 7,
   "metadata": {
    "collapsed": false,
    "jupyter": {
     "outputs_hidden": false
    }
   },
   "outputs": [
    {
     "data": {
      "text/plain": [
       "array([[109,  61,  57, 115],\n",
       "       [ 95,  74,  62, 111],\n",
       "       [111,  70,  70,  91],\n",
       "       [ 89,  68,  83, 102],\n",
       "       [ 99,  79,  72,  92]])"
      ]
     },
     "execution_count": 7,
     "metadata": {},
     "output_type": "execute_result"
    }
   ],
   "source": [
    "# let's have a look at the first five rows\n",
    "counts[:5]"
   ]
  },
  {
   "cell_type": "code",
   "execution_count": 8,
   "metadata": {
    "collapsed": false,
    "jupyter": {
     "outputs_hidden": false
    }
   },
   "outputs": [
    {
     "data": {
      "text/plain": [
       "array([109,  61,  57, 115])"
      ]
     },
     "execution_count": 8,
     "metadata": {},
     "output_type": "execute_result"
    }
   ],
   "source": [
    "# the first row\n",
    "counts[0]"
   ]
  },
  {
   "cell_type": "code",
   "execution_count": 9,
   "metadata": {
    "collapsed": false,
    "jupyter": {
     "outputs_hidden": false
    }
   },
   "outputs": [
    {
     "data": {
      "text/plain": [
       "array([[ 95,  74,  62, 111],\n",
       "       [111,  70,  70,  91]])"
      ]
     },
     "execution_count": 9,
     "metadata": {},
     "output_type": "execute_result"
    }
   ],
   "source": [
    "# rows 2 to 3, i.e. the second to third rows\n",
    "counts[1:3]"
   ]
  },
  {
   "cell_type": "code",
   "execution_count": 10,
   "metadata": {
    "collapsed": false,
    "jupyter": {
     "outputs_hidden": false
    }
   },
   "outputs": [
    {
     "data": {
      "text/plain": [
       "array([ 61,  74,  70,  68,  79,  66,  79,  85,  63,  38,  25,  28,  43,\n",
       "        40,  16,  36,  18,  41,  54, 106,  81,  45,  74,  60,  31, 247,\n",
       "        29, 232,  35,  62,  39,  43,  51,  62,  72,  62,  90,  71,  76,\n",
       "        74,  72,  49])"
      ]
     },
     "execution_count": 10,
     "metadata": {},
     "output_type": "execute_result"
    }
   ],
   "source": [
    "# the second column\n",
    "counts[:,1]"
   ]
  },
  {
   "cell_type": "code",
   "execution_count": 11,
   "metadata": {
    "collapsed": false,
    "jupyter": {
     "outputs_hidden": false
    }
   },
   "outputs": [
    {
     "data": {
      "text/plain": [
       "array([[121,  72,  44, 105],\n",
       "       [130,  49,  52, 111]])"
      ]
     },
     "execution_count": 11,
     "metadata": {},
     "output_type": "execute_result"
    }
   ],
   "source": [
    "# the last two rows\n",
    "counts[-2:]"
   ]
  },
  {
   "cell_type": "code",
   "execution_count": 12,
   "metadata": {
    "collapsed": false,
    "jupyter": {
     "outputs_hidden": false
    }
   },
   "outputs": [
    {
     "data": {
      "text/plain": [
       "array([[109,  61,  57, 115],\n",
       "       [ 89,  68,  83, 102],\n",
       "       [ 83,  79,  77, 103],\n",
       "       [143,  38,  57, 104],\n",
       "       [127,  43,  46, 126],\n",
       "       [ 30,  36,  27, 249],\n",
       "       [ 74,  54,  53, 161],\n",
       "       [131,  45,  88,  78],\n",
       "       [ 32,  31,  30, 249],\n",
       "       [ 60, 232,  16,  34],\n",
       "       [116,  39,  20, 167],\n",
       "       [100,  62,  58, 122],\n",
       "       [108,  90,  65,  79],\n",
       "       [102,  74,  66, 100]])"
      ]
     },
     "execution_count": 12,
     "metadata": {},
     "output_type": "execute_result"
    }
   ],
   "source": [
    "# every third row beginning with the first\n",
    "counts[::3]"
   ]
  },
  {
   "cell_type": "code",
   "execution_count": 13,
   "metadata": {
    "collapsed": false,
    "jupyter": {
     "outputs_hidden": false
    }
   },
   "outputs": [
    {
     "data": {
      "text/plain": [
       "array([[ 70,  70,  91],\n",
       "       [ 68,  83, 102]])"
      ]
     },
     "execution_count": 13,
     "metadata": {},
     "output_type": "execute_result"
    }
   ],
   "source": [
    "# rows 3 to 4, and columns 2 to 4 \n",
    "counts[2:4,1:4]"
   ]
  },
  {
   "cell_type": "markdown",
   "metadata": {},
   "source": [
    "Here's a summary of indexing and slicing. (*[Image source](https://scipy-lectures.org/intro/numpy/array_object.html#indexing-and-slicing)*)\n",
    "\n",
    "![](images/numpy_indexing.png)"
   ]
  },
  {
   "cell_type": "markdown",
   "metadata": {},
   "source": [
    "#### Reshaping"
   ]
  },
  {
   "cell_type": "code",
   "execution_count": 14,
   "metadata": {},
   "outputs": [
    {
     "data": {
      "text/plain": [
       "array([[109,  61,  57, 115,  95,  74,  62, 111],\n",
       "       [111,  70,  70,  91,  89,  68,  83, 102],\n",
       "       [ 99,  79,  72,  92,  93,  66,  72, 111],\n",
       "       [ 83,  79,  77, 103,  91,  85,  70,  96],\n",
       "       [121,  63,  71,  87, 143,  38,  57, 104],\n",
       "       [162,  25,  38, 117, 155,  28,  43, 116],\n",
       "       [127,  43,  46, 126,  40,  40,  29, 233],\n",
       "       [ 32,  16, 240,  54,  30,  36,  27, 249],\n",
       "       [ 29,  18, 254,  41, 227,  41,  46,  28],\n",
       "       [ 74,  54,  53, 161,  68, 106,  77,  91],\n",
       "       [ 70,  81,  55, 136, 131,  45,  88,  78],\n",
       "       [ 77,  74, 100,  91, 134,  60,  59,  89],\n",
       "       [ 32,  31,  30, 249,  46, 247,  14,  35],\n",
       "       [238,  29,  41,  34,  60, 232,  16,  34],\n",
       "       [217,  35,  45,  45,  94,  62,  49, 137],\n",
       "       [116,  39,  20, 167, 113,  43,  24, 162],\n",
       "       [ 89,  51,  38, 164, 100,  62,  58, 122],\n",
       "       [110,  72,  67,  93, 105,  62,  76,  99],\n",
       "       [108,  90,  65,  79, 110,  71,  72,  89],\n",
       "       [ 93,  76,  65, 108, 102,  74,  66, 100],\n",
       "       [121,  72,  44, 105, 130,  49,  52, 111]])"
      ]
     },
     "execution_count": 14,
     "metadata": {},
     "output_type": "execute_result"
    }
   ],
   "source": [
    "counts.reshape(21,8)"
   ]
  },
  {
   "cell_type": "code",
   "execution_count": 15,
   "metadata": {},
   "outputs": [
    {
     "data": {
      "text/plain": [
       "array([[[109,  61,  57, 115,  95,  74,  62, 111, 111,  70,  70,  91,\n",
       "          89,  68,  83, 102,  99,  79,  72,  92,  93],\n",
       "        [ 66,  72, 111,  83,  79,  77, 103,  91,  85,  70,  96, 121,\n",
       "          63,  71,  87, 143,  38,  57, 104, 162,  25]],\n",
       "\n",
       "       [[ 38, 117, 155,  28,  43, 116, 127,  43,  46, 126,  40,  40,\n",
       "          29, 233,  32,  16, 240,  54,  30,  36,  27],\n",
       "        [249,  29,  18, 254,  41, 227,  41,  46,  28,  74,  54,  53,\n",
       "         161,  68, 106,  77,  91,  70,  81,  55, 136]],\n",
       "\n",
       "       [[131,  45,  88,  78,  77,  74, 100,  91, 134,  60,  59,  89,\n",
       "          32,  31,  30, 249,  46, 247,  14,  35, 238],\n",
       "        [ 29,  41,  34,  60, 232,  16,  34, 217,  35,  45,  45,  94,\n",
       "          62,  49, 137, 116,  39,  20, 167, 113,  43]],\n",
       "\n",
       "       [[ 24, 162,  89,  51,  38, 164, 100,  62,  58, 122, 110,  72,\n",
       "          67,  93, 105,  62,  76,  99, 108,  90,  65],\n",
       "        [ 79, 110,  71,  72,  89,  93,  76,  65, 108, 102,  74,  66,\n",
       "         100, 121,  72,  44, 105, 130,  49,  52, 111]]])"
      ]
     },
     "execution_count": 15,
     "metadata": {},
     "output_type": "execute_result"
    }
   ],
   "source": [
    "counts.reshape(4,2,21)"
   ]
  },
  {
   "cell_type": "code",
   "execution_count": 16,
   "metadata": {},
   "outputs": [
    {
     "data": {
      "text/plain": [
       "array([[109,  95, 111,  89,  99,  93,  83,  91, 121, 143, 162, 155, 127,\n",
       "         40,  32,  30,  29, 227,  74,  68,  70, 131,  77, 134,  32,  46,\n",
       "        238,  60, 217,  94, 116, 113,  89, 100, 110, 105, 108, 110,  93,\n",
       "        102, 121, 130],\n",
       "       [ 61,  74,  70,  68,  79,  66,  79,  85,  63,  38,  25,  28,  43,\n",
       "         40,  16,  36,  18,  41,  54, 106,  81,  45,  74,  60,  31, 247,\n",
       "         29, 232,  35,  62,  39,  43,  51,  62,  72,  62,  90,  71,  76,\n",
       "         74,  72,  49],\n",
       "       [ 57,  62,  70,  83,  72,  72,  77,  70,  71,  57,  38,  43,  46,\n",
       "         29, 240,  27, 254,  46,  53,  77,  55,  88, 100,  59,  30,  14,\n",
       "         41,  16,  45,  49,  20,  24,  38,  58,  67,  76,  65,  72,  65,\n",
       "         66,  44,  52],\n",
       "       [115, 111,  91, 102,  92, 111, 103,  96,  87, 104, 117, 116, 126,\n",
       "        233,  54, 249,  41,  28, 161,  91, 136,  78,  91,  89, 249,  35,\n",
       "         34,  34,  45, 137, 167, 162, 164, 122,  93,  99,  79,  89, 108,\n",
       "        100, 105, 111]])"
      ]
     },
     "execution_count": 16,
     "metadata": {},
     "output_type": "execute_result"
    }
   ],
   "source": [
    "counts.T"
   ]
  },
  {
   "cell_type": "markdown",
   "metadata": {},
   "source": [
    "#### Computations on arrays"
   ]
  },
  {
   "cell_type": "code",
   "execution_count": 17,
   "metadata": {
    "collapsed": false,
    "jupyter": {
     "outputs_hidden": false
    }
   },
   "outputs": [
    {
     "data": {
      "text/plain": [
       "(14, 254)"
      ]
     },
     "execution_count": 17,
     "metadata": {},
     "output_type": "execute_result"
    }
   ],
   "source": [
    "# the minimum and maximum element of the array\n",
    "np.min(counts), np.max(counts)"
   ]
  },
  {
   "cell_type": "code",
   "execution_count": 18,
   "metadata": {
    "collapsed": false,
    "jupyter": {
     "outputs_hidden": false
    }
   },
   "outputs": [
    {
     "data": {
      "text/plain": [
       "array([233, 240, 249, 254, 227, 249, 247, 238, 232, 217])"
      ]
     },
     "execution_count": 18,
     "metadata": {},
     "output_type": "execute_result"
    }
   ],
   "source": [
    "# select the elements greater than 200\n",
    "counts[counts>200]"
   ]
  },
  {
   "cell_type": "code",
   "execution_count": 19,
   "metadata": {},
   "outputs": [
    {
     "data": {
      "text/plain": [
       "array([[False, False, False, False],\n",
       "       [False, False, False, False],\n",
       "       [False, False, False, False],\n",
       "       [False, False, False, False],\n",
       "       [False, False, False, False],\n",
       "       [False, False, False, False],\n",
       "       [False, False, False, False],\n",
       "       [False, False, False, False],\n",
       "       [False, False, False, False],\n",
       "       [False, False, False, False],\n",
       "       [False, False, False, False],\n",
       "       [False, False, False, False],\n",
       "       [False, False, False, False],\n",
       "       [False, False, False,  True],\n",
       "       [False, False,  True, False],\n",
       "       [False, False, False,  True],\n",
       "       [False, False,  True, False],\n",
       "       [ True, False, False, False],\n",
       "       [False, False, False, False],\n",
       "       [False, False, False, False],\n",
       "       [False, False, False, False],\n",
       "       [False, False, False, False],\n",
       "       [False, False, False, False],\n",
       "       [False, False, False, False],\n",
       "       [False, False, False,  True],\n",
       "       [False,  True, False, False],\n",
       "       [ True, False, False, False],\n",
       "       [False,  True, False, False],\n",
       "       [ True, False, False, False],\n",
       "       [False, False, False, False],\n",
       "       [False, False, False, False],\n",
       "       [False, False, False, False],\n",
       "       [False, False, False, False],\n",
       "       [False, False, False, False],\n",
       "       [False, False, False, False],\n",
       "       [False, False, False, False],\n",
       "       [False, False, False, False],\n",
       "       [False, False, False, False],\n",
       "       [False, False, False, False],\n",
       "       [False, False, False, False],\n",
       "       [False, False, False, False],\n",
       "       [False, False, False, False]])"
      ]
     },
     "execution_count": 19,
     "metadata": {},
     "output_type": "execute_result"
    }
   ],
   "source": [
    "counts >200"
   ]
  },
  {
   "cell_type": "code",
   "execution_count": 20,
   "metadata": {
    "collapsed": false,
    "jupyter": {
     "outputs_hidden": false
    }
   },
   "outputs": [
    {
     "data": {
      "text/plain": [
       "(array([13, 14, 15, 16, 17, 24, 25, 26, 27, 28]),\n",
       " array([3, 2, 3, 2, 0, 3, 1, 0, 1, 0]))"
      ]
     },
     "execution_count": 20,
     "metadata": {},
     "output_type": "execute_result"
    }
   ],
   "source": [
    "# what are the indices of the elements greater than 200? \n",
    "# The Numpy function \"where\" returns the indices in separate arrays of rows and columns.\n",
    "np.where(counts>200)"
   ]
  },
  {
   "cell_type": "code",
   "execution_count": 21,
   "metadata": {
    "collapsed": false,
    "jupyter": {
     "outputs_hidden": false
    }
   },
   "outputs": [
    {
     "data": {
      "text/plain": [
       "array([240, 249, 249])"
      ]
     },
     "execution_count": 21,
     "metadata": {},
     "output_type": "execute_result"
    }
   ],
   "source": [
    "# select elements that are greater than 200 and also divisible by 3, i.e. counts mod 3 = 0\n",
    "counts[(counts>200) & (counts%3==0)]"
   ]
  },
  {
   "cell_type": "markdown",
   "metadata": {},
   "source": [
    "Dot Product. Frequently when performing operations on arrays we have to take the dot product of two list of numbers, or two vectors, e.g. $\\vec{x}=\\{x_1,x_2,x_3\\}$ and $\\vec{y}=\\{y_1,y_2,y_3\\}$. The dot product $\\vec{x} \\cdot \\vec{y}$ is defined as\n",
    "$$\n",
    "x \\cdot y = \\sum_{i=1}^{3} x_i y_i\n",
    "$$\n",
    "NumPy provides an efficient way of doing this without explicitly writing a 'for loop'"
   ]
  },
  {
   "cell_type": "code",
   "execution_count": 22,
   "metadata": {
    "collapsed": false,
    "jupyter": {
     "outputs_hidden": false
    }
   },
   "outputs": [
    {
     "data": {
      "text/plain": [
       "array([[109,  61,  57, 115],\n",
       "       [ 95,  74,  62, 111],\n",
       "       [111,  70,  70,  91],\n",
       "       [ 89,  68,  83, 102],\n",
       "       [ 99,  79,  72,  92]])"
      ]
     },
     "execution_count": 22,
     "metadata": {},
     "output_type": "execute_result"
    }
   ],
   "source": [
    "# dot product between rows 3 and 4s\n",
    "counts[:5]\n"
   ]
  },
  {
   "cell_type": "code",
   "execution_count": 23,
   "metadata": {},
   "outputs": [
    {
     "data": {
      "text/plain": [
       "29731"
      ]
     },
     "execution_count": 23,
     "metadata": {},
     "output_type": "execute_result"
    }
   ],
   "source": [
    "np.dot(counts[2],counts[3])"
   ]
  },
  {
   "cell_type": "code",
   "execution_count": 24,
   "metadata": {},
   "outputs": [
    {
     "data": {
      "text/plain": [
       "29731"
      ]
     },
     "execution_count": 24,
     "metadata": {},
     "output_type": "execute_result"
    }
   ],
   "source": [
    "111*89 + 70*68 + 70*83 + 91*102"
   ]
  },
  {
   "cell_type": "code",
   "execution_count": 25,
   "metadata": {
    "collapsed": false,
    "jupyter": {
     "outputs_hidden": false
    }
   },
   "outputs": [
    {
     "data": {
      "text/plain": [
       "array([4374, 2747, 2688, 4555])"
      ]
     },
     "execution_count": 25,
     "metadata": {},
     "output_type": "execute_result"
    }
   ],
   "source": [
    "# sum each column of the array, i.e. sum along the rows, the dimension indexed as 0\n",
    "np.sum(counts,0) "
   ]
  },
  {
   "cell_type": "code",
   "execution_count": 26,
   "metadata": {
    "collapsed": false,
    "jupyter": {
     "outputs_hidden": false
    }
   },
   "outputs": [
    {
     "data": {
      "text/plain": [
       "array([342, 342, 342, 342, 342, 342, 342, 342, 342, 342, 342, 342, 342,\n",
       "       342, 342, 342, 342, 342, 342, 342, 342, 342, 342, 342, 342, 342,\n",
       "       342, 342, 342, 342, 342, 342, 342, 342, 342, 342, 342, 342, 342,\n",
       "       342, 342, 342])"
      ]
     },
     "execution_count": 26,
     "metadata": {},
     "output_type": "execute_result"
    }
   ],
   "source": [
    "# sum each row of the array, i.e. sum along the columns, the dimension indexed as 1\n",
    "np.sum(counts,1) "
   ]
  },
  {
   "cell_type": "code",
   "execution_count": 27,
   "metadata": {
    "collapsed": false,
    "jupyter": {
     "outputs_hidden": false
    }
   },
   "outputs": [
    {
     "data": {
      "text/plain": [
       "(array([104.14285714,  65.4047619 ,  64.        , 108.45238095]),\n",
       " array([101. ,  62. ,  57.5, 102.5]),\n",
       " array([47.21106177, 43.99245581, 45.42759807, 50.88933015]))"
      ]
     },
     "execution_count": 27,
     "metadata": {},
     "output_type": "execute_result"
    }
   ],
   "source": [
    "# mean, median and standard deviation of each column\n",
    "np.mean(counts,0), np.median(counts,0), np.std(counts,0) "
   ]
  },
  {
   "cell_type": "markdown",
   "metadata": {},
   "source": [
    "We can add pseudocounts to each element. This is usually a good idea if your count data is undersampled."
   ]
  },
  {
   "cell_type": "code",
   "execution_count": 28,
   "metadata": {
    "collapsed": false,
    "jupyter": {
     "outputs_hidden": false
    }
   },
   "outputs": [],
   "source": [
    "# add 1 to EVERY element of the counts matrix to form a new matrix 'new_counts'\n",
    "new_counts=counts+1"
   ]
  },
  {
   "cell_type": "markdown",
   "metadata": {},
   "source": [
    "Let's calculate the probabilities of each nucleotide at each position, e.g. the probability of seeing an A at position *i* is\n",
    "\n",
    "$$\n",
    "p_i(A) = \\frac{{counts}_i(A)}{{counts}_i(A)+{counts}_i(T)+{counts}_i(G)+{counts}_i(C)} \n",
    "$$\n",
    "\n",
    "The total counts is the same for all positions, so we might just as well use only the first position to evaluate it."
   ]
  },
  {
   "cell_type": "code",
   "execution_count": 29,
   "metadata": {
    "collapsed": false,
    "jupyter": {
     "outputs_hidden": false
    }
   },
   "outputs": [
    {
     "data": {
      "text/plain": [
       "346"
      ]
     },
     "execution_count": 29,
     "metadata": {},
     "output_type": "execute_result"
    }
   ],
   "source": [
    "total_counts=sum(new_counts[0])\n",
    "total_counts"
   ]
  },
  {
   "cell_type": "code",
   "execution_count": 30,
   "metadata": {},
   "outputs": [
    {
     "name": "stdout",
     "output_type": "stream",
     "text": [
      "[[0.31791908 0.17919075 0.16763006 0.33526012]\n",
      " [0.27745665 0.21676301 0.18208092 0.32369942]\n",
      " [0.32369942 0.20520231 0.20520231 0.26589595]\n",
      " [0.26011561 0.19942197 0.24277457 0.29768786]\n",
      " [0.28901734 0.23121387 0.21098266 0.26878613]\n",
      " [0.2716763  0.19364162 0.21098266 0.32369942]\n",
      " [0.24277457 0.23121387 0.22543353 0.30057803]\n",
      " [0.26589595 0.24855491 0.20520231 0.28034682]\n",
      " [0.35260116 0.1849711  0.20809249 0.25433526]\n",
      " [0.41618497 0.11271676 0.16763006 0.30346821]\n",
      " [0.47109827 0.07514451 0.11271676 0.34104046]\n",
      " [0.45086705 0.08381503 0.12716763 0.33815029]\n",
      " [0.3699422  0.12716763 0.13583815 0.36705202]\n",
      " [0.11849711 0.11849711 0.0867052  0.67630058]\n",
      " [0.09537572 0.04913295 0.69653179 0.15895954]\n",
      " [0.08959538 0.10693642 0.08092486 0.72254335]\n",
      " [0.0867052  0.05491329 0.73699422 0.12138728]\n",
      " [0.65895954 0.12138728 0.13583815 0.08381503]\n",
      " [0.21676301 0.15895954 0.15606936 0.46820809]\n",
      " [0.19942197 0.30924855 0.22543353 0.26589595]\n",
      " [0.20520231 0.23699422 0.16184971 0.39595376]\n",
      " [0.38150289 0.13294798 0.25722543 0.2283237 ]\n",
      " [0.22543353 0.21676301 0.29190751 0.26589595]\n",
      " [0.39017341 0.17630058 0.1734104  0.26011561]\n",
      " [0.09537572 0.09248555 0.08959538 0.72254335]\n",
      " [0.13583815 0.71676301 0.0433526  0.10404624]\n",
      " [0.69075145 0.0867052  0.12138728 0.10115607]\n",
      " [0.17630058 0.6734104  0.04913295 0.10115607]\n",
      " [0.6300578  0.10404624 0.13294798 0.13294798]\n",
      " [0.27456647 0.18208092 0.14450867 0.39884393]\n",
      " [0.33815029 0.11560694 0.06069364 0.48554913]\n",
      " [0.32947977 0.12716763 0.07225434 0.47109827]\n",
      " [0.26011561 0.15028902 0.11271676 0.47687861]\n",
      " [0.29190751 0.18208092 0.17052023 0.35549133]\n",
      " [0.32080925 0.21098266 0.19653179 0.2716763 ]\n",
      " [0.30635838 0.18208092 0.22254335 0.28901734]\n",
      " [0.3150289  0.26300578 0.19075145 0.23121387]\n",
      " [0.32080925 0.20809249 0.21098266 0.26011561]\n",
      " [0.2716763  0.22254335 0.19075145 0.3150289 ]\n",
      " [0.29768786 0.21676301 0.19364162 0.29190751]\n",
      " [0.35260116 0.21098266 0.1300578  0.30635838]\n",
      " [0.37861272 0.14450867 0.15317919 0.32369942]]\n"
     ]
    }
   ],
   "source": [
    "prob=new_counts/total_counts\n",
    "print(prob)"
   ]
  },
  {
   "cell_type": "code",
   "execution_count": 31,
   "metadata": {},
   "outputs": [
    {
     "data": {
      "text/plain": [
       "array([110,  62,  58, 116])"
      ]
     },
     "execution_count": 31,
     "metadata": {},
     "output_type": "execute_result"
    }
   ],
   "source": [
    "new_counts[0]"
   ]
  },
  {
   "cell_type": "code",
   "execution_count": 32,
   "metadata": {},
   "outputs": [
    {
     "data": {
      "text/plain": [
       "346"
      ]
     },
     "execution_count": 32,
     "metadata": {},
     "output_type": "execute_result"
    }
   ],
   "source": [
    "total_counts"
   ]
  },
  {
   "cell_type": "markdown",
   "metadata": {},
   "source": [
    "It's often a good idea to represent the data graphically to glean what's going on"
   ]
  },
  {
   "cell_type": "code",
   "execution_count": 33,
   "metadata": {
    "collapsed": false,
    "jupyter": {
     "outputs_hidden": false
    }
   },
   "outputs": [
    {
     "data": {
      "image/png": "[encoded data removed]",
      "text/plain": [
       "<Figure size 1080x144 with 2 Axes>"
      ]
     },
     "metadata": {
      "needs_background": "light"
     },
     "output_type": "display_data"
    }
   ],
   "source": [
    "%matplotlib inline\n",
    "\n",
    "import matplotlib.pyplot as plt\n",
    "\n",
    "# set the size of the figure\n",
    "plt.figure(figsize=[15,2])\n",
    "\n",
    "# show the array flipped (transposed) and with no colour interpolation smoothing\n",
    "plt.imshow(prob.T,interpolation='nearest')\n",
    "\n",
    "# set the ticks\n",
    "plt.xticks(range(0,42),range(1,43))\n",
    "plt.yticks(range(4),['A','C','G','T'])\n",
    "\n",
    "# set the colorbar\n",
    "plt.clim([0,1])\n",
    "plt.colorbar(ticks=np.arange(0,1,0.2))\n",
    "\n",
    "# title\n",
    "plt.title('base frequency matrix of CRP binding sites',fontsize=15)\n",
    "\n",
    "# show the figure\n",
    "plt.show()"
   ]
  },
  {
   "cell_type": "code",
   "execution_count": 34,
   "metadata": {},
   "outputs": [
    {
     "data": {
      "text/plain": [
       "<matplotlib.image.AxesImage at 0x7f1192dcab50>"
      ]
     },
     "execution_count": 34,
     "metadata": {},
     "output_type": "execute_result"
    },
    {
     "data": {
      "image/png": "[encoded data removed]",
      "text/plain": [
       "<Figure size 432x288 with 1 Axes>"
      ]
     },
     "metadata": {
      "needs_background": "light"
     },
     "output_type": "display_data"
    }
   ],
   "source": [
    "import matplotlib.pyplot as plt\n",
    "plt.imshow(prob,interpolation='nearest')"
   ]
  },
  {
   "cell_type": "code",
   "execution_count": 35,
   "metadata": {},
   "outputs": [
    {
     "data": {
      "text/plain": [
       "array([[7.85689475e-01, 4.56275767e-01, 2.50864042e-01, 3.61331855e-01,\n",
       "        2.23455670e-01, 5.66212450e-01, 8.85128979e-01, 6.23500086e-01,\n",
       "        5.52301747e-01, 3.52121358e-01, 4.75949902e-01, 8.22375417e-01,\n",
       "        6.57463549e-01, 6.33666882e-01, 9.44824288e-01, 6.36025325e-01],\n",
       "       [9.24304036e-01, 1.09270250e-01, 6.31327040e-01, 6.83293496e-01,\n",
       "        1.13161001e-01, 6.54366991e-02, 6.84154528e-01, 4.53361095e-01,\n",
       "        6.35683795e-01, 2.69090548e-01, 5.35024955e-01, 7.56219721e-01,\n",
       "        6.38842325e-01, 2.56219875e-01, 8.87069563e-01, 2.78798883e-01],\n",
       "       [9.97760343e-01, 8.80631026e-01, 2.14856995e-01, 4.02374024e-02,\n",
       "        2.45928813e-01, 1.90075495e-01, 9.83237565e-01, 3.18258434e-01,\n",
       "        8.64104273e-01, 7.90600395e-01, 4.66837184e-02, 3.30678500e-01,\n",
       "        1.65430818e-01, 2.15020444e-01, 2.58485867e-01, 7.93675590e-01],\n",
       "       [4.63116016e-01, 9.44929928e-01, 9.09268399e-02, 9.53376944e-01,\n",
       "        3.33801314e-01, 1.22850228e-01, 1.45689458e-02, 1.30366497e-01,\n",
       "        1.54049693e-01, 4.58736046e-01, 7.99696106e-02, 2.40369367e-01,\n",
       "        5.54367144e-01, 8.74840953e-02, 3.15890696e-01, 4.20749871e-01],\n",
       "       [8.85996417e-01, 7.27996592e-02, 8.33740075e-01, 5.12065487e-01,\n",
       "        5.22584928e-02, 7.18066810e-01, 1.60954406e-01, 6.14043032e-02,\n",
       "        4.96161527e-01, 9.02833008e-01, 5.11530797e-01, 5.80685685e-01,\n",
       "        7.29220383e-01, 3.99220884e-01, 7.02874357e-01, 1.24427160e-01],\n",
       "       [7.85628014e-01, 3.07220533e-01, 4.18214958e-01, 3.15950053e-02,\n",
       "        7.39682239e-01, 3.03707918e-01, 4.55225096e-01, 3.41327344e-01,\n",
       "        9.75350496e-01, 1.01619280e-01, 9.29752819e-01, 7.35066571e-01,\n",
       "        5.69221534e-01, 1.07654750e-02, 3.05615961e-02, 7.40694126e-01],\n",
       "       [2.55323342e-01, 4.06356017e-01, 3.24803155e-01, 4.87615397e-01,\n",
       "        5.34984672e-01, 1.39265943e-01, 5.44496127e-01, 6.31968379e-01,\n",
       "        9.75183683e-01, 3.56475173e-01, 9.66361338e-01, 3.14844539e-01,\n",
       "        2.33375707e-02, 4.29090455e-01, 8.21320019e-01, 5.85618238e-01],\n",
       "       [9.61298137e-02, 1.57511888e-01, 1.97076383e-01, 6.78016012e-01,\n",
       "        9.00481051e-01, 1.61740099e-01, 9.17501577e-01, 9.26964139e-01,\n",
       "        4.24179998e-01, 8.96249508e-01, 7.62685193e-01, 9.31050162e-01,\n",
       "        5.98659823e-01, 3.99788519e-01, 6.58131492e-01, 5.91673572e-01],\n",
       "       [6.66734635e-02, 7.81594122e-01, 3.60943918e-02, 9.55680950e-01,\n",
       "        6.68652518e-01, 1.86092773e-02, 7.32049592e-01, 1.13383311e-04,\n",
       "        4.26537963e-01, 4.61193725e-01, 2.98652541e-01, 2.32032703e-01,\n",
       "        7.54540647e-01, 5.48985649e-02, 8.19584320e-01, 1.69074972e-01],\n",
       "       [9.10533127e-01, 1.48155162e-03, 8.04978151e-02, 9.56183637e-01,\n",
       "        5.35353447e-01, 2.49651326e-01, 5.62551521e-01, 6.05003153e-01,\n",
       "        6.92540468e-01, 6.75375125e-01, 9.36462349e-01, 4.02087058e-01,\n",
       "        9.46031354e-01, 4.27563406e-01, 8.31666088e-01, 2.89223157e-01],\n",
       "       [7.82953890e-01, 3.16003932e-01, 4.92690425e-01, 3.50878758e-01,\n",
       "        4.84514443e-01, 5.50599236e-01, 5.27796915e-01, 2.27309646e-01,\n",
       "        3.36865425e-03, 5.55538970e-01, 6.19098272e-01, 1.89218539e-01,\n",
       "        2.43157428e-01, 6.02616966e-01, 8.99392647e-01, 3.38523357e-01],\n",
       "       [5.86227681e-01, 7.25609497e-02, 7.06865600e-01, 9.93534037e-01,\n",
       "        9.60306506e-01, 6.07070080e-01, 9.20039117e-01, 8.98536073e-01,\n",
       "        1.99315520e-01, 6.83066704e-01, 4.17849936e-02, 6.82791616e-01,\n",
       "        2.89776761e-01, 5.80871356e-01, 2.65891917e-01, 8.18558033e-01],\n",
       "       [1.56609076e-01, 2.70740283e-01, 7.34613221e-01, 7.62265461e-01,\n",
       "        6.16043155e-02, 9.79657364e-01, 5.95274201e-01, 7.80193828e-01,\n",
       "        5.30922719e-01, 6.46310429e-01, 9.57017740e-01, 6.95347893e-02,\n",
       "        5.68711360e-01, 4.00033229e-01, 1.94763271e-02, 4.74349700e-01],\n",
       "       [4.32030915e-01, 2.35143716e-01, 9.46664572e-01, 4.31775119e-02,\n",
       "        3.18995145e-01, 9.31173884e-01, 5.28728921e-01, 3.97313347e-01,\n",
       "        2.14079737e-01, 8.32328554e-01, 3.80708774e-01, 3.31361310e-01,\n",
       "        5.41119393e-01, 5.18157591e-01, 4.39389039e-01, 1.80657347e-01],\n",
       "       [6.47224313e-01, 6.70119079e-01, 2.42165451e-01, 6.59196232e-01,\n",
       "        9.69974095e-01, 4.70561802e-01, 2.32424697e-01, 2.20801342e-01,\n",
       "        6.19361282e-01, 9.35981548e-01, 5.68772426e-01, 6.50635317e-02,\n",
       "        3.40953019e-01, 2.51778316e-01, 3.94704244e-01, 9.84150521e-01],\n",
       "       [7.83996525e-01, 8.43964466e-01, 2.14754016e-01, 7.78031313e-01,\n",
       "        1.78764341e-01, 1.73401993e-01, 1.23123387e-02, 7.66897873e-01,\n",
       "        6.55336987e-01, 2.80999254e-01, 7.62730575e-01, 2.58747796e-01,\n",
       "        4.00599938e-01, 5.41735614e-01, 6.00205821e-01, 8.43436761e-01]])"
      ]
     },
     "execution_count": 35,
     "metadata": {},
     "output_type": "execute_result"
    }
   ],
   "source": [
    "rand_points = np.random.random(256).reshape(16,16)\n",
    "rand_points "
   ]
  },
  {
   "cell_type": "code",
   "execution_count": 36,
   "metadata": {},
   "outputs": [
    {
     "data": {
      "text/plain": [
       "<matplotlib.colorbar.Colorbar at 0x7f1192ce5f50>"
      ]
     },
     "execution_count": 36,
     "metadata": {},
     "output_type": "execute_result"
    },
    {
     "data": {
      "image/png": "[encoded data removed]",
      "text/plain": [
       "<Figure size 432x288 with 2 Axes>"
      ]
     },
     "metadata": {
      "needs_background": "light"
     },
     "output_type": "display_data"
    }
   ],
   "source": [
    "plt.imshow(rand_points)\n",
    "plt.clim([0,1])\n",
    "plt.colorbar(ticks=np.arange(0,1,0.2))"
   ]
  },
  {
   "cell_type": "markdown",
   "metadata": {},
   "source": [
    "### 3. Random sampling, correlations and statistical tests"
   ]
  },
  {
   "cell_type": "markdown",
   "metadata": {},
   "source": [
    "#### Gaussian distribution"
   ]
  },
  {
   "cell_type": "markdown",
   "metadata": {},
   "source": [
    "A frequent task in scientific programming is to analyze random samples from a known distribution.  A commonly used distribution is the gaussian (normal distribution)\n",
    "\n",
    "$$\n",
    "p(x)=\\frac{1}{\\sqrt{2 \\pi \\sigma^2}} \\exp \\left( -\\frac{(x-\\mu)^2}{2 \\sigma^2} \\right)\n",
    "$$\n",
    "\n",
    "where $\\sigma $ is the standard deviation and $\\mu $ is the mean"
   ]
  },
  {
   "cell_type": "code",
   "execution_count": 37,
   "metadata": {
    "collapsed": false,
    "jupyter": {
     "outputs_hidden": false
    }
   },
   "outputs": [],
   "source": [
    "# number of samples\n",
    "N_gauss = 5000\n",
    "\n",
    "# standard deviations\n",
    "s = 2\n",
    "\n",
    "# mean\n",
    "u = 5\n",
    "\n",
    "# draw random samples from gaussian distribution\n",
    "samples=np.random.normal(u,s,N_gauss)"
   ]
  },
  {
   "cell_type": "code",
   "execution_count": 38,
   "metadata": {
    "collapsed": false,
    "jupyter": {
     "outputs_hidden": false
    }
   },
   "outputs": [
    {
     "data": {
      "text/plain": [
       "array([5.26309159, 4.96681552, 2.52424765, ..., 4.29849713, 5.57274303,\n",
       "       6.20328258])"
      ]
     },
     "execution_count": 38,
     "metadata": {},
     "output_type": "execute_result"
    }
   ],
   "source": [
    "samples"
   ]
  },
  {
   "cell_type": "markdown",
   "metadata": {},
   "source": [
    "We can plot the data in two different ways:"
   ]
  },
  {
   "cell_type": "code",
   "execution_count": 39,
   "metadata": {
    "collapsed": false,
    "jupyter": {
     "outputs_hidden": false
    }
   },
   "outputs": [
    {
     "data": {
      "image/png": "[encoded data removed]",
      "text/plain": [
       "<Figure size 864x360 with 2 Axes>"
      ]
     },
     "metadata": {
      "needs_background": "light"
     },
     "output_type": "display_data"
    }
   ],
   "source": [
    "plt.figure(figsize=(12,5))\n",
    "\n",
    "# plot histogram\n",
    "plt.subplot(1,2,1)\n",
    "plt.hist(samples,bins=20)\n",
    "plt.title('histogram')\n",
    "\n",
    "# plot boxplot\n",
    "plt.subplot(1,2,2)\n",
    "# the default is to produce a vertical boxplot. Setting vert=False gives a horizontal plot\n",
    "plt.boxplot(samples,vert=False) \n",
    "plt.title('boxplot')\n",
    "\n",
    "plt.show()"
   ]
  },
  {
   "cell_type": "markdown",
   "metadata": {},
   "source": [
    "### Curve Fitting"
   ]
  },
  {
   "cell_type": "markdown",
   "metadata": {},
   "source": [
    "A frequent task in science is to fit a curve to data, and guess the underyling generative model. Let's make up some fake noisy data of the form $y=x^3 + \\eta$, where $\\eta$ is noise drawn from a gaussian (normal) distribution."
   ]
  },
  {
   "cell_type": "code",
   "execution_count": 40,
   "metadata": {
    "collapsed": false,
    "jupyter": {
     "outputs_hidden": false
    }
   },
   "outputs": [],
   "source": [
    "# number of data points\n",
    "import numpy as np\n",
    "N=20\n",
    "\n",
    "# N equalled spaced x values, from -20 to 20\n",
    "x=np.linspace(-20,20,N)\n",
    "\n",
    "# noise term: N samples from a gaussian distribution with mean 0 and standard deviation 1000\n",
    "noise=np.random.normal(0,1000,N)\n",
    "\n",
    "# y values\n",
    "y=x**3+noise"
   ]
  },
  {
   "cell_type": "markdown",
   "metadata": {},
   "source": [
    "Let's plot our fake noisy data."
   ]
  },
  {
   "cell_type": "code",
   "execution_count": 41,
   "metadata": {
    "collapsed": false,
    "jupyter": {
     "outputs_hidden": false
    }
   },
   "outputs": [
    {
     "data": {
      "image/png": "[encoded data removed]",
      "text/plain": [
       "<Figure size 432x288 with 1 Axes>"
      ]
     },
     "metadata": {
      "needs_background": "light"
     },
     "output_type": "display_data"
    }
   ],
   "source": [
    "import matplotlib.pyplot as plt \n",
    "plt.plot(x,y,'ro') # 'r' indicates red, 'o' indicates a small circle\n",
    "plt.title('noisy data')\n",
    "plt.xlabel('x')\n",
    "plt.ylabel('y')\n",
    "plt.show()"
   ]
  },
  {
   "cell_type": "markdown",
   "metadata": {},
   "source": [
    "Now we will try to fit polynomials of various orders using the Numpy \"polyfit\" function."
   ]
  },
  {
   "cell_type": "code",
   "execution_count": 42,
   "metadata": {
    "collapsed": false,
    "jupyter": {
     "outputs_hidden": false
    }
   },
   "outputs": [
    {
     "name": "stdout",
     "output_type": "stream",
     "text": [
      "linear fit: y_1=(262.88)x+(212.88)\n",
      "3rd order fit: y_3=(0.99)x^3 + (-0.47)x^2 + (0.93)x + (281.51)\n"
     ]
    }
   ],
   "source": [
    "# straight line fit. The \"fit1\" array consists of the coefficients of the best linear fit\n",
    "fit1=np.polyfit(x,y,1)\n",
    "\n",
    "# 3rd order polynomial fit\n",
    "fit3=np.polyfit(x,y,3)\n",
    "\n",
    "# 19th order polynomial fit\n",
    "fit19=np.polyfit(x,y,19)\n",
    "\n",
    "# create functions from the fits\n",
    "y_1=np.poly1d(fit1)\n",
    "y_3=np.poly1d(fit3)\n",
    "y_19=np.poly1d(fit19)\n",
    "\n",
    "print('linear fit: y_1=(%.2f)x+(%.2f)' % (fit1[0],fit1[1]))\n",
    "print('3rd order fit: y_3=(%.2f)x^3 + (%.2f)x^2 + (%.2f)x + (%.2f)' % (fit3[0],fit3[1],fit3[2],fit3[3]))"
   ]
  },
  {
   "cell_type": "code",
   "execution_count": 43,
   "metadata": {
    "collapsed": false,
    "jupyter": {
     "outputs_hidden": false
    }
   },
   "outputs": [
    {
     "data": {
      "image/png": "[encoded data removed]",
      "text/plain": [
       "<Figure size 432x288 with 1 Axes>"
      ]
     },
     "metadata": {
      "needs_background": "light"
     },
     "output_type": "display_data"
    }
   ],
   "source": [
    "plt.plot(x,y,'ro')\n",
    "plt.plot(x,y_1(x))\n",
    "plt.plot(x,y_3(x))\n",
    "plt.plot(x,y_19(x))\n",
    "\n",
    "# add a legend to the right of the plot\n",
    "legend_text=('data','linear fit: $y=mx+c$ ','3rd order polynomial','19th order polynomial')\n",
    "plt.legend(legend_text, loc='center left', bbox_to_anchor=(1,0.5))\n",
    "\n",
    "plt.show()"
   ]
  },
  {
   "cell_type": "markdown",
   "metadata": {},
   "source": [
    "The high order (19th) fit clearly tracks the data better. However, the 19th order polynomial in fact overfits the data since it will perform poorly on new data sampled from the original noisy curve."
   ]
  }
 ],
 "metadata": {
  "kernelspec": {
   "display_name": "Python 3",
   "language": "python",
   "name": "python3"
  },
  "language_info": {
   "codemirror_mode": {
    "name": "ipython",
    "version": 3
   },
   "file_extension": ".py",
   "mimetype": "text/x-python",
   "name": "python",
   "nbconvert_exporter": "python",
   "pygments_lexer": "ipython3",
   "version": "3.7.10"
  }
 },
 "nbformat": 4,
 "nbformat_minor": 4
}
