{
 "cells": [
  {
   "cell_type": "markdown",
   "id": "3e84b6fa-20ab-453c-81a5-80ad0cad9f4f",
   "metadata": {},
   "source": [
    "# Recitiaton 8\n",
    "\n",
    "## Question 1\n",
    "\n",
    "Please find an `isPrime()` function online (or use the one provided below), vectorize it and use vectorized version to calculate prime numbers between 2 and 1000."
   ]
  },
  {
   "cell_type": "code",
   "execution_count": null,
   "id": "688bd235-5a9a-48af-a861-87e675b986fd",
   "metadata": {
    "tags": []
   },
   "outputs": [],
   "source": [
    "# Answer 1\n",
    "\n",
    "import numpy as np\n",
    "\n",
    "def isPrime(num): \n",
    "    for n in range(2,int(num**1/2)+1): \n",
    "        if num%n==0: \n",
    "            return False \n",
    "    return True\n",
    "\n",
    "numbers = np.arange(2,1000)\n",
    "\n",
    "# this is the loop way: [ isPrime(x) for x in numbers ]\n",
    "\n",
    "# vectorize the function and use on numbers array.\n",
    "# isPrime(numbers) -> this does not work\n"
   ]
  },
  {
   "cell_type": "markdown",
   "id": "04ce3c73-23a3-4c50-8e57-4fc81ef57622",
   "metadata": {},
   "source": [
    "# Question 2\n",
    "\n",
    "For the given array below, find the amount of memory space consumed by `ten_k` array? What is the data type for `ten_k` (int8, int64, float 34)?\n",
    "\n",
    "Prepare another array, filled with 10000 zeros using data type of int8. How big is the second array?"
   ]
  },
  {
   "cell_type": "code",
   "execution_count": null,
   "id": "2bf0c89a-be15-4a8a-94e1-dbe5030d699f",
   "metadata": {},
   "outputs": [],
   "source": []
  },
  {
   "cell_type": "code",
   "execution_count": null,
   "id": "ab4d0acd-a6a8-4c96-82b5-7a526192c151",
   "metadata": {},
   "outputs": [],
   "source": [
    "import numpy as np\n",
    "import sys\n",
    "ten_k = np.zeros(10000)\n",
    "\n",
    "# Answer 2\n",
    "\n",
    "#OR\n"
   ]
  },
  {
   "cell_type": "code",
   "execution_count": null,
   "id": "dbc4263a-101c-49e8-ae1b-ed6449818b6f",
   "metadata": {},
   "outputs": [],
   "source": [
    "ten_k2 = np.zeros(10000, dtype=\"uint8\")\n",
    "\n",
    "# show size in memory\n"
   ]
  },
  {
   "cell_type": "markdown",
   "id": "e19ca3bb-89b2-4339-bddc-3c67fc4a5602",
   "metadata": {},
   "source": [
    "# Question 2b\n",
    "\n",
    "Please assign 100, 1000 and 10000 to first three elements of **`ten_k2`** and then print only first 5 elements of the array. Please discuss what had happened!"
   ]
  },
  {
   "cell_type": "code",
   "execution_count": null,
   "id": "c3a7c259-b71f-4cc0-a558-5691fd49d3c3",
   "metadata": {},
   "outputs": [],
   "source": [
    "# Answer 2b\n",
    "ten_k2[:10]\n"
   ]
  },
  {
   "cell_type": "markdown",
   "id": "6ee0f8e7-94a0-46e4-aa0f-bfec376dab16",
   "metadata": {},
   "source": [
    "# Question 3\n",
    "\n",
    "For the given Numpy array of Fahrenheit values, please convert them to Celcius. The formula is `(5 * (F-32))/9`"
   ]
  },
  {
   "cell_type": "code",
   "execution_count": null,
   "id": "9cda35de-7f68-436b-88d0-598138bcfd85",
   "metadata": {},
   "outputs": [],
   "source": [
    "import numpy as np\n",
    "F = np.array([0, 12, 45.21, 34, 99.91])\n",
    "\n",
    "# Answer 3\n",
    "# Hint: try running this command first: F - 32\n"
   ]
  },
  {
   "cell_type": "markdown",
   "id": "a04a1687-901a-4489-b781-e356d30e4b29",
   "metadata": {},
   "source": [
    "# Question 4\n",
    "\n",
    "Please find the numbers greater than 10 in the Numpy array below.\n"
   ]
  },
  {
   "cell_type": "code",
   "execution_count": null,
   "id": "5c67e02b-7be1-4ec9-9d97-759ffd149a85",
   "metadata": {},
   "outputs": [],
   "source": [
    "import numpy as np\n",
    "x = np.array([[0, 10, 20], [20, 30, 40]])\n",
    "\n",
    "# Answer 4\n"
   ]
  },
  {
   "cell_type": "markdown",
   "id": "ec899ec1-610a-41fc-b2be-ee6f77e63afe",
   "metadata": {},
   "source": [
    "# Question 5\n",
    "\n",
    "For Fahrenheit values between 0,100 please draw Fahrenheit versus Celcius plot."
   ]
  },
  {
   "cell_type": "code",
   "execution_count": null,
   "id": "dee47f93-94d7-4396-bc53-777226755d24",
   "metadata": {},
   "outputs": [],
   "source": [
    "import numpy as np\n",
    "import matplotlib.pyplot as plt\n",
    "\n",
    "# Answer 5\n"
   ]
  }
 ],
 "metadata": {
  "kernelspec": {
   "display_name": "Python 3",
   "language": "python",
   "name": "python3"
  },
  "language_info": {
   "codemirror_mode": {
    "name": "ipython",
    "version": 3
   },
   "file_extension": ".py",
   "mimetype": "text/x-python",
   "name": "python",
   "nbconvert_exporter": "python",
   "pygments_lexer": "ipython3",
   "version": "3.7.10"
  }
 },
 "nbformat": 4,
 "nbformat_minor": 5
}
