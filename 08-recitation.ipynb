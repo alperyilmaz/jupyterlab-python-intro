{
 "cells": [
  {
   "cell_type": "markdown",
   "id": "3e84b6fa-20ab-453c-81a5-80ad0cad9f4f",
   "metadata": {},
   "source": [
    "# Recitiaton 8\n",
    "\n",
    "## Question 1\n",
    "\n",
    "Please find an `isPrime()` function online (or use the one provided below), vectorize it and use vectorized version to calculate prime numbers between 2 and 1000."
   ]
  },
  {
   "cell_type": "code",
   "execution_count": null,
   "id": "688bd235-5a9a-48af-a861-87e675b986fd",
   "metadata": {
    "tags": []
   },
   "outputs": [],
   "source": [
    "# Answer 1\n",
    "\n",
    "import numpy as np\n",
    "\n",
    "def isPrime(num): \n",
    "    for n in range(2,int(num**1/2)+1): \n",
    "        if num%n==0: \n",
    "            return False \n",
    "    return True\n",
    "\n",
    "numbers = np.arange(2,1000)\n",
    "\n",
    "# this is the loop way: [ isPrime(x) for x in numbers ]\n",
    "\n",
    "# vectorize the function and use on numbers array.\n",
    "# isPrime(numbers) -> this does not work\n"
   ]
  },
  {
   "cell_type": "markdown",
   "id": "04ce3c73-23a3-4c50-8e57-4fc81ef57622",
   "metadata": {},
   "source": [
    "# Question 2\n",
    "\n",
    "For the given array below, find the amount of memory space consumed by `ten_k` array? What is the data type for `ten_k` (int8, int64, float64)?\n",
    "\n",
    "Prepare another array, filled with 10000 zeros using data type of int8. How big is the second array?"
   ]
  },
  {
   "cell_type": "code",
   "execution_count": null,
   "id": "ab4d0acd-a6a8-4c96-82b5-7a526192c151",
   "metadata": {},
   "outputs": [],
   "source": [
    "import numpy as np\n",
    "import sys\n",
    "ten_k = np.zeros(10000)\n",
    "\n",
    "# Answer 2\n",
    "\n",
    "#OR\n"
   ]
  },
  {
   "cell_type": "code",
   "execution_count": null,
   "id": "dbc4263a-101c-49e8-ae1b-ed6449818b6f",
   "metadata": {},
   "outputs": [],
   "source": [
    "ten_k2 = np.zeros(10000, dtype=\"uint8\")\n",
    "\n",
    "# show size in memory\n"
   ]
  },
  {
   "cell_type": "markdown",
   "id": "9853b540-6e3e-46dc-b43b-7f15ece70c4a",
   "metadata": {},
   "source": [
    "### Bonus question\n",
    "\n",
    "How many float64 elements can you fit into 4GB of memory?"
   ]
  },
  {
   "cell_type": "markdown",
   "id": "e19ca3bb-89b2-4339-bddc-3c67fc4a5602",
   "metadata": {},
   "source": [
    "# Question 2b\n",
    "\n",
    "Please assign 100, 1000 and 10000 to first three elements of **`ten_k2`** and then print only first 5 elements of the array. Please discuss what had happened!"
   ]
  },
  {
   "cell_type": "code",
   "execution_count": null,
   "id": "c3a7c259-b71f-4cc0-a558-5691fd49d3c3",
   "metadata": {},
   "outputs": [],
   "source": [
    "# Answer 2b\n",
    "ten_k2[:10]\n"
   ]
  },
  {
   "cell_type": "markdown",
   "id": "6ee0f8e7-94a0-46e4-aa0f-bfec376dab16",
   "metadata": {},
   "source": [
    "# Question 3\n",
    "\n",
    "For the given Numpy array of Fahrenheit values, please convert them to Celcius. The formula is `(5 * (F-32))/9`"
   ]
  },
  {
   "cell_type": "code",
   "execution_count": null,
   "id": "9cda35de-7f68-436b-88d0-598138bcfd85",
   "metadata": {},
   "outputs": [],
   "source": [
    "import numpy as np\n",
    "F = np.array([0, 12, 45.21, 34, 99.91])\n",
    "\n",
    "# Answer 3\n",
    "# Hint: try running this command first: F - 32\n"
   ]
  },
  {
   "cell_type": "markdown",
   "id": "a04a1687-901a-4489-b781-e356d30e4b29",
   "metadata": {},
   "source": [
    "# Question 4\n",
    "\n",
    "Please find the numbers greater than 10 in the Numpy array below. (Hint: [link](https://www.w3schools.com/python/numpy/numpy_array_filter.asp))\n"
   ]
  },
  {
   "cell_type": "code",
   "execution_count": null,
   "id": "5c67e02b-7be1-4ec9-9d97-759ffd149a85",
   "metadata": {},
   "outputs": [],
   "source": [
    "import numpy as np\n",
    "x = np.array([[0, 10, 20], [20, 30, 40]])\n",
    "\n",
    "# Answer 4\n"
   ]
  },
  {
   "cell_type": "markdown",
   "id": "ec899ec1-610a-41fc-b2be-ee6f77e63afe",
   "metadata": {},
   "source": [
    "# Question 5\n",
    "\n",
    "For Fahrenheit values between 0,100 please draw Fahrenheit versus Celcius plot."
   ]
  },
  {
   "cell_type": "code",
   "execution_count": null,
   "id": "dee47f93-94d7-4396-bc53-777226755d24",
   "metadata": {},
   "outputs": [],
   "source": [
    "import numpy as np\n",
    "import matplotlib.pyplot as plt\n",
    "\n",
    "# Answer 5\n",
    "\n",
    "\n"
   ]
  },
  {
   "cell_type": "markdown",
   "metadata": {},
   "source": [
    "# Question 6\n",
    "\n",
    "Please visit the following websites and take the quizes. Some sites show the result, please try to ignore them and try to solve the question yourself.\n",
    "\n",
    "* https://www.w3schools.com/python/numpy/numpy_quiz.asp\n",
    "* https://pythongeeks.org/quizzes/quiz-on-numpy/\n",
    "* https://www.kaggle.com/code/yfyangd/quiz-numpy/notebook\n",
    "* https://studyopedia.com/numpy/numpy-online-quiz/\n",
    "* https://www.freshersnow.com/numpy-mcqs-and-answers-with-explanation/"
   ]
  },
  {
   "cell_type": "markdown",
   "id": "84f7fe54-ed70-4f8d-adf2-2b2f3183f9e1",
   "metadata": {},
   "source": [
    "# Question 7\n",
    "\n",
    "Remember, we learned that matrix multiplications transform the space. Below, data containing x,y coordinates are read from file. Please run the code and see the image.\n",
    "\n",
    "Please try following operations and **plot the changes after each step**:\n",
    "(note: after any of the operations, if the output is matrix and **not an array** then you need to extract row from transposed matrix as array by `result.T[0].A1` *OR* `result[:,0].A1`\n",
    "* multiply **counts** with matrix of `'-1 0; 0 1'`\n",
    "* multiply **counts** with scalar (e.g. *0.5*)\n",
    "* add **array(20,0).T** to **counts**\n",
    "* do all of the above in a single chain\n",
    "* multiply **counts** with matrix of `'cos(30) -sin(30); sin(30) cos(30)'`\n",
    "* multiply **counts** with matrix of `'1 0; -0.3 1'`\n",
    "* mix various operations in a single chain\n"
   ]
  },
  {
   "cell_type": "code",
   "execution_count": null,
   "id": "21deb0f2-41db-42ff-9df3-e9a2ddd8a17f",
   "metadata": {},
   "outputs": [],
   "source": [
    "import numpy as np\n",
    "import matplotlib.pyplot as plt\n",
    "counts=np.genfromtxt(\"data/Datasaurus_data.csv\",dtype=float,delimiter=\",\")\n",
    "# x = counts.T[0] OR counts[:,0]\n",
    "# y = counts.T[1] OR counts[:,1]\n",
    "plt.scatter(counts[:,0], counts[:,1], s=2)\n",
    "plt.xlim(-100,100)\n",
    "plt.ylim(-100,125)"
   ]
  },
  {
   "cell_type": "code",
   "execution_count": null,
   "id": "f4bbeb2e-4f66-45fa-9e53-fbd283a3074d",
   "metadata": {},
   "outputs": [],
   "source": [
    "# Answer 6\n",
    "\n",
    "\n",
    "\n",
    "\n",
    "\n"
   ]
  },
  {
   "cell_type": "markdown",
   "id": "f6a81a29-7b0f-4a6d-ad9e-c6944bfc93e9",
   "metadata": {},
   "source": [
    "### Bonus question\n",
    "\n",
    "`counts * 0.5` causes shrink but also shifting the image. Can you do shrink where center of the image stays same?\n"
   ]
  },
  {
   "cell_type": "markdown",
   "id": "d895165f-90e3-42f4-adfc-a720130215ee",
   "metadata": {},
   "source": [
    "# Question 8\n",
    "\n",
    "The code generates 500 numbers with normal and lognormal distributions. Let's visualize how these distributions look like. Please draw histogram **for each distribution** and draw boxplot **for both distributions**. For more information about boxplot please visit [this page](https://en.wikipedia.org/wiki/Box_plot). Here's an excerp from [an article from Nature](https://www.nature.com/articles/nmeth.2807.pdf):\n",
    "\n",
    "> Because the bars always start at zero, they can be misleading: for example, part of the range covered \n",
    "by the bar might have never been observed in the sample. If our goal is to represent and compare distributions, we need a representation that more accurately reflects the data that underlie the visualization. Box plots, also known as box-and-whiskers plots, encode five characteristics of a distribution by position and length providing an effective summary of a potentially large amount of \n",
    "data"
   ]
  },
  {
   "cell_type": "code",
   "execution_count": null,
   "id": "795b0e0d-1ee2-4792-be58-8922e2d028a1",
   "metadata": {
    "tags": []
   },
   "outputs": [],
   "source": [
    "import numpy as np\n",
    "\n",
    "N = 500\n",
    "norm = np.random.normal(1, 1, N)\n",
    "logn = np.random.lognormal(1, 1, N)\n",
    "\n",
    "\n",
    "# two histograms\n",
    "\n",
    "\n",
    "# boxplot\n"
   ]
  },
  {
   "cell_type": "markdown",
   "id": "c369ef91-f3bb-4cdb-a320-6f304cf69c88",
   "metadata": {},
   "source": [
    "# Question 9\n",
    "\n",
    "You are probably familiar with the \"same birth dates in a classroom\" type of questions. In a class of 25 people the chance of at least two students having the same birthday is **0.5687** (check this [link](https://www.cuemath.com/questions/find-the-probability-that-of-25-randomly-selected-students-at-least-two-share-the-same-birthday/) for the calculation)\n",
    "\n",
    "Some probability questions can be solved with simulations. Let's simulate 10 million classes of 25 students and count in how many of them at least two students have same birthday. we'll define a function which checks the length of an array before and after `unique()` function. If there are repeating values in an array, the return value will be *True*. Apply this function to each row (each classroom) and then calculate the ratio of True values with `mean()` function. *Then compare your simulation result with actual value*.\n"
   ]
  },
  {
   "cell_type": "code",
   "execution_count": null,
   "id": "84c1cb5a-589d-4cb7-893a-c3e4d7a05ad4",
   "metadata": {},
   "outputs": [],
   "source": [
    "import numpy as np\n",
    "\n",
    "classrooms = np.random.randint(1, 366, ...).reshape(...,25)\n",
    "classrooms[0]"
   ]
  },
  {
   "cell_type": "code",
   "execution_count": null,
   "id": "af32c602-22e2-43c5-b6b3-8340054ac773",
   "metadata": {},
   "outputs": [],
   "source": [
    "def classmatch(arr):\n",
    "    return len(np.unique(arr)) != len(arr)"
   ]
  },
  {
   "cell_type": "code",
   "execution_count": null,
   "id": "9c9c0ae5-bc6b-497c-ae41-f983928ea263",
   "metadata": {},
   "outputs": [],
   "source": [
    "matches = np.apply_along_axis(..., axis=..., arr=...)"
   ]
  },
  {
   "cell_type": "code",
   "execution_count": null,
   "id": "7f18424c-f800-4170-9606-40f9ed151001",
   "metadata": {},
   "outputs": [],
   "source": [
    "matches[:10]"
   ]
  },
  {
   "cell_type": "code",
   "execution_count": null,
   "id": "a9cbbcbf-1bcf-4e5d-b2cb-c382f380dd6c",
   "metadata": {},
   "outputs": [],
   "source": [
    "np.mean(...)"
   ]
  }
 ],
 "metadata": {
  "kernelspec": {
   "display_name": "Python 3 (ipykernel)",
   "language": "python",
   "name": "python3"
  },
  "language_info": {
   "codemirror_mode": {
    "name": "ipython",
    "version": 3
   },
   "file_extension": ".py",
   "mimetype": "text/x-python",
   "name": "python",
   "nbconvert_exporter": "python",
   "pygments_lexer": "ipython3",
   "version": "3.10.8"
  }
 },
 "nbformat": 4,
 "nbformat_minor": 5
}
