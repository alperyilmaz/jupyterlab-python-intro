{
 "cells": [
  {
   "cell_type": "markdown",
   "metadata": {},
   "source": [
    "# Hanoi, number guessing and output\n",
    "\n",
    "## Solution to Hanoi\n",
    "\n",
    "The code below is taken from Chapter 2 of the book \"Learning Scientific Programming with Python\" and here's the [link](https://scipython.com/book/chapter-2-the-core-python-language-i/examples/the-tower-of-hanoi/) for the source code.\n",
    "\n",
    "The problem can be solved using the following recursive algorithm. Label the discs $D_i$ with $D_1$ the smallest disc and $D_n$ the largest.\n",
    "\n",
    "* Move discs $D_1$,$D_2$,$\\ldots$,$D_{n−1}$ from A to B;\n",
    "* Move disc $D_n$ from A to C;\n",
    "* Move discs $D_1$,$D_2$,$\\ldots$,$D_{n−1}$ from B to C."
   ]
  },
  {
   "cell_type": "markdown",
   "metadata": {},
   "source": [
    "### Resource 1\n",
    "\n",
    "From the book \"Learning Scientific Programming with Python\""
   ]
  },
  {
   "cell_type": "code",
   "execution_count": 7,
   "metadata": {},
   "outputs": [],
   "source": [
    "def hanoi(n, P1, P2, P3):\n",
    "    \"\"\" Move n discs from pole P1 to pole P3. \"\"\"\n",
    "    if n == 0:\n",
    "        # No more discs to move in this step\n",
    "        return\n",
    "\n",
    "    global count\n",
    "    count += 1\n",
    "\n",
    "    # move n-1 discs from P1 to P2\n",
    "    hanoi(n-1, P1, P3, P2)\n",
    "\n",
    "    if P1:\n",
    "        # move disc from P1 to P3\n",
    "        P3.append(P1.pop())\n",
    "        print(A, \"\\t\\t\", B, \"\\t\\t\", C)\n",
    "\n",
    "    # move n-1 discs from P2 to P3\n",
    "    hanoi(n-1, P2, P1, P3)"
   ]
  },
  {
   "cell_type": "code",
   "execution_count": 41,
   "metadata": {},
   "outputs": [
    {
     "name": "stdout",
     "output_type": "stream",
     "text": [
      "[3, 2, 1] \t\t [] \t\t []\n",
      "[3, 2] \t\t [] \t\t [1]\n",
      "[3] \t\t [2] \t\t [1]\n",
      "[3] \t\t [2, 1] \t\t []\n",
      "[] \t\t [2, 1] \t\t [3]\n",
      "[1] \t\t [2] \t\t [3]\n",
      "[1] \t\t [] \t\t [3, 2]\n",
      "[] \t\t [] \t\t [3, 2, 1]\n",
      "7\n"
     ]
    }
   ],
   "source": [
    "# Initialize the poles: all n discs are on pole A.\n",
    "n = 3\n",
    "A = list(range(n,0,-1))\n",
    "B, C = [], []\n",
    "\n",
    "print(A, \"\\t\\t\",B,\"\\t\\t\", C)\n",
    "count = 0\n",
    "hanoi(n, A, B, C)\n",
    "print(count)"
   ]
  },
  {
   "cell_type": "markdown",
   "metadata": {},
   "source": [
    "Here's the visualization for 3-disc Towers of Hanoi solution. Please compare with the output of the code.\n",
    "\n",
    "![Hanoi 3disc](https://www.python-course.eu/images/towers_of_hanoi_3_disks.jpg)\n",
    "\n",
    "*[image source](https://www.python-course.eu/towers_of_hanoi.php)*"
   ]
  },
  {
   "cell_type": "markdown",
   "metadata": {},
   "source": [
    "### Resource 2\n",
    "\n",
    "[Python Course website](https://www.python-course.eu/towers_of_hanoi.php)"
   ]
  },
  {
   "cell_type": "code",
   "execution_count": 35,
   "metadata": {},
   "outputs": [],
   "source": [
    "def hanoi2(n, source, helper, target):\n",
    "    global count2\n",
    "    if n > 0:\n",
    "        count2 += 1\n",
    "        # move tower of size n - 1 to helper:\n",
    "        hanoi2(n - 1, source, target, helper)\n",
    "        # move disk from source peg to target peg\n",
    "        if source:\n",
    "            target.append(source.pop())\n",
    "            #print(source, helper, target)\n",
    "        # move tower of size n-1 from helper to target\n",
    "        hanoi2(n - 1, helper, source, target)"
   ]
  },
  {
   "cell_type": "code",
   "execution_count": 42,
   "metadata": {},
   "outputs": [
    {
     "name": "stdout",
     "output_type": "stream",
     "text": [
      "[3, 2, 1] [] []\n",
      "[] [] [3, 2, 1]\n",
      "7\n"
     ]
    }
   ],
   "source": [
    "source = [3,2,1]\n",
    "target = []\n",
    "helper = []\n",
    "\n",
    "print(source, helper, target)\n",
    "count2=0\n",
    "hanoi2(len(source),source,helper,target)\n",
    "print(source, helper, target)\n",
    "print(count2)"
   ]
  },
  {
   "cell_type": "markdown",
   "metadata": {},
   "source": [
    "## Number guessing game\n",
    "\n",
    "This game illustrates an interesting use of `while` loop. We continuously get input from the user and inform about the result."
   ]
  },
  {
   "cell_type": "code",
   "execution_count": 64,
   "metadata": {},
   "outputs": [
    {
     "name": "stdin",
     "output_type": "stream",
     "text": [
      "What could it be? >  5\n"
     ]
    },
    {
     "name": "stdout",
     "output_type": "stream",
     "text": [
      "TO HIGH\n"
     ]
    },
    {
     "name": "stdin",
     "output_type": "stream",
     "text": [
      "What could it be? >  8\n"
     ]
    },
    {
     "name": "stdout",
     "output_type": "stream",
     "text": [
      "TO HIGH\n"
     ]
    },
    {
     "name": "stdin",
     "output_type": "stream",
     "text": [
      "What could it be? >  3\n"
     ]
    },
    {
     "name": "stdout",
     "output_type": "stream",
     "text": [
      "TO LOW\n"
     ]
    },
    {
     "name": "stdin",
     "output_type": "stream",
     "text": [
      "What could it be? >  4\n"
     ]
    },
    {
     "name": "stdout",
     "output_type": "stream",
     "text": [
      "CONGRATS YOU GOT IT\n"
     ]
    }
   ],
   "source": [
    "import random\n",
    "\n",
    "random_number = random.randrange(1, 10)\n",
    "\n",
    "while True:\n",
    "    guess = int(input(\"What could it be? > \"))  # ask as long as answer is not correct\n",
    "    if guess == random_number:\n",
    "        print(\"CONGRATS YOU GOT IT\")\n",
    "        break\n",
    "    elif guess > random_number:\n",
    "        print(\"TO HIGH\")\n",
    "    elif guess < random_number:\n",
    "        print(\"TO LOW\")\n",
    "    else:\n",
    "        print(\"Try something else\")"
   ]
  },
  {
   "cell_type": "code",
   "execution_count": null,
   "metadata": {},
   "outputs": [],
   "source": []
  },
  {
   "cell_type": "markdown",
   "metadata": {},
   "source": [
    "## Output to files\n",
    "\n",
    "Open file for writing. \n",
    "\n",
    "> Be aware, `w` mode will overwrite existing file!"
   ]
  },
  {
   "cell_type": "code",
   "execution_count": 55,
   "metadata": {},
   "outputs": [],
   "source": [
    "f = open('data/test.txt', 'w')"
   ]
  },
  {
   "cell_type": "markdown",
   "metadata": {},
   "source": [
    "A file named `test.txt` has been opened under `data` folder. `f` is the file object. There are various ways to access and write to file."
   ]
  },
  {
   "cell_type": "markdown",
   "metadata": {},
   "source": [
    "use f.write as well"
   ]
  },
  {
   "cell_type": "code",
   "execution_count": 56,
   "metadata": {},
   "outputs": [
    {
     "data": {
      "text/plain": [
       "11"
      ]
     },
     "execution_count": 56,
     "metadata": {},
     "output_type": "execute_result"
    }
   ],
   "source": [
    "f.write(\"Hello World\")"
   ]
  },
  {
   "cell_type": "markdown",
   "metadata": {},
   "source": [
    "Let's check and see the contents of the file.\n",
    "\n",
    "Why is it empty?"
   ]
  },
  {
   "cell_type": "code",
   "execution_count": 58,
   "metadata": {},
   "outputs": [],
   "source": [
    "f.close()"
   ]
  },
  {
   "cell_type": "markdown",
   "metadata": {},
   "source": [
    "> We discussed this last week. The contents to files are not written/saved imediately to file on disk."
   ]
  },
  {
   "cell_type": "markdown",
   "metadata": {},
   "source": [
    "You can also write to a file by `print` function, with `file=` argument within."
   ]
  },
  {
   "cell_type": "code",
   "execution_count": 60,
   "metadata": {},
   "outputs": [],
   "source": [
    "f = open('data/test2.txt', 'w')\n",
    "print(\"Second hello..\", file=f)\n",
    "f.close()"
   ]
  },
  {
   "cell_type": "markdown",
   "metadata": {},
   "source": [
    "Now, more serious example:"
   ]
  },
  {
   "cell_type": "code",
   "execution_count": 14,
   "metadata": {},
   "outputs": [],
   "source": [
    "# source: https://scipython.com/book/chapter-2-the-core-python-language-i/examples/writing-numbers-to-a-file/\n",
    "f = open('data/powers.txt', 'w')\n",
    "for i in range(1,1001):\n",
    "    print(i, i**2, i**3, i**4, sep=', ', file=f)\n",
    "f.close()"
   ]
  },
  {
   "cell_type": "markdown",
   "metadata": {},
   "source": [
    "Other modes for reading/writing files:\n",
    "\n",
    "* **w** : Write mode. If file does not exist, it creates a new file. *But*, if file exists it truncates the file.\n",
    "* **a** : Append mode, add lines to file (If file does not exist, it creates a new file)\n",
    "* **x** : Creates a new file. If file already exists, the operation fails.\n",
    "* **r** : Read mode\n",
    "\n",
    "Let's read the cubes data from the file."
   ]
  },
  {
   "cell_type": "code",
   "execution_count": 15,
   "metadata": {},
   "outputs": [
    {
     "name": "stdout",
     "output_type": "stream",
     "text": [
      "500 cubed is 125000000\n"
     ]
    }
   ],
   "source": [
    "f = open('data/powers.txt', 'r')\n",
    "cubes= []\n",
    "for line in f.readlines():\n",
    "    fields = line.split(',')\n",
    "    cubes.append(int(fields[2]))\n",
    "f.close()\n",
    "n = 500\n",
    "print(n, 'cubed is', cubes[n-1])"
   ]
  },
  {
   "cell_type": "markdown",
   "metadata": {},
   "source": [
    "## Bonus : Memoized Fibonacci"
   ]
  },
  {
   "cell_type": "code",
   "execution_count": 50,
   "metadata": {},
   "outputs": [],
   "source": [
    "#https://stackoverflow.com/q/35026477/4579196\n",
    "memo = {}\n",
    "def Fib(n):\n",
    "    if (n < 2):\n",
    "        return 1\n",
    "    if not n in memo:\n",
    "        memo[n] = Fib(n-1) + Fib(n-2)\n",
    "    return memo[n]"
   ]
  },
  {
   "cell_type": "code",
   "execution_count": 51,
   "metadata": {},
   "outputs": [
    {
     "data": {
      "text/plain": [
       "573147844013817084101"
      ]
     },
     "execution_count": 51,
     "metadata": {},
     "output_type": "execute_result"
    }
   ],
   "source": [
    "Fib(100)"
   ]
  }
 ],
 "metadata": {
  "kernelspec": {
   "display_name": "Python 3",
   "language": "python",
   "name": "python3"
  },
  "language_info": {
   "codemirror_mode": {
    "name": "ipython",
    "version": 3
   },
   "file_extension": ".py",
   "mimetype": "text/x-python",
   "name": "python",
   "nbconvert_exporter": "python",
   "pygments_lexer": "ipython3",
   "version": "3.6.5"
  }
 },
 "nbformat": 4,
 "nbformat_minor": 2
}
