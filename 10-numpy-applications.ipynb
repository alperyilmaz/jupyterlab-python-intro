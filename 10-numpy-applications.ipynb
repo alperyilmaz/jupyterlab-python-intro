{
 "cells": [
  {
   "cell_type": "markdown",
   "metadata": {},
   "source": [
    "# About matrix/array multiplication\n",
    "\n",
    "In earlier lecture, we discussed about matrix multiplications and mentioned there are two types of multiplications. One of them is the matrix multiplication and other is block multiplication (element-wise)\n"
   ]
  },
  {
   "cell_type": "code",
   "execution_count": null,
   "metadata": {},
   "outputs": [],
   "source": [
    "import numpy as np\n",
    "A=np.matrix([[1,2,3],[4,5,6]])\n",
    "B=np.matrix([[7,8],[9,10],[11,12]])"
   ]
  },
  {
   "cell_type": "code",
   "execution_count": null,
   "metadata": {},
   "outputs": [],
   "source": [
    "print(\"Matrix A is:\\n\",A)\n",
    "print(\"Matrix B is:\\n\",B)"
   ]
  },
  {
   "cell_type": "markdown",
   "metadata": {},
   "source": [
    "The multiplication is calculated as follows:\n",
    "\n",
    "![step1](images/matrix-multiply-a.svg)\n",
    "\n",
    "![step2](images/matrix-multiply-b.svg)\n",
    "\n",
    "![step3 and 4](images/matrix-multiply-c.svg)\n",
    "\n",
    "[image source](https://www.mathsisfun.com/algebra/matrix-multiplying.html)\n",
    "\n",
    "Here's Python equivalent for the matrix multiplication. We can use `*` operator or `np.dot()` function."
   ]
  },
  {
   "cell_type": "code",
   "execution_count": null,
   "metadata": {},
   "outputs": [],
   "source": [
    "A * B"
   ]
  },
  {
   "cell_type": "code",
   "execution_count": null,
   "metadata": {},
   "outputs": [],
   "source": [
    "np.dot(A,B)"
   ]
  },
  {
   "cell_type": "code",
   "execution_count": null,
   "metadata": {},
   "outputs": [],
   "source": [
    "# alternative way to write multiplication\n",
    "A.dot(B)"
   ]
  },
  {
   "cell_type": "markdown",
   "metadata": {},
   "source": [
    "The elementwise multiplication (also known as Hadamard product) can be described as:\n",
    "\n",
    "![Hadamard product](images/4eb9bb54b2820fb3583901ec05bc4b474b6d90bc.png)\n",
    "\n",
    "An this can be achieved with `np.multiply()` function"
   ]
  },
  {
   "cell_type": "code",
   "execution_count": null,
   "metadata": {},
   "outputs": [],
   "source": [
    "C = np.matrix([[1,2],[3,4]])\n",
    "D = np.matrix([[5,6],[7,8]])\n",
    "print(\"Matrix C is:\\n\",C)\n",
    "print(\"Matrix D is:\\n\",D)"
   ]
  },
  {
   "cell_type": "code",
   "execution_count": null,
   "metadata": {},
   "outputs": [],
   "source": [
    "np.multiply(C,D)"
   ]
  },
  {
   "cell_type": "markdown",
   "metadata": {},
   "source": [
    "> Beware that there are some incompatibilities between matrix and 2D array objects, especially for `*` operator. "
   ]
  },
  {
   "cell_type": "code",
   "execution_count": null,
   "metadata": {},
   "outputs": [],
   "source": [
    "C_arr = np.array([[1,2],[3,4]])\n",
    "D_arr = np.array([[5,6],[7,8]])\n",
    "C_arr * D_arr"
   ]
  },
  {
   "cell_type": "markdown",
   "metadata": {},
   "source": [
    "The `*` operator performs elementwise multiplication in 2D array but performs matrix multiplication for `np.matrix` objects."
   ]
  },
  {
   "cell_type": "code",
   "execution_count": null,
   "metadata": {},
   "outputs": [],
   "source": [
    "C * D"
   ]
  },
  {
   "cell_type": "markdown",
   "metadata": {},
   "source": [
    "Use of `@` operator for matrix multiplication is safer way for both matrix and array objects"
   ]
  },
  {
   "cell_type": "code",
   "execution_count": null,
   "metadata": {},
   "outputs": [],
   "source": [
    "C @ D"
   ]
  },
  {
   "cell_type": "code",
   "execution_count": null,
   "metadata": {},
   "outputs": [],
   "source": [
    "C_arr @ D_arr"
   ]
  },
  {
   "cell_type": "markdown",
   "metadata": {},
   "source": [
    "# Inverse of matrix\n",
    "\n",
    "You must be wondering what is the use of inverse of a matrix. Here's an example. Let's assume we want to solve the equations below:\n",
    "\n",
    "```\n",
    "x  +  y +  z  = 6\n",
    "     2y + 5z  = −4\n",
    "2x + 5y −  z  = 27\n",
    "```\n",
    "\n",
    "The equations can be written as:\n",
    "\n",
    "![linear equation to matrix](images/systems-linear-equations-matrices1.svg)\n",
    "\n",
    "In that case, if we represent the first matrix as A, we can write:\n",
    "\n",
    "$$ A\\times X = B$$\n",
    "\n",
    "and then we can find X as:\n",
    "\n",
    "$$ X = A^{-1} \\times B$$"
   ]
  },
  {
   "cell_type": "markdown",
   "metadata": {},
   "source": [
    "Let's prepare matrices A and B."
   ]
  },
  {
   "cell_type": "code",
   "execution_count": null,
   "metadata": {},
   "outputs": [],
   "source": [
    "A = np.matrix([[1,1,1],[0,2,5],[2,5,-1]])\n",
    "A"
   ]
  },
  {
   "cell_type": "code",
   "execution_count": null,
   "metadata": {},
   "outputs": [],
   "source": [
    "B= np.matrix([[6],[-4],[27]])\n",
    "B"
   ]
  },
  {
   "cell_type": "markdown",
   "metadata": {},
   "source": [
    "Then, the solution is:"
   ]
  },
  {
   "cell_type": "code",
   "execution_count": null,
   "metadata": {},
   "outputs": [],
   "source": [
    "A.I * B"
   ]
  },
  {
   "cell_type": "markdown",
   "metadata": {},
   "source": [
    "# Distance and correlation matrices \n",
    "\n",
    "When data is arranged as matrix or 2D array, then it's easy to calculate distance or correlation between rows and columns. In this example we'll be using a small 2D array in which expression values of 10 genes in 8 samples. In such an arrangement, we might wonder which genes have similar expression pattern. Or, which samples are similar to each other."
   ]
  },
  {
   "cell_type": "code",
   "execution_count": null,
   "metadata": {},
   "outputs": [],
   "source": [
    "# this is necessary for fitting matrices to screen\n",
    "np.set_printoptions(threshold=np.inf)\n",
    "np.set_printoptions(linewidth = 150)"
   ]
  },
  {
   "cell_type": "code",
   "execution_count": null,
   "metadata": {},
   "outputs": [],
   "source": [
    "import numpy as np\n",
    "import scipy\n",
    "from scipy import spatial"
   ]
  },
  {
   "cell_type": "markdown",
   "metadata": {},
   "source": [
    "Here's the sample values. In this example, Gene1 is expressed 5 units in Sample1, 11 units in Sample2 and 1650 units in Sample8."
   ]
  },
  {
   "cell_type": "code",
   "execution_count": null,
   "metadata": {},
   "outputs": [],
   "source": [
    "gene_exp = np.array([[5, 11, 18, 9, 1500, 1480, 1530, 1650],\n",
    "     [1045, 1225, 1560, 1308, 21, 26, 20, 28],\n",
    "     [8375, 9545, 9012, 8798, 17, 18, 17, 18],\n",
    "     [2645, 2078, 3815, 3311, 12, 13, 17, 16],\n",
    "     [19, 15, 14, 21, 2564, 2486, 2299, 2389],\n",
    "     [7346, 8145, 7778, 8214, 19, 16, 14, 12],\n",
    "     [1120, 1125, 1298, 1101, 18, 17, 15, 13],\n",
    "     [1548, 158, 1493, 1511, 19, 23, 1920, 18],\n",
    "     [12, 17, 225, 93, 1545, 1398, 1473, 1579],\n",
    "     [5, 3, 2, 5, 156, 1856, 158, 1758]])"
   ]
  },
  {
   "cell_type": "code",
   "execution_count": null,
   "metadata": {},
   "outputs": [],
   "source": [
    "gene_exp"
   ]
  },
  {
   "cell_type": "code",
   "execution_count": null,
   "metadata": {},
   "outputs": [],
   "source": [
    "gene_exp.shape"
   ]
  },
  {
   "cell_type": "markdown",
   "metadata": {},
   "source": [
    "There are various formulas/approaches to calculate distance between two points. In this example, we'll be using *Euclidean* distance. Here's the demonstration in 2D space.\n",
    "\n",
    "![Euclidean distance](images/euclidean_distance.png)\n",
    "\n",
    "[Image source](https://towardsdatascience.com/how-to-measure-distances-in-machine-learning-13a396aa34ce)\n",
    "\n",
    "For 2D space the formula is:\n",
    "\n",
    "![Euclidean 2D](images/euclidean_2d.png)\n",
    "\n",
    "And for N dimensional space the formula becomes:\n",
    "\n",
    "![Euclidean N dimension](images/euclidean_n.png)\n",
    "\n",
    "Let's calculate pairwise distances between points using `SciPy` module"
   ]
  },
  {
   "cell_type": "code",
   "execution_count": null,
   "metadata": {},
   "outputs": [],
   "source": [
    "# An example\n",
    "scipy.spatial.distance.pdist(gene_exp, 'euclidean')"
   ]
  },
  {
   "cell_type": "markdown",
   "metadata": {},
   "source": [
    "The distances are better visualized in square form. The code below converts pairwise distances in N x N matrix, where each row and column represents a gene."
   ]
  },
  {
   "cell_type": "code",
   "execution_count": null,
   "metadata": {},
   "outputs": [],
   "source": [
    "pairwise_dist = scipy.spatial.distance.pdist(gene_exp, 'euclidean')\n",
    "dist_matrix = scipy.spatial.distance.squareform(pairwise_dist)\n",
    "np.round(dist_matrix)"
   ]
  },
  {
   "cell_type": "markdown",
   "metadata": {},
   "source": [
    "Actually, there's better method to reveal patterns. As you can see gene1, gene5, gene9 and gene10 are expressed low in first 4 samples and highly expressed in last 4 samples. Remaining genes show the opposite pattern. Correlation calculations can assign values between 1 and -1 for each pair. If two genes have similar pattern they get higher score and if they have opposite pattern then they get smaller (minus) values. The absolute value increases as similarity increases.\n",
    "\n",
    "Let's calculate Spearman correlation in our 2D array. Let's view the original data again:"
   ]
  },
  {
   "cell_type": "code",
   "execution_count": null,
   "metadata": {},
   "outputs": [],
   "source": [
    "gene_exp"
   ]
  },
  {
   "cell_type": "code",
   "execution_count": null,
   "metadata": {},
   "outputs": [],
   "source": [
    "from scipy.stats import spearmanr\n",
    "gene_correlation = spearmanr(gene_exp, axis=1)[0]\n",
    "np.round(gene_correlation, 2)"
   ]
  },
  {
   "cell_type": "markdown",
   "metadata": {},
   "source": [
    "Looks like, *Gene1* and *Gene9* has the highest correlation, 0.95 on the other hand *Gene10* and *Gene7* has the highest negative correlation, -0.92\n",
    "\n",
    "By changing the axis on which correlation is calculated, we can measure correlation between samples."
   ]
  },
  {
   "cell_type": "code",
   "execution_count": null,
   "metadata": {},
   "outputs": [],
   "source": [
    "sample_correlation = spearmanr(gene_exp, axis=0)[0]\n",
    "np.round(sample_correlation, 2)"
   ]
  },
  {
   "cell_type": "markdown",
   "metadata": {},
   "source": [
    "Notice the use of `axis=0` or `axis=1` arguments, which allow correlation calculation between samples or genes, respectively."
   ]
  },
  {
   "cell_type": "markdown",
   "metadata": {},
   "source": [
    "# Images as 2D arrays"
   ]
  },
  {
   "cell_type": "markdown",
   "metadata": {},
   "source": [
    "Let's see a fun application of numpy and let's see how much it's easy to handle and manipulate images with matplotlib and numpy.\n",
    "\n",
    "As you might have guessed images are 2D arrays of pixels. Let's consider the image below, this is extremely zoomed in 4x4 pixel image. "
   ]
  },
  {
   "cell_type": "markdown",
   "metadata": {},
   "source": [
    "![test image zoom](images/test_image_zoom.png)\n",
    "\n",
    "Let's import this image. Apart from `matplotlib` library, CV (computer vision) library has efficient functions to read images."
   ]
  },
  {
   "cell_type": "code",
   "execution_count": null,
   "metadata": {},
   "outputs": [],
   "source": [
    "import cv2\n",
    "import numpy as np\n",
    "import matplotlib.pyplot as plt\n",
    "\n",
    "test = cv2.imread(\"images/test_image.png\",1)\n",
    "test"
   ]
  },
  {
   "cell_type": "markdown",
   "metadata": {},
   "source": [
    "To understand how color is represented in three 8 bit channels please visit [this site](https://www.rapidtables.com/web/color/RGB_Color.html).\n",
    "\n",
    "When printed as list or array, it gives the b,g,r values (instead of R, G, B order as usual) for each pixel."
   ]
  },
  {
   "cell_type": "code",
   "execution_count": null,
   "metadata": {},
   "outputs": [],
   "source": [
    "test.tolist()"
   ]
  },
  {
   "cell_type": "code",
   "execution_count": null,
   "metadata": {},
   "outputs": [],
   "source": [
    "test.shape"
   ]
  },
  {
   "cell_type": "markdown",
   "metadata": {},
   "source": [
    "We also have access the separate channels which is contolled by the third dimension. "
   ]
  },
  {
   "cell_type": "code",
   "execution_count": null,
   "metadata": {},
   "outputs": [],
   "source": [
    "test[:,:,0]"
   ]
  },
  {
   "cell_type": "code",
   "execution_count": null,
   "metadata": {},
   "outputs": [],
   "source": [
    "test[:,:,1]"
   ]
  },
  {
   "cell_type": "code",
   "execution_count": null,
   "metadata": {},
   "outputs": [],
   "source": [
    "test[:,:,2]"
   ]
  },
  {
   "cell_type": "markdown",
   "metadata": {},
   "source": [
    "Let's try to visualize the arrangement of arrays for each color channel\n",
    "\n",
    "![color layers](images/color-rgb-array.png)\n",
    "\n",
    "What do you think will happen if we reset (=0) first two layers?"
   ]
  },
  {
   "cell_type": "code",
   "execution_count": null,
   "metadata": {},
   "outputs": [],
   "source": [
    "only_red=test.copy()\n",
    "only_red[:,:,0:2] = 0"
   ]
  },
  {
   "cell_type": "code",
   "execution_count": null,
   "metadata": {},
   "outputs": [],
   "source": [
    "plt.imshow(cv2.cvtColor(only_red, cv2.COLOR_BGR2RGB))"
   ]
  },
  {
   "cell_type": "markdown",
   "metadata": {},
   "source": [
    "When green and blue channels are reset, only red channel is left. As you expect, now the white pixel is red because when we remove blue and green from white, only red color remains.\n",
    "\n",
    "Let's remove blue channel this time, which means resetting first layer of 3D array."
   ]
  },
  {
   "cell_type": "code",
   "execution_count": null,
   "metadata": {},
   "outputs": [],
   "source": [
    "no_blue=test.copy()\n",
    "no_blue[:,:,0] = 0"
   ]
  },
  {
   "cell_type": "code",
   "execution_count": null,
   "metadata": {},
   "outputs": [],
   "source": [
    "plt.imshow(cv2.cvtColor(no_blue, cv2.COLOR_BGR2RGB))"
   ]
  },
  {
   "cell_type": "markdown",
   "metadata": {},
   "source": [
    "When blue is removed from white, red and green left, and mixture of red and green gives yellow color. "
   ]
  },
  {
   "cell_type": "markdown",
   "metadata": {},
   "source": [
    "Let's have some colorful fun starting with an black image. Two arrays are defined, one decreasing from 255 to 0 and other one increasing from 0 255. Both of them are reshaped to 4x4."
   ]
  },
  {
   "cell_type": "code",
   "execution_count": null,
   "metadata": {},
   "outputs": [],
   "source": [
    "increasing = np.linspace(0,255,16).reshape(4,4)\n",
    "decreasing = np.linspace(255,0,16).reshape(4,4)"
   ]
  },
  {
   "cell_type": "code",
   "execution_count": null,
   "metadata": {},
   "outputs": [],
   "source": [
    "decreasing"
   ]
  },
  {
   "cell_type": "code",
   "execution_count": null,
   "metadata": {},
   "outputs": [],
   "source": [
    "increasing"
   ]
  },
  {
   "cell_type": "markdown",
   "metadata": {},
   "source": [
    "Let's create an empty vector (filled with zeros actually) and assign `decreasing` array to red channel and `increasing` array to blue channel. Also, remember colors are up to 255, so they should be of type `uint8` (unsigned integer in 8 bits)"
   ]
  },
  {
   "cell_type": "code",
   "execution_count": null,
   "metadata": {},
   "outputs": [],
   "source": [
    "fun=np.zeros(48, dtype='uint8').reshape(4,4,3)\n",
    "fun[:,:,0] = increasing\n",
    "fun[:,:,2] = decreasing"
   ]
  },
  {
   "cell_type": "code",
   "execution_count": null,
   "metadata": {},
   "outputs": [],
   "source": [
    "fun"
   ]
  },
  {
   "cell_type": "code",
   "execution_count": null,
   "metadata": {},
   "outputs": [],
   "source": [
    "plt.imshow(cv2.cvtColor(fun, cv2.COLOR_BGR2RGB))"
   ]
  },
  {
   "cell_type": "markdown",
   "metadata": {},
   "source": [
    "## Detection and counting of cells\n",
    "\n",
    "Let's use a more sophisticated example. Counting cells under microscope is a tiring and tedious process. Can we automate cell counting from images?\n",
    "\n",
    "This example will demonstrate cell counting from gray image. You can also check another example, blue-white bacteria colony counting [here](http://www.sixthresearcher.com/counting-blue-and-white-bacteria-colonies-with-python-and-opencv/)."
   ]
  },
  {
   "cell_type": "markdown",
   "metadata": {},
   "source": [
    "Let's import sample cell culture image."
   ]
  },
  {
   "cell_type": "code",
   "execution_count": null,
   "metadata": {},
   "outputs": [],
   "source": [
    "img = cv2.imread(\"images/0a7d30b252359a10fd298b638b90cb9ada3acced4e0c0e5a3692013f432ee4e9.png\",0)\n",
    "\n",
    "img[:10,:10]"
   ]
  },
  {
   "cell_type": "code",
   "execution_count": null,
   "metadata": {},
   "outputs": [],
   "source": [
    "img.shape"
   ]
  },
  {
   "cell_type": "code",
   "execution_count": null,
   "metadata": {},
   "outputs": [],
   "source": [
    "plt.imshow(img, 'gray')"
   ]
  },
  {
   "cell_type": "code",
   "execution_count": null,
   "metadata": {},
   "outputs": [],
   "source": [
    "cell= img[55:80, 140:170]\n",
    "#cell"
   ]
  },
  {
   "cell_type": "code",
   "execution_count": null,
   "metadata": {},
   "outputs": [],
   "source": [
    "print(cell)"
   ]
  },
  {
   "cell_type": "code",
   "execution_count": null,
   "metadata": {},
   "outputs": [],
   "source": [
    "plt.imshow(cell, 'gray')"
   ]
  },
  {
   "cell_type": "code",
   "execution_count": null,
   "metadata": {},
   "outputs": [],
   "source": [
    "# Otsu's thresholding after Gaussian filtering\n",
    "blur = cv2.GaussianBlur(cell,(5,5),0)\n",
    "print(blur)"
   ]
  },
  {
   "cell_type": "code",
   "execution_count": null,
   "metadata": {},
   "outputs": [],
   "source": [
    "plt.imshow(blur, 'gray')"
   ]
  },
  {
   "cell_type": "code",
   "execution_count": null,
   "metadata": {},
   "outputs": [],
   "source": [
    "ret3,th3 = cv2.threshold(blur,0,50,cv2.THRESH_BINARY+cv2.THRESH_OTSU) # cv2.THRESH_BINARY+cv2.THRESH_OTSU neyi hesaplar?\n",
    "\n",
    "# ret3 == 30\n",
    "print(th3)\n"
   ]
  },
  {
   "cell_type": "code",
   "execution_count": null,
   "metadata": {},
   "outputs": [],
   "source": [
    "plt.figure(figsize=(15,5))\n",
    "images = [blur, 0, th3]\n",
    "titles = ['Gaussian filtered Image','Histogram',\"Otsu's Thresholding\"]\n",
    "plt.subplot(1,3,1),plt.imshow(images[0],'gray')\n",
    "plt.title(titles[0]), plt.xticks([]), plt.yticks([])\n",
    "plt.subplot(1,3,2),plt.hist(images[0].ravel(),256)\n",
    "plt.title(titles[1]), plt.xticks([]), plt.yticks([])\n",
    "plt.subplot(1,3,3),plt.imshow(th3,'gray')\n",
    "plt.title(titles[2]), plt.xticks([]), plt.yticks([])"
   ]
  },
  {
   "cell_type": "code",
   "execution_count": null,
   "metadata": {},
   "outputs": [],
   "source": [
    "# cell.ravel()"
   ]
  },
  {
   "cell_type": "code",
   "execution_count": null,
   "metadata": {},
   "outputs": [],
   "source": [
    "image, contours = cv2.findContours(th3,cv2.RETR_TREE,cv2.CHAIN_APPROX_SIMPLE)\n",
    "cell_contour = cv2.drawContours(cell.copy(), image, -1, (255,255,255), 1) # You must work on copy of cell matrice object because of overwrite problem\n",
    "plt.imshow(cell_contour, 'gray')"
   ]
  },
  {
   "cell_type": "code",
   "execution_count": null,
   "metadata": {},
   "outputs": [],
   "source": [
    "plt.figure(figsize=(10,10))\n",
    "plt.subplot(1,2,1),plt.title('Original Image'),plt.imshow(cell, 'gray')#,'red')\n",
    "plt.subplot(1,2,2),plt.title('OpenCV.findContours'),plt.imshow(cell_contour,'gray')#,'red')\n",
    "\n",
    "print('number of detected contours: ',len(image))"
   ]
  },
  {
   "cell_type": "markdown",
   "metadata": {},
   "source": [
    "## Count cells in whole image"
   ]
  },
  {
   "cell_type": "code",
   "execution_count": null,
   "metadata": {},
   "outputs": [],
   "source": [
    "img = cv2.imread(\"images/0a7d30b252359a10fd298b638b90cb9ada3acced4e0c0e5a3692013f432ee4e9.png\",0)\n",
    "plt.imshow(img, 'gray')"
   ]
  },
  {
   "cell_type": "code",
   "execution_count": null,
   "metadata": {},
   "outputs": [],
   "source": [
    "blur_cells = cv2.GaussianBlur(img,(5,5),0)\n",
    "#print(blur)"
   ]
  },
  {
   "cell_type": "code",
   "execution_count": null,
   "metadata": {},
   "outputs": [],
   "source": [
    "plt.imshow(blur_cells, 'gray')"
   ]
  },
  {
   "cell_type": "code",
   "execution_count": null,
   "metadata": {},
   "outputs": [],
   "source": [
    "ret3_cells,th3_cells = cv2.threshold(blur_cells,0,255,cv2.THRESH_BINARY+cv2.THRESH_OTSU) # cv2.THRESH_BINARY+cv2.THRESH_OTSU neyi hesaplar?\n",
    "\n",
    "# ret3_cells == 24\n",
    "# print(th3_cells)"
   ]
  },
  {
   "cell_type": "code",
   "execution_count": null,
   "metadata": {},
   "outputs": [],
   "source": [
    "plt.figure(figsize=(15,5))\n",
    "images = [blur_cells, 0, th3_cells]\n",
    "titles = ['Gaussian filtered Image','Histogram',\"Otsu's Thresholding\"]\n",
    "plt.subplot(1,3,1),plt.imshow(images[0],'gray')\n",
    "plt.title(titles[0]), plt.xticks([]), plt.yticks([])\n",
    "plt.subplot(1,3,2),plt.hist(images[0].ravel(),256)\n",
    "plt.title(titles[1]), plt.xticks([]), plt.yticks([])\n",
    "plt.subplot(1,3,3),plt.imshow(images[2],'gray')\n",
    "plt.title(titles[2]), plt.xticks([]), plt.yticks([])"
   ]
  },
  {
   "cell_type": "code",
   "execution_count": null,
   "metadata": {},
   "outputs": [],
   "source": [
    "image_cells, contours_cells = cv2.findContours(th3_cells,cv2.RETR_TREE,cv2.CHAIN_APPROX_SIMPLE)\n",
    "cells_contour = cv2.drawContours(img.copy(), image_cells, -1, (255,255,255), 2) # width = 2.\n",
    "plt.imshow(cells_contour, 'gray')"
   ]
  },
  {
   "cell_type": "code",
   "execution_count": null,
   "metadata": {},
   "outputs": [],
   "source": [
    "plt.figure(figsize=(10,10))\n",
    "plt.subplot(1,2,1),plt.title('Original Image'),plt.imshow(img, 'gray')#,'red')\n",
    "plt.subplot(1,2,2),plt.title('OpenCV.findContours'),plt.imshow(cells_contour,'gray')#,'red')\n",
    "\n",
    "print('number of detected contours: ',len(image_cells))"
   ]
  },
  {
   "cell_type": "markdown",
   "metadata": {},
   "source": [
    "## Videos are frames of images\n",
    "\n",
    "Let's imagine there's a video of cells dividing. The question is, at which frame number cells divide? We can go through each frame and count cells and then find earliest frame number at which there are two cells."
   ]
  },
  {
   "cell_type": "code",
   "execution_count": null,
   "metadata": {},
   "outputs": [],
   "source": [
    "%matplotlib inline\n",
    "import numpy as np\n",
    "import cv2\n",
    "import matplotlib.pyplot as plt\n",
    "\n",
    "vidcap = cv2.VideoCapture('images/cell division animation-ta4mGgoMp1Q.mp4')\n",
    "#success,image = vidcap.read()\n",
    "count = 0\n",
    "test=np.zeros(shape=(346,360,640,3)).astype('uint8')\n",
    "success = True\n",
    "while success:\n",
    "    #cv2.imwrite(\"frame%d.jpg\" % count, image)     # save frame as JPEG file\n",
    "    success,frame = vidcap.read()\n",
    "    if not(success): break\n",
    "    gray = cv2.cvtColor(frame, cv2.COLOR_BGR2RGB)  \n",
    "    #print('Read a new frame: ', frame.shape)\n",
    "    test[count]=gray\n",
    "    count += 1"
   ]
  },
  {
   "cell_type": "code",
   "execution_count": null,
   "metadata": {},
   "outputs": [],
   "source": [
    "print(test[119].shape)\n",
    "plt.imshow(test[119])"
   ]
  },
  {
   "cell_type": "code",
   "execution_count": null,
   "metadata": {},
   "outputs": [],
   "source": [
    "plt.imshow(test[119][:,:,0])"
   ]
  },
  {
   "cell_type": "code",
   "execution_count": null,
   "metadata": {},
   "outputs": [],
   "source": [
    "# problematic frames 39, 105, 114\n",
    "test_frame = np.round(test[39][:,:,0],1)\n",
    "# try different gauss blur 5,5 7,7 9,9 and observe specles, 15,15 works best\n",
    "blur_frame = cv2.GaussianBlur(test_frame,(15,15),0)\n",
    "ret3_frame,th3_frame = cv2.threshold(blur_frame,240,255,cv2.THRESH_BINARY)"
   ]
  },
  {
   "cell_type": "code",
   "execution_count": null,
   "metadata": {},
   "outputs": [],
   "source": [
    "plt.imshow(th3_frame)"
   ]
  },
  {
   "cell_type": "code",
   "execution_count": null,
   "metadata": {},
   "outputs": [],
   "source": [
    "image_cells, contours_cells = cv2.findContours(th3_frame,cv2.RETR_TREE,cv2.CHAIN_APPROX_SIMPLE)"
   ]
  },
  {
   "cell_type": "code",
   "execution_count": null,
   "metadata": {},
   "outputs": [],
   "source": [
    "len(image_cells)"
   ]
  },
  {
   "cell_type": "code",
   "execution_count": null,
   "metadata": {},
   "outputs": [],
   "source": [
    "def count_cells_per_frame(frame):\n",
    "    blur_frame = cv2.GaussianBlur(frame,(15,15),0)\n",
    "    ret3_frame,th3_frame = cv2.threshold(blur_frame,240,255,cv2.THRESH_BINARY)\n",
    "    image_cells, contours_cells = cv2.findContours(th3_frame,cv2.RETR_TREE,cv2.CHAIN_APPROX_SIMPLE)\n",
    "    return len(image_cells)    "
   ]
  },
  {
   "cell_type": "code",
   "execution_count": null,
   "metadata": {},
   "outputs": [],
   "source": [
    "[ (i,count_cells_per_frame(test[i][:,:,0])) for i in range(345) ]"
   ]
  }
 ],
 "metadata": {
  "kernelspec": {
   "display_name": "Python 3 (ipykernel)",
   "language": "python",
   "name": "python3"
  },
  "language_info": {
   "codemirror_mode": {
    "name": "ipython",
    "version": 3
   },
   "file_extension": ".py",
   "mimetype": "text/x-python",
   "name": "python",
   "nbconvert_exporter": "python",
   "pygments_lexer": "ipython3",
   "version": "3.10.8"
  }
 },
 "nbformat": 4,
 "nbformat_minor": 4
}
