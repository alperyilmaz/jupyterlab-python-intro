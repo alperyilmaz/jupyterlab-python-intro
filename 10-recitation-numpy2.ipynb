{
 "cells": [
  {
   "cell_type": "markdown",
   "id": "a355b0bc-aa6e-4e0b-8145-fdc499d01e46",
   "metadata": {},
   "source": [
    "## Question 1\n",
    "\n",
    "Create a random matrix, 16x16, and use `imshow` to plot it as heatmap."
   ]
  },
  {
   "cell_type": "code",
   "execution_count": null,
   "id": "89a87286-12c0-4256-96cb-95f57ac9b1a3",
   "metadata": {},
   "outputs": [],
   "source": [
    "## Answer 1\n",
    "import matplotlib.pyplot as plt\n",
    "from numpy.random import random, seed\n",
    "\n",
    "seed(...)\n",
    "data=random(...)  # with or without reshape\n",
    "\n",
    "plt.imshow(data)\n",
    "plt.colorbar()"
   ]
  },
  {
   "cell_type": "markdown",
   "id": "da7c5f22-2e05-4672-863d-a4acb6b331b1",
   "metadata": {},
   "source": [
    "Bright yellow points are high points. Can we find which coordinates (x,y) has values greater than 0.95? (*hint*: np.where)"
   ]
  },
  {
   "cell_type": "code",
   "execution_count": null,
   "id": "18f68d1a-bc12-4fb5-a0bf-109354433039",
   "metadata": {},
   "outputs": [],
   "source": [
    "## Answer 1b\n",
    "\n"
   ]
  },
  {
   "cell_type": "markdown",
   "id": "87c752d0-d35f-46fe-86ed-91e80a3884e3",
   "metadata": {},
   "source": [
    "## Question 2\n",
    "Implement a function that takes two `d` dimensional vectors `x` and `z` and returns their Euclidean distance. [source](http://disi.unitn.it/~teso/courses/sciprog/python_appendices_exercises.html)\n",
    "* and then write worse version using loop\n",
    "* compare the speed of numpy and loop versions"
   ]
  },
  {
   "cell_type": "code",
   "execution_count": null,
   "id": "789f2979-0d4c-4e08-a2ed-c312c3474e5b",
   "metadata": {},
   "outputs": [],
   "source": [
    "# use these arrays in your testing/solution\n",
    "import numpy as np\n",
    "from math import sqrt\n",
    "x = np.array([1,5,2,3,5,2,4,5,4,5])\n",
    "z= np.array([4,2,2,5,2,1,6,2,3,2])\n",
    "y = np.array([2,6,3,4,6,3,5,6,5,5])\n",
    "m=np.random.random(1_000_000)\n",
    "n=np.random.random(1_000_000)"
   ]
  },
  {
   "cell_type": "code",
   "execution_count": null,
   "id": "b705bc34-1bee-421f-a739-768a41b10f45",
   "metadata": {},
   "outputs": [],
   "source": [
    "## Answer 2\n",
    "def euc_dist(...):\n",
    "    ...\n",
    "    return ..."
   ]
  },
  {
   "cell_type": "code",
   "execution_count": null,
   "id": "1f294c4f-43c3-43c8-8b6c-fa95f6902d7b",
   "metadata": {},
   "outputs": [],
   "source": [
    "def euc_dist_old(...):\n",
    "\n",
    "    for i in ...:\n",
    "        ...\n",
    "    return ..."
   ]
  },
  {
   "cell_type": "code",
   "execution_count": null,
   "id": "fa79d99e-f26e-4da0-9fb4-41f88fa4f0ac",
   "metadata": {},
   "outputs": [],
   "source": [
    "%%timeit \n",
    "euc_dist_old(...)"
   ]
  },
  {
   "cell_type": "code",
   "execution_count": null,
   "id": "c4dd2d54-5787-494d-9bb4-912f9bf71dbd",
   "metadata": {},
   "outputs": [],
   "source": [
    "%%timeit \n",
    "euc_dist(...)"
   ]
  },
  {
   "cell_type": "markdown",
   "id": "24d2a384-5596-4233-ad57-06605fca308c",
   "metadata": {},
   "source": [
    "## Question 3\n",
    "\n",
    "Print the indices of non-zero elements in the array below (source: [Numpy 100 exercises](https://jovian.ai/ashhar374/100-numpy-exercises))"
   ]
  },
  {
   "cell_type": "code",
   "execution_count": null,
   "id": "e3175f36-8f2b-402d-9873-6ccbf1b8fa54",
   "metadata": {},
   "outputs": [],
   "source": [
    "data = np.array([[4,0,0,0,6,0,0,1],[0,0,2,0,0,3,0,1],[0,1,0,0,0,1,0,0]])\n",
    "data"
   ]
  },
  {
   "cell_type": "code",
   "execution_count": null,
   "id": "ba3bbe6e-397f-46aa-ac53-63ea767e2381",
   "metadata": {},
   "outputs": [],
   "source": [
    "## Answer 3\n"
   ]
  },
  {
   "cell_type": "markdown",
   "id": "aa4c6910-6120-4967-a6a1-467e93921e28",
   "metadata": {},
   "source": [
    "## Question 4\n",
    "\n",
    "Create a 8x8 matrix and fill it with a checkerboard pattern (source: [Numpy 100 exercises](https://jovian.ai/ashhar374/100-numpy-exercises))"
   ]
  },
  {
   "cell_type": "code",
   "execution_count": null,
   "id": "00743973-2ec7-4da3-8b59-b099069d1762",
   "metadata": {},
   "outputs": [],
   "source": [
    "M=np.matrix(np.zeros(shape=(8,8)))\n",
    "M"
   ]
  },
  {
   "cell_type": "code",
   "execution_count": null,
   "id": "a2f7c310-b60b-4e7e-a479-8dd612339603",
   "metadata": {},
   "outputs": [],
   "source": [
    "# Answer 4\n",
    "\n"
   ]
  },
  {
   "cell_type": "markdown",
   "id": "9fb48612-3bc7-4c9c-a079-895af14df4f8",
   "metadata": {},
   "source": [
    "## Question 5\n",
    "\n",
    "Normalize a 5x5 random matrix. (Normalization: subtract the minimum, divide by the new maximum) (source: [Numpy 100 exercises](https://jovian.ai/ashhar374/100-numpy-exercises))"
   ]
  },
  {
   "cell_type": "code",
   "execution_count": null,
   "id": "0b21c1f8-bc56-4796-af15-b68e1708ff93",
   "metadata": {},
   "outputs": [],
   "source": [
    "import numpy as np\n",
    "from numpy.random import randint, seed\n",
    "\n",
    "seed(1)\n",
    "M2= randint(100,1000,25).reshape(5,5)\n",
    "M2"
   ]
  },
  {
   "cell_type": "code",
   "execution_count": null,
   "id": "2e3e232f-960c-4f0d-bc9c-be8e6da95fb8",
   "metadata": {},
   "outputs": [],
   "source": [
    "## Answer 5\n",
    "\n"
   ]
  },
  {
   "cell_type": "code",
   "execution_count": null,
   "id": "decf9727-2073-47bd-92b3-7554f465625c",
   "metadata": {},
   "outputs": [],
   "source": [
    "## This is an alternative, using available functions from various libraries\n",
    "import sklearn\n",
    "from sklearn import preprocessing\n",
    "\n",
    "preprocessing.normalize(M2)"
   ]
  },
  {
   "cell_type": "markdown",
   "id": "71d8476c-3540-4578-bc63-6ef6df5ed88f",
   "metadata": {},
   "source": [
    "## Question 6\n",
    "\n",
    "find thermodynamics related package, install it and use it.\n"
   ]
  },
  {
   "cell_type": "code",
   "execution_count": null,
   "id": "926d50bc-b00a-45df-8f70-d663ab8e0f8a",
   "metadata": {},
   "outputs": [],
   "source": [
    "## Answer 6\n",
    "\n",
    "\n",
    "\n"
   ]
  }
 ],
 "metadata": {
  "kernelspec": {
   "display_name": "Python 3 (ipykernel)",
   "language": "python",
   "name": "python3"
  },
  "language_info": {
   "codemirror_mode": {
    "name": "ipython",
    "version": 3
   },
   "file_extension": ".py",
   "mimetype": "text/x-python",
   "name": "python",
   "nbconvert_exporter": "python",
   "pygments_lexer": "ipython3",
   "version": "3.10.8"
  }
 },
 "nbformat": 4,
 "nbformat_minor": 5
}
