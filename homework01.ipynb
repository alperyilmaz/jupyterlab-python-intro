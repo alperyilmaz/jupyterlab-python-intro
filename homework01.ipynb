{
 "cells": [
  {
   "cell_type": "markdown",
   "metadata": {},
   "source": [
    "# Homework 1\n",
    "\n",
    "> **Note**: Due to cheating students, the homework will not be marked. This assignment is for your own benefit. If you complete and submit this homework, you're most likely to score high marks in midterms"
   ]
  },
  {
   "cell_type": "markdown",
   "metadata": {},
   "source": [
    "## Part 1.A\n",
    "\n",
    "Please fix the code for `is_prime_v4()` function that we used in `03-prime-count-debug-bench.ipynb` lecture material. We already fixed/debugged the function during lecture.\n",
    "\n"
   ]
  },
  {
   "cell_type": "code",
   "execution_count": 1,
   "metadata": {},
   "outputs": [],
   "source": [
    "# copy paste is_prime_v4() code here\n",
    "# and fix it\n",
    "\n"
   ]
  },
  {
   "cell_type": "markdown",
   "metadata": {},
   "source": [
    "We discussed how to check if a function is running properly. We can provide input with known output (e.g. `\"0 is not prime\"`) and see the results. We can also check it by counting how many prime numbers it's finding up to particular number."
   ]
  },
  {
   "cell_type": "code",
   "execution_count": 2,
   "metadata": {},
   "outputs": [],
   "source": [
    "# test the function with -2, 0, 2, 4\n",
    "\n",
    "\n",
    "\n",
    "# test the function to count prime numbers smaller than 1 million. Provide URL for the true result\n",
    "\n",
    "\n"
   ]
  },
  {
   "cell_type": "markdown",
   "metadata": {},
   "source": [
    "## Part 1.B\n",
    "\n",
    "Find a prime number finding function from online resources\n"
   ]
  },
  {
   "cell_type": "code",
   "execution_count": 3,
   "metadata": {},
   "outputs": [],
   "source": [
    "# copy paste (and modify if necessary) the code for checking prime number\n",
    "# provide the URL for the code\n",
    "\n",
    "\n"
   ]
  },
  {
   "cell_type": "markdown",
   "metadata": {},
   "source": [
    "Apply same checks you used for earlier"
   ]
  },
  {
   "cell_type": "code",
   "execution_count": 4,
   "metadata": {},
   "outputs": [],
   "source": [
    "# test the function with -2, 0, 2, 4\n",
    "\n",
    "\n",
    "\n",
    "# test the function to count prime numbers smaller than 1 million. Provide URL for the true result\n",
    "\n"
   ]
  },
  {
   "cell_type": "markdown",
   "metadata": {},
   "source": [
    "Finally, compare two functions and see which one is faster. Please use `%timeit` for more accurate results and use \"9973\" as the prime number. (**Note:** please replace *OTHER_FUNCTION* with function name you have used)"
   ]
  },
  {
   "cell_type": "code",
   "execution_count": null,
   "metadata": {},
   "outputs": [],
   "source": [
    "%timeit is_prime_v4(9973)"
   ]
  },
  {
   "cell_type": "code",
   "execution_count": null,
   "metadata": {},
   "outputs": [],
   "source": [
    "%timeit OTHER_FUNCTION(9973)"
   ]
  },
  {
   "cell_type": "markdown",
   "metadata": {},
   "source": [
    "## Part 2\n",
    "\n",
    "Please write a code which will count number of [Twin primes](https://en.wikipedia.org/wiki/Twin_prime) smaller than 1 million. Example of twin primes are:\n",
    "\n",
    "* (3,5)\n",
    "* (5,7)\n",
    "* (11,13)\n",
    "\n",
    "Please make sure you're counting twins or pairs, not the prime numbers themselves."
   ]
  },
  {
   "cell_type": "code",
   "execution_count": 5,
   "metadata": {},
   "outputs": [],
   "source": [
    "# write your code here\n",
    "\n",
    "\n"
   ]
  },
  {
   "cell_type": "markdown",
   "metadata": {},
   "source": [
    "# When finished\n",
    "\n",
    "* save the file with your student number\n",
    "* export notebook as html\n",
    "* send \"0560000.html\" file to alyilmaz@yildiz.edu.tr with subject as \"Homework1\"\n"
   ]
  }
 ],
 "metadata": {
  "kernelspec": {
   "display_name": "Python 3",
   "language": "python",
   "name": "python3"
  },
  "language_info": {
   "codemirror_mode": {
    "name": "ipython",
    "version": 3
   },
   "file_extension": ".py",
   "mimetype": "text/x-python",
   "name": "python",
   "nbconvert_exporter": "python",
   "pygments_lexer": "ipython3",
   "version": "3.7.3"
  }
 },
 "nbformat": 4,
 "nbformat_minor": 4
}
