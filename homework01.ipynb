{
 "cells": [
  {
   "cell_type": "markdown",
   "metadata": {},
   "source": [
    "# Homework 1\n",
    "\n",
    "> **Note**: Due to cheating students, the homework will not be marked. This assignment is for your own benefit. If you complete and submit this homework, you're most likely to score high marks in midterms"
   ]
  },
  {
   "cell_type": "markdown",
   "metadata": {},
   "source": [
    "## Part 1.A\n",
    "\n",
    "Please fix the code for `is_prime_v4()` function that we used in `03-prime-count-debug-bench.ipynb` lecture material. We already fixed/debugged the function during lecture.\n",
    "\n",
    "We discussed how to check if a function is running properly. We can provide input with known output (e.g. `\"0 is not prime\"`) and see the results. We can also check it by counting how many prime numbers it's finding up to particular number."
   ]
  },
  {
   "cell_type": "markdown",
   "metadata": {},
   "source": [
    "## Part 1.B\n",
    "\n",
    "Find a prime number finding function from online resources and apply same checks you used for `is_prime_v4()`.\n",
    "\n",
    "Finally, compare two functions and see which one is faster. Please use `%timeit` for more accurate results."
   ]
  },
  {
   "cell_type": "markdown",
   "metadata": {},
   "source": [
    "## Part 2\n",
    "\n",
    "Please write a code which will count number of [Twin primes](https://en.wikipedia.org/wiki/Twin_prime) smaller than 1 million. Example of twin primes are:\n",
    "\n",
    "* (3,5)\n",
    "* (5,7)\n",
    "* (11,13)\n",
    "\n",
    "Please make sure you're counting twins or pairs, not the prime numbers themselves."
   ]
  },
  {
   "cell_type": "markdown",
   "metadata": {},
   "source": [
    "# When finished\n",
    "\n",
    "* save the file with your student number\n",
    "* export notebook as html\n",
    "* send \"0560000.html\" file to alyilmaz@yildiz.edu.tr with subject as \"Homework1\"\n"
   ]
  }
 ],
 "metadata": {
  "kernelspec": {
   "display_name": "Python 3",
   "language": "python",
   "name": "python3"
  },
  "language_info": {
   "codemirror_mode": {
    "name": "ipython",
    "version": 3
   },
   "file_extension": ".py",
   "mimetype": "text/x-python",
   "name": "python",
   "nbconvert_exporter": "python",
   "pygments_lexer": "ipython3",
   "version": "3.7.3"
  }
 },
 "nbformat": 4,
 "nbformat_minor": 4
}
