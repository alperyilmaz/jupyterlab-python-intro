{
 "cells": [
  {
   "cell_type": "markdown",
   "metadata": {},
   "source": [
    "# Lecture 5 - Strings, dictionaries and word counts\n",
    "\n",
    "Question: For a given text, how would you count occurrence of each word? For a given word, we might use `count()` method but about counting all words?\n",
    "\n",
    "Input: *\"One morning, when Gregor Samsa woke from troubled dreams, he found himself transformed ...\"*\n",
    "\n",
    "Output: *{'one': 1, 'morning': 1, 'when': 1, 'gregor': 2, 'samsa': 2, 'woke': 1, 'from': 1, 'troubled': 1, 'dreams': 1, 'he': 7, 'found': 1,...*\n"
   ]
  },
  {
   "cell_type": "markdown",
   "metadata": {},
   "source": [
    "## Strings\n",
    "\n",
    "Please visit [Strings](https://www.tutorialspoint.com/python3/python_strings.htm) page at TutorialsPoint for extensive information about strings. Please go over all possible string methods at [this](https://www.w3schools.com/python/python_ref_string.asp) page."
   ]
  },
  {
   "cell_type": "code",
   "execution_count": null,
   "metadata": {},
   "outputs": [],
   "source": [
    "couple_of_words = ['hello','world']\n",
    "sentence = 'It was the best of times, it was the worst of times.'"
   ]
  },
  {
   "cell_type": "markdown",
   "metadata": {},
   "source": [
    "### Accessing values in strings"
   ]
  },
  {
   "cell_type": "code",
   "execution_count": null,
   "metadata": {},
   "outputs": [],
   "source": [
    "sentence[3]"
   ]
  },
  {
   "cell_type": "code",
   "execution_count": null,
   "metadata": {},
   "outputs": [],
   "source": [
    "couple_of_words[1]"
   ]
  },
  {
   "cell_type": "code",
   "execution_count": null,
   "metadata": {},
   "outputs": [],
   "source": [
    "couple_of_words[1][2]"
   ]
  },
  {
   "cell_type": "code",
   "execution_count": null,
   "metadata": {},
   "outputs": [],
   "source": [
    "equivalent_list = [['h','e','l','l','o'], ['w','o','r','l','d']]\n",
    "#ozel_bir_dizi[1][2]"
   ]
  },
  {
   "cell_type": "markdown",
   "metadata": {},
   "source": [
    "Slicing, as in lists, is possible as well"
   ]
  },
  {
   "cell_type": "code",
   "execution_count": null,
   "metadata": {},
   "outputs": [],
   "source": [
    "sentence[37:]"
   ]
  },
  {
   "cell_type": "markdown",
   "metadata": {},
   "source": [
    "### Escape characters\n",
    "\n",
    "While printing characters, the special characters such as Tab, Newline, etc. are denoted with escape characters. Please refer to [Strings](https://www.tutorialspoint.com/python3/python_strings.htm) page at TutorialsPoint for full list."
   ]
  },
  {
   "cell_type": "code",
   "execution_count": null,
   "metadata": {},
   "outputs": [],
   "source": [
    "print(\"hello\\tworld!\\nhello again!\")"
   ]
  },
  {
   "cell_type": "markdown",
   "metadata": {},
   "source": [
    "Please visit [Strings](https://www.tutorialspoint.com/python3/python_strings.htm) page at TutorialsPoint for list of \"String Special Operators\".\n",
    "\n",
    "Question: If you want to print \"\\n\" literally, how would you do it?"
   ]
  },
  {
   "cell_type": "code",
   "execution_count": null,
   "metadata": {},
   "outputs": [],
   "source": [
    "print(\"\\\\n is newline char\")"
   ]
  },
  {
   "cell_type": "markdown",
   "metadata": {},
   "source": [
    "### String concatanation\n",
    "\n",
    "`+` sign can be used to concatanate (combine) strings. "
   ]
  },
  {
   "cell_type": "code",
   "execution_count": null,
   "metadata": {},
   "outputs": [],
   "source": [
    "name=\"John\"\n",
    "lastname=\"Doe\"\n",
    "payment=53.444"
   ]
  },
  {
   "cell_type": "code",
   "execution_count": null,
   "metadata": {},
   "outputs": [],
   "source": [
    "print(name + lastname)"
   ]
  },
  {
   "cell_type": "code",
   "execution_count": null,
   "metadata": {},
   "outputs": [],
   "source": [
    "print(name + \" \" + lastname)"
   ]
  },
  {
   "cell_type": "code",
   "execution_count": null,
   "metadata": {},
   "outputs": [],
   "source": [
    "# try this\n",
    "#print(name + \" \" + lastname + \" owes $\" + payment )"
   ]
  },
  {
   "cell_type": "markdown",
   "metadata": {},
   "source": [
    "### String formatting\n",
    "\n",
    "`%` is used as formatting operator in Python which requires an accompanying **tuple**."
   ]
  },
  {
   "cell_type": "code",
   "execution_count": null,
   "metadata": {},
   "outputs": [],
   "source": [
    "data = (\"John\", \"Doe\", 53.4444)\n",
    "format_string = \"Hello %s %s. Your current balance is $%.2f\"\n",
    "\n",
    "print(format_string % data)"
   ]
  },
  {
   "cell_type": "markdown",
   "metadata": {},
   "source": [
    "Please visit [this blog post](https://realpython.com/python-string-formatting/) for in-depth information about string formatting in Python. Let's use format string to print similar output."
   ]
  },
  {
   "cell_type": "code",
   "execution_count": null,
   "metadata": {},
   "outputs": [],
   "source": [
    "f\"Hello {name} {lastname}. Your current balance is ${payment}.\"\n",
    "#f\"Hello {name.upper()} {lastname.upper()}. Your current balance is ${payment:0.2f}.\""
   ]
  },
  {
   "cell_type": "code",
   "execution_count": null,
   "metadata": {},
   "outputs": [],
   "source": [
    "f\"Hello {name+lastname}. Your current balance is ${payment:0.2f}.\""
   ]
  },
  {
   "cell_type": "markdown",
   "metadata": {},
   "source": [
    "### String methods\n",
    "\n",
    "Please refer to [Strings](https://www.tutorialspoint.com/python3/python_strings.htm) page at TutorialsPoint for full list of methods."
   ]
  },
  {
   "cell_type": "code",
   "execution_count": null,
   "metadata": {},
   "outputs": [],
   "source": [
    "sentence = 'It was the best of times, it was the worst of times.'\n",
    "sentence.upper()"
   ]
  },
  {
   "cell_type": "code",
   "execution_count": null,
   "metadata": {},
   "outputs": [],
   "source": [
    "sentence.count('e')"
   ]
  },
  {
   "cell_type": "markdown",
   "metadata": {},
   "source": [
    "> some of the functions for lists are shared with strings!"
   ]
  },
  {
   "cell_type": "code",
   "execution_count": null,
   "metadata": {},
   "outputs": [],
   "source": [
    "len(sentence)"
   ]
  },
  {
   "cell_type": "code",
   "execution_count": null,
   "metadata": {},
   "outputs": [],
   "source": [
    "sentence.replace('t','s',3)"
   ]
  },
  {
   "cell_type": "code",
   "execution_count": null,
   "metadata": {},
   "outputs": [],
   "source": [
    "sentence.lower().split()\n",
    "#sentence.lower().split(\",\")"
   ]
  },
  {
   "cell_type": "markdown",
   "metadata": {},
   "source": [
    "How can we calculate reverse complement of a DNA string?"
   ]
  },
  {
   "cell_type": "code",
   "execution_count": null,
   "metadata": {},
   "outputs": [],
   "source": [
    "a_gene= \"ACGACTACGACTA\"\n",
    "a_gene.replace('A','T').replace('T','A')"
   ]
  },
  {
   "cell_type": "markdown",
   "metadata": {},
   "source": [
    "Uh oh! that's wrong. Looks like we need another method."
   ]
  },
  {
   "cell_type": "markdown",
   "metadata": {},
   "source": [
    "# Dictionaries\n",
    "\n",
    "Dictionaries are sometimes found in other languages as \"hash tables\" or \"associative arrays\". Unlike sequences, which are indexed by a range of numbers, dictionaries are indexed by **keys**, which can be any immutable type; strings and numbers can always be keys. \n",
    "\n",
    "It is best to think of a dictionary as a set of *key: value* pairs, with the requirement that the keys are unique (within one dictionary). A pair of braces creates an empty dictionary: `{}`. Placing a comma-separated list of key:value pairs within the braces adds initial key:value pairs to the dictionary; this is also the way dictionaries are written on output.\n",
    "\n",
    "Performing `list(d)` on a dictionary returns a list of all the keys used in the dictionary, in insertion order (if you want it sorted, just use `sorted(d)` instead). To check whether a single key is in the dictionary, use the `in` keyword."
   ]
  },
  {
   "cell_type": "code",
   "execution_count": null,
   "metadata": {},
   "outputs": [],
   "source": [
    "tel = {'jack': 4098, 'sape': 4139}\n",
    "tel['guido'] = 4127\n",
    "tel"
   ]
  },
  {
   "cell_type": "code",
   "execution_count": null,
   "metadata": {},
   "outputs": [],
   "source": [
    "tel['jack']"
   ]
  },
  {
   "cell_type": "code",
   "execution_count": null,
   "metadata": {},
   "outputs": [],
   "source": [
    "del tel['sape']\n",
    "tel['irv'] = 4127\n",
    "tel"
   ]
  },
  {
   "cell_type": "code",
   "execution_count": null,
   "metadata": {},
   "outputs": [],
   "source": [
    "list(tel)"
   ]
  },
  {
   "cell_type": "code",
   "execution_count": null,
   "metadata": {},
   "outputs": [],
   "source": [
    "sorted(tel)"
   ]
  },
  {
   "cell_type": "code",
   "execution_count": null,
   "metadata": {},
   "outputs": [],
   "source": [
    "'guido' in tel"
   ]
  },
  {
   "cell_type": "code",
   "execution_count": null,
   "metadata": {},
   "outputs": [],
   "source": [
    "'jack' not in tel"
   ]
  },
  {
   "cell_type": "code",
   "execution_count": null,
   "metadata": {},
   "outputs": [],
   "source": [
    "for key in sorted(tel):\n",
    "    print(\"%s:\\t%s\" % (key,tel[key]))"
   ]
  },
  {
   "cell_type": "code",
   "execution_count": null,
   "metadata": {},
   "outputs": [],
   "source": [
    "for key in sorted(tel):\n",
    "    print(f\"{key}:\\t📞 {tel[key]}\")"
   ]
  },
  {
   "cell_type": "markdown",
   "metadata": {},
   "source": [
    "The `dict()` constructor builds dictionaries directly from sequences of key-value pairs:"
   ]
  },
  {
   "cell_type": "code",
   "execution_count": null,
   "metadata": {},
   "outputs": [],
   "source": [
    "dict([('sape', 4139), ('guido', 4127), ('jack', 4098)])"
   ]
  },
  {
   "cell_type": "markdown",
   "metadata": {},
   "source": [
    "Let's generate capitals dictionary"
   ]
  },
  {
   "cell_type": "code",
   "execution_count": null,
   "metadata": {},
   "outputs": [],
   "source": [
    "#capitals = dict([('Turkey','Ankara'), ('Japan','Tokyo'), ('Germany','Berlin')])\n",
    "#capitals['Turkey']"
   ]
  },
  {
   "cell_type": "markdown",
   "metadata": {},
   "source": [
    "In addition, dict comprehensions can be used to create dictionaries from arbitrary key and value expressions:"
   ]
  },
  {
   "cell_type": "code",
   "execution_count": null,
   "metadata": {},
   "outputs": [],
   "source": [
    "new_dict = {x: x**2 for x in (2, 4, 6)}\n",
    "new_dict"
   ]
  },
  {
   "cell_type": "code",
   "execution_count": null,
   "metadata": {},
   "outputs": [],
   "source": [
    "new_dict[6]"
   ]
  },
  {
   "cell_type": "markdown",
   "metadata": {},
   "source": [
    "When the keys are simple strings, it is sometimes easier to specify pairs using keyword arguments:"
   ]
  },
  {
   "cell_type": "code",
   "execution_count": null,
   "metadata": {},
   "outputs": [],
   "source": [
    "dict(sape=4139, guido=4127, jack=4098)"
   ]
  },
  {
   "cell_type": "markdown",
   "metadata": {},
   "source": [
    "### Dictionary from two lists"
   ]
  },
  {
   "cell_type": "code",
   "execution_count": null,
   "metadata": {
    "tags": []
   },
   "outputs": [],
   "source": [
    "countries = ['Turkey', 'Japan', 'Germany']\n",
    "capitals = ['Ankara', 'Tokyo', 'Berlin']"
   ]
  },
  {
   "cell_type": "code",
   "execution_count": null,
   "metadata": {},
   "outputs": [],
   "source": [
    "capital_dict = dict(zip(countries,capitals))"
   ]
  },
  {
   "cell_type": "code",
   "execution_count": null,
   "metadata": {},
   "outputs": [],
   "source": [
    "print(capital_dict)"
   ]
  },
  {
   "cell_type": "code",
   "execution_count": null,
   "metadata": {
    "tags": []
   },
   "outputs": [],
   "source": [
    "capital_dict['Turkey']"
   ]
  },
  {
   "cell_type": "markdown",
   "metadata": {},
   "source": [
    "## Dictionary Methods\n",
    "\n",
    "Python has a set of built-in methods that you can use on dictionaries.\n",
    "\n",
    "| Method                                                       | Description                                                  |\n",
    "| ------------------------------------------------------------ | ------------------------------------------------------------ |\n",
    "| [clear()](https://www.w3schools.com/python/ref_dictionary_clear.asp) | Removes all the elements from the dictionary                 |\n",
    "| [copy()](https://www.w3schools.com/python/ref_dictionary_copy.asp) | Returns a copy of the dictionary                             |\n",
    "| [fromkeys()](https://www.w3schools.com/python/ref_dictionary_fromkeys.asp) | Returns a dictionary with the specified keys and values      |\n",
    "| [get()](https://www.w3schools.com/python/ref_dictionary_get.asp) | Returns the value of the specified key                       |\n",
    "| [items()](https://www.w3schools.com/python/ref_dictionary_items.asp) | Returns a list containing the a tuple for each key value pair |\n",
    "| [keys()](https://www.w3schools.com/python/ref_dictionary_keys.asp) | Returns a list contianing the dictionary's keys              |\n",
    "| [pop()](https://www.w3schools.com/python/ref_dictionary_pop.asp) | Removes the element with the specified key                   |\n",
    "| [popitem()](https://www.w3schools.com/python/ref_dictionary_popitem.asp) | Removes the last    inserted key-value pair                  |\n",
    "| [setdefault()](https://www.w3schools.com/python/ref_dictionary_setdefault.asp) | Returns the value of the specified key. If the key does not exist: insert the key, with the specified value |\n",
    "| [update()](https://www.w3schools.com/python/ref_dictionary_update.asp) | Updates the dictionary with the specified key-value pairs    |\n",
    "| [values()](https://www.w3schools.com/python/ref_dictionary_values.asp) | Returns a list of all the values in the dictionary           |\n",
    "\n",
    "------"
   ]
  },
  {
   "cell_type": "markdown",
   "metadata": {},
   "source": [
    "## Counting words with dictionaries"
   ]
  },
  {
   "cell_type": "code",
   "execution_count": null,
   "metadata": {},
   "outputs": [],
   "source": [
    "%%HTML\n",
    "\n",
    "<iframe src=\"https://pythontutor.com/iframe-embed.html#code=def%20word_count%28str%29%3A%0A%20%20%20%20counts%20%3D%20\n",
    "dict%28%29%0A%20%20%20%20words%20%3D%20str.split%28%29%0A%0A%20%20%20%20for%20word%20in%20words%3A%0A%20%20%20%20%20%20%20%20\n",
    "if%20word%20in%20counts%3A%0A%20%20%20%20%20%20%20%20%20%20%20%20counts%5Bword%5D%20%2B%3D%201%0A%20%20%20%20%20%20%20%20\n",
    "else%3A%0A%20%20%20%20%20%20%20%20%20%20%20%20counts%5Bword%5D%20%3D%201%0A%0A%20%20%20%20return%20counts%0A%0Aprint%28%20\n",
    "word_count%28'the%20quick%20brown%20fox%20jumps%20over%20the%20lazy%20dog.'%29%29&amp;codeDivHeight=400&amp;codeDivWidth=350&amp;\n",
    "cumulative=false&amp;curInstr=0&amp;heapPrimitives=nevernest&amp;origin=opt-frontend.js&amp;py=3&amp;rawInputLstJSON=%5B%5D&amp;\n",
    "textReferences=false\" width=\"100%\" height=\"500\" frameborder=\"0\"> </iframe>"
   ]
  },
  {
   "cell_type": "markdown",
   "metadata": {},
   "source": [
    "## Another example of word count"
   ]
  },
  {
   "cell_type": "code",
   "execution_count": null,
   "metadata": {},
   "outputs": [],
   "source": [
    "paragraph=\"\"\"One morning, when Gregor Samsa woke from troubled dreams, he found himself transformed in his bed \n",
    "into a horrible vermin. He lay on his armour-like back, and if he lifted his head a little he could see his \n",
    "brown belly, slightly domed and divided by arches into stiff sections. The bedding was hardly able to cover it \n",
    "and seemed ready to slide off any moment. His many legs, pitifully thin compared with the size of the rest of \n",
    "him, waved about helplessly as he looked. \"What's happened to me?\" he thought. It wasn't a dream. His room, a \n",
    "proper human room although a little too small, lay peacefully between its four familiar walls. A collection of \n",
    "textile samples lay spread out on the table - Samsa was a travelling salesman - and above it there hung a picture \n",
    "that he had recently cut out of an illustrated magazine and housed in a nice, gilded frame. It showed a lady \n",
    "fitted out with a fur hat and fur boa who sat upright, raising a heavy fur muff that covered the whole of her \n",
    "lower arm towards the viewer. Gregor then turned to look out the window at the dull weather.\"\"\"\n",
    "\n",
    "#paragraph.lower().translate(None, paragraph.punctuation).split()\n",
    "words = paragraph.replace(\",\",\"\").lower().split()\n",
    "print(words)"
   ]
  },
  {
   "cell_type": "markdown",
   "metadata": {},
   "source": [
    "### Count with loop"
   ]
  },
  {
   "cell_type": "code",
   "execution_count": null,
   "metadata": {},
   "outputs": [],
   "source": [
    "counts=dict()\n",
    "# or\n",
    "# counts={}\n",
    "for word in words:\n",
    "    if word in counts:\n",
    "        counts[word] += 1\n",
    "    else:\n",
    "        counts[word] = 1\n",
    "\n",
    "print(counts)"
   ]
  },
  {
   "cell_type": "markdown",
   "metadata": {},
   "source": [
    "We can access values for particular keys by `dict[key]`notation"
   ]
  },
  {
   "cell_type": "code",
   "execution_count": null,
   "metadata": {},
   "outputs": [],
   "source": [
    "counts[\"he\"]"
   ]
  },
  {
   "cell_type": "code",
   "execution_count": null,
   "metadata": {},
   "outputs": [],
   "source": [
    "counts[\"the\"]"
   ]
  },
  {
   "cell_type": "markdown",
   "metadata": {},
   "source": [
    "Here's another way to generate a dictionary with word counts. In this case, we use `get()` method to access keys, which allows assigning default values (0 in our case) if a key is not found."
   ]
  },
  {
   "cell_type": "code",
   "execution_count": null,
   "metadata": {},
   "outputs": [],
   "source": [
    "counts2={}\n",
    "\n",
    "for word in words: \n",
    "    counts2[word] = counts2.get(word, 0) + 1\n",
    "    \n",
    "print(counts2)"
   ]
  },
  {
   "cell_type": "markdown",
   "metadata": {},
   "source": [
    "### Count with list comprehension"
   ]
  },
  {
   "cell_type": "code",
   "execution_count": null,
   "metadata": {},
   "outputs": [],
   "source": [
    "wordfreq = [words.count(w) for w in words]\n",
    "print(str(wordfreq))"
   ]
  },
  {
   "cell_type": "code",
   "execution_count": null,
   "metadata": {},
   "outputs": [],
   "source": [
    "wordfreq_pairs = dict(zip(words,wordfreq))\n",
    "print(str(wordfreq_pairs))"
   ]
  },
  {
   "cell_type": "markdown",
   "metadata": {},
   "source": [
    "## Dictionary comprehension\n",
    "\n",
    "\n",
    "In addition to list comprehension, dictionary comprehension is possible. Below is the example for even number squares dictionary constructed with both loop and comprehension."
   ]
  },
  {
   "cell_type": "code",
   "execution_count": null,
   "metadata": {},
   "outputs": [],
   "source": [
    "d = {}\n",
    "for i in range(2,21,2):\n",
    "    d[i]=i**2\n",
    "print(d)"
   ]
  },
  {
   "cell_type": "code",
   "execution_count": null,
   "metadata": {},
   "outputs": [],
   "source": [
    "d2 = { num: num**2 for num in range(2,21,2) }\n",
    "print(d2)"
   ]
  },
  {
   "cell_type": "markdown",
   "metadata": {},
   "source": [
    "### about reverse complement of a DNA sequence\n",
    "\n",
    "remember `a_gene`, let's get the reverse complement"
   ]
  },
  {
   "cell_type": "code",
   "execution_count": null,
   "metadata": {},
   "outputs": [],
   "source": [
    "a_gene= \"ACGACTACGACTA\""
   ]
  },
  {
   "cell_type": "markdown",
   "metadata": {},
   "source": [
    "Let's check `translate()` method from [this source](https://www.w3schools.com/python/ref_string_translate.asp):\n",
    "> The `translate()` method returns a string where some specified characters are replaced with the character described in a dictionary, or in a mapping table.\n",
    "> Use the `maketrans()` method to create a mapping table.\n",
    "> If a character is not specified in the dictionary/table, the character will not be replaced.\n",
    "> If you use a dictionary, you **must use ascii codes instead of characters**.\n",
    "\n",
    "Let's use the [ASCII table](https://www.asciitable.com/) to get ASCII codes for A, T, G and C which are 65, 84, 67 and 71, respectively."
   ]
  },
  {
   "cell_type": "code",
   "execution_count": null,
   "metadata": {},
   "outputs": [],
   "source": [
    "dna_table= {65: 84, 84: 65, 67: 71, 71:67}"
   ]
  },
  {
   "cell_type": "code",
   "execution_count": null,
   "metadata": {},
   "outputs": [],
   "source": [
    "a_gene.translate(dna_table)"
   ]
  },
  {
   "cell_type": "markdown",
   "metadata": {},
   "source": [
    "## Complex data structures\n",
    "\n",
    "By mixing and nesting lists and dictionaries altogether pretty complex data structures can emerge. "
   ]
  },
  {
   "cell_type": "code",
   "execution_count": null,
   "metadata": {},
   "outputs": [],
   "source": [
    "people = {1: {'name': 'John', 'age': '27', 'gender': 'Male'},\n",
    "          2: {'name': 'Marie', 'age': '22', 'gender': 'Female'}}\n",
    "\n",
    "print(people[1]['name'])"
   ]
  },
  {
   "cell_type": "code",
   "execution_count": null,
   "metadata": {},
   "outputs": [],
   "source": [
    "countries = {'Turkey': {'capital': 'Ankara', \n",
    "                        'largest_city': {'name': 'Istanbul', 'population':'15.4'},\n",
    "                        'population_million': [72.3, 78.5, 84.3],\n",
    "                        'pop_years': [2010, 2015, 2020] },\n",
    "            'Germany': {'capital': 'Berlin', \n",
    "                        'largest_city': {'name': 'Berlin', 'population':'3.6'},\n",
    "                        'population_million': [81.7, 81.7, 83.2],\n",
    "                        'pop_years': [2010, 2015, 2020] }\n",
    "            }"
   ]
  },
  {
   "cell_type": "code",
   "execution_count": null,
   "metadata": {},
   "outputs": [],
   "source": [
    "countries['Turkey']['largest_city']['population']"
   ]
  },
  {
   "cell_type": "code",
   "execution_count": null,
   "metadata": {},
   "outputs": [],
   "source": [
    "countries['Germany']['population_million'][-1]"
   ]
  }
 ],
 "metadata": {
  "kernelspec": {
   "display_name": "Python 3",
   "language": "python",
   "name": "python3"
  },
  "language_info": {
   "codemirror_mode": {
    "name": "ipython",
    "version": 3
   },
   "file_extension": ".py",
   "mimetype": "text/x-python",
   "name": "python",
   "nbconvert_exporter": "python",
   "pygments_lexer": "ipython3",
   "version": "3.7.10"
  }
 },
 "nbformat": 4,
 "nbformat_minor": 4
}
